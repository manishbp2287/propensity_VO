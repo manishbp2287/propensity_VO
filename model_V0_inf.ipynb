{
 "cells": [
  {
   "cell_type": "code",
   "execution_count": 1,
   "id": "70e236e4-e920-4800-ab49-6cff8ac18092",
   "metadata": {},
   "outputs": [],
   "source": [
    "import altair as alt\n",
    "import numpy as np\n",
    "import pandas as pd\n",
    "import pandas_gbq\n",
    "import os.path\n",
    "import seaborn as sns\n",
    "import category_encoders as ce\n",
    "import pickle\n",
    "import matplotlib.pyplot as plt\n",
    "%matplotlib inline"
   ]
  },
  {
   "cell_type": "code",
   "execution_count": 2,
   "id": "53d06b72-0a96-43f7-aa38-8f80b16af631",
   "metadata": {},
   "outputs": [],
   "source": [
    "import warnings\n",
    "warnings.filterwarnings(\"ignore\")"
   ]
  },
  {
   "cell_type": "code",
   "execution_count": 3,
   "id": "f3125c56-21a8-48db-9e1a-68b8a47aa925",
   "metadata": {},
   "outputs": [],
   "source": [
    "thres_swipe = .7\n",
    "thres_speaker = .7\n",
    "thres_loan = .6"
   ]
  },
  {
   "cell_type": "code",
   "execution_count": 4,
   "id": "87540bd4-ff9d-4635-b20a-edfed54565e2",
   "metadata": {},
   "outputs": [],
   "source": [
    "alt.data_transformers.enable('default', max_rows=None)\n",
    "pd.options.display.max_columns = None"
   ]
  },
  {
   "cell_type": "code",
   "execution_count": 5,
   "id": "508ca977-62c1-4ae5-bbfd-95e5df1f9b01",
   "metadata": {},
   "outputs": [],
   "source": [
    "merchants = pd.read_csv('overall_merchant.csv')\n",
    "# trx = pd.read_csv('overall_trx.csv')\n",
    "app = pd.read_csv('overall_app.csv')"
   ]
  },
  {
   "cell_type": "code",
   "execution_count": 6,
   "id": "ec63cde6-61f8-4783-b6fa-ea408b8a3b35",
   "metadata": {},
   "outputs": [],
   "source": [
    "trx1 = pd.read_csv('trx1.csv')\n",
    "payee1 = pd.read_csv('payee1.csv')\n",
    "payee2 = pd.read_csv('payee2.csv')"
   ]
  },
  {
   "cell_type": "code",
   "execution_count": 7,
   "id": "7d185c86-b77a-40f6-84b2-66a4eddf77a0",
   "metadata": {},
   "outputs": [],
   "source": [
    "##### start"
   ]
  },
  {
   "cell_type": "code",
   "execution_count": 8,
   "id": "32794f3a-eeea-4570-a1e9-2f9f424f93ab",
   "metadata": {},
   "outputs": [],
   "source": [
    "# merchant_test = [8558339,328509,11540219,5412519,24599030,11540219,9192549]\n",
    "\n",
    "# trx1[trx1['merchant_id'].isin(merchant_test)]\n",
    "\n",
    "# payee1[payee1['merchant_id'].isin(merchant_test)]\n",
    "\n",
    "# payee2[payee2['merchant_id'].isin(merchant_test)]\n",
    "\n",
    "# app[app['merchant_id'].isin(merchant_test)]"
   ]
  },
  {
   "cell_type": "code",
   "execution_count": 9,
   "id": "6aac7bf7-d4d0-4b50-8f6d-89ad39243e8b",
   "metadata": {},
   "outputs": [],
   "source": [
    "##### 24599030\n",
    "##### D12F1B696A34419F93EBEF2B4F75F68B\n",
    "\n",
    "##### 8558339\n",
    "##### 1E507C644169441C834677170D8A6A2F"
   ]
  },
  {
   "cell_type": "code",
   "execution_count": 10,
   "id": "dd432e3f-c149-4556-9242-1825303fcfa9",
   "metadata": {},
   "outputs": [],
   "source": [
    "# merchants[merchants['merchant_id'].isin(merchant_test)]"
   ]
  },
  {
   "cell_type": "code",
   "execution_count": 11,
   "id": "06745fd4-4abc-44f0-a835-bb6bd8e65a0f",
   "metadata": {},
   "outputs": [],
   "source": [
    "# list(merchants[merchants['merchant_id'].isin(merchant_test)]['mid'])"
   ]
  },
  {
   "cell_type": "code",
   "execution_count": 12,
   "id": "a13bea99-8f54-4daf-ac3a-390f9d2e5547",
   "metadata": {},
   "outputs": [],
   "source": [
    "##### end"
   ]
  },
  {
   "cell_type": "code",
   "execution_count": 13,
   "id": "3de0923b-4e0d-4d93-8330-c81ccbde07ea",
   "metadata": {},
   "outputs": [
    {
     "name": "stdout",
     "output_type": "stream",
     "text": [
      "There are a total of 2700031 merchants having more than 5 trxn in last 90 days and created after 2022-01-01\n"
     ]
    }
   ],
   "source": [
    "print(f\"There are a total of {merchants.shape[0]} merchants having more than 5 trxn in last 90 days and created after 2022-01-01\")"
   ]
  },
  {
   "cell_type": "code",
   "execution_count": 14,
   "id": "cbcc3d1d-15c9-4dd5-8951-b3a7e9186862",
   "metadata": {},
   "outputs": [],
   "source": [
    "pdt_final = pd.DataFrame()\n",
    "pdt_final['merchant_id'] = merchants['merchant_id']"
   ]
  },
  {
   "cell_type": "code",
   "execution_count": 15,
   "id": "7f34cc43-60ce-4630-ba44-faa8acf1f37a",
   "metadata": {},
   "outputs": [],
   "source": [
    "geo = 'geohash4'\n",
    "rel_cols = ['merchant_id', 'vintage','zone_name','business_category',geo,'speaker_eligibility','swipe_eligibility','lending_eligibility']\n",
    "\n",
    "pdt = merchants[rel_cols]"
   ]
  },
  {
   "cell_type": "code",
   "execution_count": 16,
   "id": "89cf4d14-9e7e-4cb0-9f79-093498674b77",
   "metadata": {},
   "outputs": [],
   "source": [
    "pdt_final = pdt_final.merge(pdt, how = 'left', left_on = \"merchant_id\", right_on = \"merchant_id\")"
   ]
  },
  {
   "cell_type": "code",
   "execution_count": 17,
   "id": "fa438a4c-578e-4bcf-bbdc-df1a49485611",
   "metadata": {},
   "outputs": [],
   "source": [
    "# pdt_final = pdt_final.merge(trx, how = 'left', left_on = \"merchant_id\", right_on = \"merchant_id\")"
   ]
  },
  {
   "cell_type": "code",
   "execution_count": 18,
   "id": "b3a52e3d-104b-4bcc-88e0-afb16ccfc0ef",
   "metadata": {},
   "outputs": [],
   "source": [
    "pdt_final = pdt_final.merge(trx1, how = 'left', left_on = \"merchant_id\", right_on = \"merchant_id\")\n",
    "pdt_final = pdt_final.merge(payee1, how = 'left', left_on = \"merchant_id\", right_on = \"merchant_id\")\n",
    "pdt_final = pdt_final.merge(payee2, how = 'left', left_on = \"merchant_id\", right_on = \"merchant_id\")"
   ]
  },
  {
   "cell_type": "code",
   "execution_count": 19,
   "id": "60e6ac50-ed67-43b3-b77c-843c871adcf1",
   "metadata": {},
   "outputs": [],
   "source": [
    "pdt_final = pdt_final.merge(app, how = 'left', left_on = \"merchant_id\", right_on = \"merchant_id\")"
   ]
  },
  {
   "cell_type": "code",
   "execution_count": 20,
   "id": "7f1ef5f2-45c2-4b86-8c8c-4f35da82dad4",
   "metadata": {},
   "outputs": [],
   "source": [
    "c1 = pdt_final['w1_txn_count'] - pdt_final['w2_txn_count']\n",
    "c2 = pdt_final['w2_txn_count'] - pdt_final['w3_txn_count']\n",
    "pdt_final['trend'] = np.where((c1>0) & (c2>0), \"up\",np.where((c1<0) & (c2<0),\"down\",\"flat\"))"
   ]
  },
  {
   "cell_type": "code",
   "execution_count": 21,
   "id": "e2d5f102-98d0-4799-9686-be5c84e1ef2d",
   "metadata": {},
   "outputs": [
    {
     "data": {
      "text/plain": [
       "(2700031, 50)"
      ]
     },
     "execution_count": 21,
     "metadata": {},
     "output_type": "execute_result"
    }
   ],
   "source": [
    "pdt_final.shape"
   ]
  },
  {
   "cell_type": "code",
   "execution_count": 22,
   "id": "ccae6fb8-f9af-48df-9129-5b9a112b6b27",
   "metadata": {},
   "outputs": [],
   "source": [
    "# pdt_final[pdt_final['txn_count_90_days'].isna()]"
   ]
  },
  {
   "cell_type": "code",
   "execution_count": 23,
   "id": "1b75ea36-a475-43b4-bfab-4d6a0656d324",
   "metadata": {},
   "outputs": [],
   "source": [
    "pdt_final = pdt_final[~pdt_final['txn_count_90_days'].isna()]"
   ]
  },
  {
   "cell_type": "code",
   "execution_count": 24,
   "id": "84b7f9f8-9369-43f7-9c8a-e595375e7078",
   "metadata": {},
   "outputs": [
    {
     "name": "stderr",
     "output_type": "stream",
     "text": [
      "Downloading: 100%|██████████| 9236615/9236615 [04:51<00:00, 31685.55rows/s]\n"
     ]
    }
   ],
   "source": [
    "device = \"\"\"\n",
    "SELECT * FROM `bharatpe-analytics-prod.bharatpe_ml_data.merchant_device_info`\n",
    "\"\"\"\n",
    "device = pandas_gbq.read_gbq(device)"
   ]
  },
  {
   "cell_type": "code",
   "execution_count": 25,
   "id": "a059cf09-cd6e-4140-b456-d6fcbc69d84c",
   "metadata": {},
   "outputs": [],
   "source": [
    "pdt_final = pdt_final.merge(device[['merchant_id','manufacturer']], how = 'left', left_on = \"merchant_id\", right_on = \"merchant_id\")"
   ]
  },
  {
   "cell_type": "code",
   "execution_count": 26,
   "id": "6943488a-a0de-415c-8ef6-a015973a3e34",
   "metadata": {},
   "outputs": [],
   "source": [
    "major_brands = ['vivo',\n",
    " 'samsung',\n",
    " 'other',\n",
    " 'xiaomi',\n",
    " 'oppo',\n",
    " 'realme',\n",
    " 'oneplus',\n",
    " 'apple',\n",
    " 'motorola',\n",
    " 'tecno',\n",
    " 'huawei',\n",
    " 'infinix',\n",
    " 'hmd',\n",
    " 'lge',\n",
    " 'lenovo',\n",
    " 'asus',\n",
    " 'itel',\n",
    " 'google',\n",
    " 'lava',\n",
    " 'micromax']"
   ]
  },
  {
   "cell_type": "code",
   "execution_count": 27,
   "id": "2ceb66b3-637e-45e2-bc3d-e5131753eb73",
   "metadata": {},
   "outputs": [],
   "source": [
    "pdt_final['manufacturer'] = pdt_final['manufacturer'].str.lower()\n",
    "pdt_final['manufacturer'] = pdt_final['manufacturer'].replace({'tecno mobile limited': 'tecno', 'infinix mobility limited': 'infinix', 'hmd global': 'hmd'\\\n",
    "                                   , 'itel mobile limited': 'itel'})\n",
    "\n",
    "# major_brands = list(pdt_final['manufacturer'].str.lower().value_counts()[:20].index)\n",
    "\n",
    "pdt_final['manufacturer'] = np.where(pdt_final['manufacturer'].isin(major_brands),pdt_final['manufacturer'], 'other')\n",
    "# pdt_final['version'] = pdt_final['version'].apply(lambda x :\"new\" if x in ('11','12') else 'old')"
   ]
  },
  {
   "cell_type": "code",
   "execution_count": 28,
   "id": "2cce6348-7036-4446-8ab0-9f678a4fc231",
   "metadata": {},
   "outputs": [],
   "source": [
    "del(device)"
   ]
  },
  {
   "cell_type": "code",
   "execution_count": 29,
   "id": "80e64453-ce69-47c1-a014-9520183389c6",
   "metadata": {},
   "outputs": [],
   "source": [
    "loc_hash_density = pdt_final.groupby(geo).apply(lambda x:x['merchant_id'].nunique()).sort_values(ascending = False).to_dict()\n",
    "pdt_final['loc_hash_density'] = pdt_final[geo].map(loc_hash_density)"
   ]
  },
  {
   "cell_type": "code",
   "execution_count": 30,
   "id": "4ca9714a-0175-460a-a5ae-3046c48dc565",
   "metadata": {},
   "outputs": [],
   "source": [
    "loc_hash_atv = pdt_final.groupby(geo).apply(lambda x:x['total_tpv'].sum()/ len(x)).sort_values(ascending = False).to_dict()\n",
    "pdt_final['loc_hash_atv'] = pdt_final[geo].map(loc_hash_atv)"
   ]
  },
  {
   "cell_type": "code",
   "execution_count": 31,
   "id": "ae084b83-f3dc-452b-965d-fe25e9000a54",
   "metadata": {},
   "outputs": [],
   "source": [
    "loc_hash_tpv = pdt_final.groupby(geo).apply(lambda x:x['total_tpv'].sum()).sort_values(ascending = False).to_dict()\n",
    "pdt_final['loc_hash_tpv'] = pdt_final[geo].map(loc_hash_tpv)"
   ]
  },
  {
   "cell_type": "code",
   "execution_count": 32,
   "id": "dec81e5b-93c2-4db8-93e2-438f9abc995f",
   "metadata": {},
   "outputs": [],
   "source": [
    "pdt_final['m1_atv'] = pdt_final['m1_tpv']/pdt_final['m1_txn_count']\n",
    "pdt_final['m2_atv'] = pdt_final['m2_tpv']/pdt_final['m2_txn_count']\n",
    "pdt_final['total_atv'] = pdt_final['total_tpv']/pdt_final['total_txn_count']\n",
    "pdt_final['txn_activeday'] = pdt_final['total_txn_count']/pdt_final['total_active_vintage']\n",
    "pdt_final['m1_txn_activeday'] = pdt_final['m1_txn_count']/pdt_final['m1_active_days']\n",
    "pdt_final['m2_txn_activeday'] = pdt_final['m2_txn_count']/pdt_final['m2_active_days']\n",
    "# pdt_final['m3_txn_activeday'] = pdt_final['m3_txn_count']/pdt_final['m3_active_days']\n",
    "pdt_final['m1_max_daily_by_tpv'] = pdt_final['m1_max_daily_tpv']/pdt_final['m1_tpv']\n",
    "# pdt_final['m2_max_daily_by_tpv'] = pdt_final['m2_max_daily_tpv']/pdt_final['m2_tpv']\n",
    "# pdt_final['m3_max_daily_by_tpv'] = pdt_final['m3_max_daily_tpv']/pdt_final['m3_tpv']\n",
    "pdt_final['m1_max_daily_by_payees'] = pdt_final['m1_max_daily_payees']/pdt_final['m1_unique_payers']\n",
    "pdt_final['m1_max_daily_by_txns'] = pdt_final['m1_max_daily_txns']/pdt_final['m1_txn_count']"
   ]
  },
  {
   "cell_type": "code",
   "execution_count": 33,
   "id": "dd72c245-eec5-4c60-92d8-5c1602b105c6",
   "metadata": {},
   "outputs": [],
   "source": [
    "ONE_HOT_COLS = ['zone_name', 'business_category', 'trend',geo,'manufacturer']\n",
    "\n",
    "for c in ONE_HOT_COLS:\n",
    "    pdt_final[c].fillna(pdt_final[c].mode(), inplace=True)"
   ]
  },
  {
   "cell_type": "code",
   "execution_count": 34,
   "id": "0a18c5c8-21b3-4467-bb9c-bfd134ab2067",
   "metadata": {},
   "outputs": [],
   "source": [
    "# nan_ind = list(pdt_final[pdt_final[ONE_HOT_COLS].isnull().any(axis=1) == 1].index)\n",
    "# pdt_final = pdt_final[~pdt_final.index.isin(nan_ind)]"
   ]
  },
  {
   "cell_type": "code",
   "execution_count": 35,
   "id": "3863c98b-b431-403d-bbd0-af6a0c6ad494",
   "metadata": {},
   "outputs": [],
   "source": [
    "num_cols = list(pdt_final.columns[pdt_final.dtypes!=np.object][2:])\n",
    "cat_cols = pdt_final.columns[pdt_final.dtypes==np.object]"
   ]
  },
  {
   "cell_type": "code",
   "execution_count": 36,
   "id": "f02c1cd7-0bea-467b-9afa-0d870e7aa0ae",
   "metadata": {},
   "outputs": [],
   "source": [
    "pdt_final.loc[pdt_final['vintage']<0,'vintage']=0"
   ]
  },
  {
   "cell_type": "code",
   "execution_count": 37,
   "id": "c9a5c5f4-1f0e-4d77-8f6e-0bddbfabfe14",
   "metadata": {},
   "outputs": [],
   "source": [
    "for c in ONE_HOT_COLS:\n",
    "    pdt_final[c] = pdt_final[c].astype(\"category\")"
   ]
  },
  {
   "cell_type": "code",
   "execution_count": 38,
   "id": "08692063-0482-4b9f-97b1-f7874dabfd3c",
   "metadata": {},
   "outputs": [],
   "source": [
    "base_cols = ['w1_unique_payers', 'w2_unique_payers', 'm1_unique_payers',\n",
    "       'm2_unique_payers', 'm3_unique_payers', 'unique_payers_90_days',\n",
    "       'total_unique_payers', 'w1_txn_count', 'w2_txn_count', 'w3_txn_count',\n",
    "       'm1_txn_count', 'm2_txn_count', 'm3_txn_count', 'txn_count_90_days',\n",
    "       'total_txn_count', 'total_active_vintage', 'w1_tpv', 'w2_tpv', 'm1_tpv',\n",
    "       'm2_tpv', 'm3_tpv', 'tpv_90_days', 'total_tpv', 'm1_active_days',\n",
    "       'm2_active_days', 'm3_active_days', 'm1_max_daily_tpv',\n",
    "       'm2_max_daily_tpv', 'm3_max_daily_tpv', 'm1_max_daily_payees',\n",
    "       'm2_max_daily_payees', 'm3_max_daily_payees', 'm1_max_daily_txns',\n",
    "       'm2_max_daily_txns', 'm3_max_daily_txns', 'm1_atv', 'm2_atv',\n",
    "       'total_atv', 'txn_activeday', 'm1_txn_activeday', 'm2_txn_activeday',\n",
    "       'm1_max_daily_by_tpv', 'm1_max_daily_by_payees', 'm1_max_daily_by_txns',\n",
    "       'zone_name', 'business_category', 'trend', geo,'vintage','manufacturer','loc_hash_density','loc_hash_atv','loc_hash_tpv']"
   ]
  },
  {
   "cell_type": "code",
   "execution_count": 39,
   "id": "c5b8796b-90e3-4bc4-be63-97124bc64779",
   "metadata": {},
   "outputs": [],
   "source": [
    "# del(merchants)\n",
    "# del(trx)\n",
    "del(app)\n",
    "del(trx1)\n",
    "del(payee1)\n",
    "del(payee2)"
   ]
  },
  {
   "cell_type": "code",
   "execution_count": 40,
   "id": "2476f91c-a3ba-45e5-bcea-366357793bc8",
   "metadata": {},
   "outputs": [],
   "source": [
    "##### swipe inference"
   ]
  },
  {
   "cell_type": "code",
   "execution_count": 41,
   "id": "23ac2f88-9436-41e0-bc1d-f3a41aeec1ca",
   "metadata": {},
   "outputs": [
    {
     "data": {
      "text/html": [
       "<div>\n",
       "<style scoped>\n",
       "    .dataframe tbody tr th:only-of-type {\n",
       "        vertical-align: middle;\n",
       "    }\n",
       "\n",
       "    .dataframe tbody tr th {\n",
       "        vertical-align: top;\n",
       "    }\n",
       "\n",
       "    .dataframe thead th {\n",
       "        text-align: right;\n",
       "    }\n",
       "</style>\n",
       "<table border=\"1\" class=\"dataframe\">\n",
       "  <thead>\n",
       "    <tr style=\"text-align: right;\">\n",
       "      <th></th>\n",
       "      <th>merchant_id</th>\n",
       "      <th>prob_swipe</th>\n",
       "    </tr>\n",
       "  </thead>\n",
       "  <tbody>\n",
       "    <tr>\n",
       "      <th>0</th>\n",
       "      <td>35015940</td>\n",
       "      <td>0.361982</td>\n",
       "    </tr>\n",
       "    <tr>\n",
       "      <th>1</th>\n",
       "      <td>35016250</td>\n",
       "      <td>0.367602</td>\n",
       "    </tr>\n",
       "    <tr>\n",
       "      <th>2</th>\n",
       "      <td>11021470</td>\n",
       "      <td>0.236049</td>\n",
       "    </tr>\n",
       "    <tr>\n",
       "      <th>3</th>\n",
       "      <td>11020900</td>\n",
       "      <td>0.117694</td>\n",
       "    </tr>\n",
       "    <tr>\n",
       "      <th>4</th>\n",
       "      <td>11022540</td>\n",
       "      <td>0.000106</td>\n",
       "    </tr>\n",
       "  </tbody>\n",
       "</table>\n",
       "</div>"
      ],
      "text/plain": [
       "   merchant_id  prob_swipe\n",
       "0     35015940    0.361982\n",
       "1     35016250    0.367602\n",
       "2     11021470    0.236049\n",
       "3     11020900    0.117694\n",
       "4     11022540    0.000106"
      ]
     },
     "execution_count": 41,
     "metadata": {},
     "output_type": "execute_result"
    }
   ],
   "source": [
    "product = \"swipe\"\n",
    "final_cols = base_cols + [f'w1_{product}_sessions',f'm1_{product}_sessions']\n",
    "\n",
    "X_swipe = pdt_final[final_cols]\n",
    "\n",
    "X_swipe_merchant = pdt_final['merchant_id']\n",
    "\n",
    "X_swipe.rename(columns = {f'w1_{product}_sessions':'w1_sessions', f'm1_{product}_sessions':'m1_sessions'}, inplace = True)\n",
    "\n",
    "clf = pickle.load(open(f\"{product}_model\", 'rb'))\n",
    "\n",
    "swipe_f = pd.DataFrame()\n",
    "swipe_f['merchant_id'] = X_swipe_merchant\n",
    "swipe_f[f'prob_{product}'] = clf.predict_proba(X_swipe)[:,1]\n",
    "\n",
    "# swipe_f[f'pred_{product}_buy'] = np.where(swipe_f[f'p_{product}']>.5,1,0)\n",
    "\n",
    "# swipe_f[f'{product}_flag'] = swipe_f['merchant_id'].map(swipe_mer)\n",
    "# swipe_f.sort_values(by=[f'p_{product}'], ascending = False, inplace = True)\n",
    "# app_merchants = pd.read_csv(f'{product}_total_application_merchants.csv')\n",
    "# swipe_f[f'{product}_application'] = np.where(swipe_f['merchant_id'].isin(app_merchants['merchant_id']),1,0)\n",
    "swipe_f.head()"
   ]
  },
  {
   "cell_type": "code",
   "execution_count": 42,
   "id": "2b8f3fe1-cfdc-41df-b2fb-55ac24529cbf",
   "metadata": {},
   "outputs": [],
   "source": [
    "swipe_map = swipe_f.set_index('merchant_id')['prob_swipe'].to_dict()\n",
    "\n",
    "pdt_final['prob_swipe'] = pdt_final['merchant_id'].map(swipe_map)"
   ]
  },
  {
   "cell_type": "code",
   "execution_count": 43,
   "id": "871cfa16-0111-436b-b6f8-46f612ce54b2",
   "metadata": {},
   "outputs": [],
   "source": [
    "# swipe_f[swipe_f['swipe_flag'] ==1]['p_swipe'].mean()"
   ]
  },
  {
   "cell_type": "code",
   "execution_count": 44,
   "id": "05c5b6d2-ccd4-4078-afeb-e5e453f5bdbe",
   "metadata": {},
   "outputs": [],
   "source": [
    "# swipe_f[swipe_f['swipe_flag'] ==0]['p_swipe'].mean()"
   ]
  },
  {
   "cell_type": "code",
   "execution_count": 45,
   "id": "79b26640-2732-484a-83ba-cf4b78d9e9c7",
   "metadata": {},
   "outputs": [],
   "source": [
    "swipe_f.to_csv(\"swipe_f.csv\", index = False)\n",
    "del(swipe_f)"
   ]
  },
  {
   "cell_type": "code",
   "execution_count": 46,
   "id": "75d79fd2-2f7c-41cf-b309-d29919741722",
   "metadata": {},
   "outputs": [],
   "source": [
    "##### speaker inference"
   ]
  },
  {
   "cell_type": "code",
   "execution_count": 47,
   "id": "0086a129-fbfa-4768-ac2d-5e429b6ca10d",
   "metadata": {},
   "outputs": [
    {
     "data": {
      "text/html": [
       "<div>\n",
       "<style scoped>\n",
       "    .dataframe tbody tr th:only-of-type {\n",
       "        vertical-align: middle;\n",
       "    }\n",
       "\n",
       "    .dataframe tbody tr th {\n",
       "        vertical-align: top;\n",
       "    }\n",
       "\n",
       "    .dataframe thead th {\n",
       "        text-align: right;\n",
       "    }\n",
       "</style>\n",
       "<table border=\"1\" class=\"dataframe\">\n",
       "  <thead>\n",
       "    <tr style=\"text-align: right;\">\n",
       "      <th></th>\n",
       "      <th>merchant_id</th>\n",
       "      <th>prob_speaker</th>\n",
       "    </tr>\n",
       "  </thead>\n",
       "  <tbody>\n",
       "    <tr>\n",
       "      <th>0</th>\n",
       "      <td>35015940</td>\n",
       "      <td>0.576731</td>\n",
       "    </tr>\n",
       "    <tr>\n",
       "      <th>1</th>\n",
       "      <td>35016250</td>\n",
       "      <td>0.711347</td>\n",
       "    </tr>\n",
       "    <tr>\n",
       "      <th>2</th>\n",
       "      <td>11021470</td>\n",
       "      <td>0.690153</td>\n",
       "    </tr>\n",
       "    <tr>\n",
       "      <th>3</th>\n",
       "      <td>11020900</td>\n",
       "      <td>0.296064</td>\n",
       "    </tr>\n",
       "    <tr>\n",
       "      <th>4</th>\n",
       "      <td>11022540</td>\n",
       "      <td>0.000027</td>\n",
       "    </tr>\n",
       "  </tbody>\n",
       "</table>\n",
       "</div>"
      ],
      "text/plain": [
       "   merchant_id  prob_speaker\n",
       "0     35015940      0.576731\n",
       "1     35016250      0.711347\n",
       "2     11021470      0.690153\n",
       "3     11020900      0.296064\n",
       "4     11022540      0.000027"
      ]
     },
     "execution_count": 47,
     "metadata": {},
     "output_type": "execute_result"
    }
   ],
   "source": [
    "product = \"speaker\"\n",
    "final_cols = base_cols + [f'w1_{product}_sessions',f'm1_{product}_sessions']\n",
    "\n",
    "X_speaker = pdt_final[final_cols]\n",
    "\n",
    "X_speaker_merchant = pdt_final['merchant_id']\n",
    "\n",
    "X_speaker.rename(columns = {f'w1_{product}_sessions':'w1_sessions', f'm1_{product}_sessions':'m1_sessions'}, inplace = True)\n",
    "\n",
    "clf = pickle.load(open(f\"{product}_model\", 'rb'))\n",
    "\n",
    "speaker_f = pd.DataFrame()\n",
    "speaker_f['merchant_id'] = X_speaker_merchant\n",
    "speaker_f[f'prob_{product}'] = clf.predict_proba(X_speaker)[:,1]\n",
    "\n",
    "# speaker_f[f'pred_{product}_buy'] = np.where(speaker_f[f'p_{product}']>.5,1,0)\n",
    "\n",
    "# speaker_f[f'{product}_flag'] = speaker_f['merchant_id'].map(speaker_mer)\n",
    "# speaker_f.sort_values(by=[f'p_{product}'], ascending = False, inplace = True)\n",
    "# app_merchants = pd.read_csv(f'{product}_total_application_merchants.csv')\n",
    "# speaker_f[f'{product}_application'] = np.where(speaker_f['merchant_id'].isin(app_merchants['merchant_id']),1,0)\n",
    "speaker_f.head()"
   ]
  },
  {
   "cell_type": "code",
   "execution_count": 48,
   "id": "a105b2a9-64c1-4e65-b23a-3d5e8810f170",
   "metadata": {},
   "outputs": [],
   "source": [
    "speaker_map = speaker_f.set_index('merchant_id')['prob_speaker'].to_dict()\n",
    "\n",
    "pdt_final['prob_speaker'] = pdt_final['merchant_id'].map(speaker_map)"
   ]
  },
  {
   "cell_type": "code",
   "execution_count": 49,
   "id": "0cae63b8-d0ae-42f0-ab1a-35c8b2140e6a",
   "metadata": {},
   "outputs": [],
   "source": [
    "# speaker_f[speaker_f['speaker_flag'] ==1]['p_speaker'].mean()"
   ]
  },
  {
   "cell_type": "code",
   "execution_count": 50,
   "id": "b36259ba-d72d-4cb7-978b-a602d3c43329",
   "metadata": {},
   "outputs": [],
   "source": [
    "# speaker_f[speaker_f['speaker_flag'] ==0]['p_speaker'].mean()"
   ]
  },
  {
   "cell_type": "code",
   "execution_count": 51,
   "id": "5ec47f03-6a33-4423-8d7e-37cc35d89eae",
   "metadata": {},
   "outputs": [],
   "source": [
    "speaker_f.to_csv(\"speaker_f.csv\", index = False)\n",
    "del(speaker_f)"
   ]
  },
  {
   "cell_type": "code",
   "execution_count": 52,
   "id": "480b03db-51c7-4bc5-974b-c4155373c786",
   "metadata": {},
   "outputs": [],
   "source": [
    "##### loan inference"
   ]
  },
  {
   "cell_type": "code",
   "execution_count": 53,
   "id": "456e5b78-4d42-41ce-8e12-bb4a9b364cb3",
   "metadata": {},
   "outputs": [
    {
     "name": "stdout",
     "output_type": "stream",
     "text": [
      "Variable    Type         Data/Info\n",
      "----------------------------------\n",
      "X_speaker   DataFrame             w1_unique_payers<...>658596 rows x 55 columns]\n",
      "X_swipe     DataFrame             w1_unique_payers<...>658596 rows x 55 columns]\n",
      "merchants   DataFrame             merchant_id     <...>700031 rows x 38 columns]\n",
      "pdt         DataFrame             merchant_id  vin<...>2700031 rows x 8 columns]\n",
      "pdt_final   DataFrame             merchant_id  vin<...>658596 rows x 65 columns]\n"
     ]
    }
   ],
   "source": [
    "%whos DataFrame"
   ]
  },
  {
   "cell_type": "code",
   "execution_count": 54,
   "id": "a1c31b09-64b7-4d50-a812-a8cf5325594a",
   "metadata": {},
   "outputs": [],
   "source": [
    "del(pdt)\n",
    "del(X_speaker)\n",
    "del(X_swipe)"
   ]
  },
  {
   "cell_type": "code",
   "execution_count": 55,
   "id": "4f7d3916-0d12-4fb2-81f8-53a076f54932",
   "metadata": {},
   "outputs": [
    {
     "data": {
      "text/html": [
       "<div>\n",
       "<style scoped>\n",
       "    .dataframe tbody tr th:only-of-type {\n",
       "        vertical-align: middle;\n",
       "    }\n",
       "\n",
       "    .dataframe tbody tr th {\n",
       "        vertical-align: top;\n",
       "    }\n",
       "\n",
       "    .dataframe thead th {\n",
       "        text-align: right;\n",
       "    }\n",
       "</style>\n",
       "<table border=\"1\" class=\"dataframe\">\n",
       "  <thead>\n",
       "    <tr style=\"text-align: right;\">\n",
       "      <th></th>\n",
       "      <th>merchant_id</th>\n",
       "      <th>prob_loan</th>\n",
       "    </tr>\n",
       "  </thead>\n",
       "  <tbody>\n",
       "    <tr>\n",
       "      <th>0</th>\n",
       "      <td>35015940</td>\n",
       "      <td>0.749113</td>\n",
       "    </tr>\n",
       "    <tr>\n",
       "      <th>1</th>\n",
       "      <td>35016250</td>\n",
       "      <td>0.312718</td>\n",
       "    </tr>\n",
       "    <tr>\n",
       "      <th>2</th>\n",
       "      <td>11021470</td>\n",
       "      <td>0.061308</td>\n",
       "    </tr>\n",
       "    <tr>\n",
       "      <th>3</th>\n",
       "      <td>11020900</td>\n",
       "      <td>0.431917</td>\n",
       "    </tr>\n",
       "    <tr>\n",
       "      <th>4</th>\n",
       "      <td>11022540</td>\n",
       "      <td>0.000614</td>\n",
       "    </tr>\n",
       "  </tbody>\n",
       "</table>\n",
       "</div>"
      ],
      "text/plain": [
       "   merchant_id  prob_loan\n",
       "0     35015940   0.749113\n",
       "1     35016250   0.312718\n",
       "2     11021470   0.061308\n",
       "3     11020900   0.431917\n",
       "4     11022540   0.000614"
      ]
     },
     "execution_count": 55,
     "metadata": {},
     "output_type": "execute_result"
    }
   ],
   "source": [
    "product = \"loan\"\n",
    "final_cols = base_cols + [f'w1_{product}_sessions',f'm1_{product}_sessions']\n",
    "\n",
    "X_loan = pdt_final[final_cols]\n",
    "\n",
    "X_loan_merchant = pdt_final['merchant_id']\n",
    "\n",
    "X_loan.rename(columns = {f'w1_{product}_sessions':'w1_sessions', f'm1_{product}_sessions':'m1_sessions'}, inplace = True)\n",
    "\n",
    "clf = pickle.load(open(f\"{product}_model\", 'rb'))\n",
    "\n",
    "loan_f = pd.DataFrame()\n",
    "loan_f['merchant_id'] = X_loan_merchant\n",
    "loan_f[f'prob_{product}'] = clf.predict_proba(X_loan)[:,1]\n",
    "\n",
    "# loan_f[f'pred_{product}_buy'] = np.where(loan_f[f'p_{product}']>.5,1,0)\n",
    "\n",
    "# loan_f[f'{product}_flag'] = loan_f['merchant_id'].map(loan_mer)\n",
    "# loan_f.sort_values(by=[f'p_{product}'], ascending = False, inplace = True)\n",
    "# app_merchants = pd.read_csv(f'{product}_total_application_merchants.csv')\n",
    "# loan_f[f'{product}_application'] = np.where(loan_f['merchant_id'].isin(app_merchants['merchant_id']),1,0)\n",
    "loan_f.head()"
   ]
  },
  {
   "cell_type": "code",
   "execution_count": 56,
   "id": "ffc3ad95-8584-4d50-8547-ad51758fcd5e",
   "metadata": {},
   "outputs": [],
   "source": [
    "loan_map = loan_f.set_index('merchant_id')['prob_loan'].to_dict()\n",
    "\n",
    "pdt_final['prob_loan'] = pdt_final['merchant_id'].map(loan_map)"
   ]
  },
  {
   "cell_type": "code",
   "execution_count": 57,
   "id": "fea81eeb-6cf6-4674-9097-d23722824327",
   "metadata": {},
   "outputs": [],
   "source": [
    "# loan_f[loan_f['loan_flag'] ==1]['p_loan'].mean()"
   ]
  },
  {
   "cell_type": "code",
   "execution_count": 58,
   "id": "de735736-11d7-475d-a2d4-f1af6632a463",
   "metadata": {},
   "outputs": [],
   "source": [
    "# loan_f[loan_f['loan_flag'] ==0]['p_loan'].mean()"
   ]
  },
  {
   "cell_type": "code",
   "execution_count": 59,
   "id": "0937e9c9-1fd9-4949-a61a-2c1b90116c39",
   "metadata": {},
   "outputs": [],
   "source": [
    "loan_f.to_csv(\"loan_f.csv\", index = False)\n",
    "del(loan_f)\n",
    "del(X_loan)"
   ]
  },
  {
   "cell_type": "code",
   "execution_count": 60,
   "id": "d4100bf0-0054-40b2-85b5-306ab45859a6",
   "metadata": {},
   "outputs": [],
   "source": [
    "swipe_mer = merchants.set_index('merchant_id')['swipe_flag'].to_dict()\n",
    "speaker_mer = merchants.set_index('merchant_id')['speaker_flag'].to_dict()\n",
    "loan_mer = merchants.set_index('merchant_id')['loan_flag'].to_dict()"
   ]
  },
  {
   "cell_type": "code",
   "execution_count": 61,
   "id": "5f987de0-bda1-465e-8c00-6a04b6c11442",
   "metadata": {},
   "outputs": [],
   "source": [
    "pdt_final['swipe_flag'] = pdt_final['merchant_id'].map(swipe_mer)\n",
    "pdt_final['speaker_flag'] = pdt_final['merchant_id'].map(speaker_mer)\n",
    "pdt_final['loan_flag'] = pdt_final['merchant_id'].map(loan_mer)"
   ]
  },
  {
   "cell_type": "code",
   "execution_count": 62,
   "id": "dbbaf511-8d0f-444e-9998-5ebbe59f4779",
   "metadata": {},
   "outputs": [],
   "source": [
    "del(swipe_mer)\n",
    "del(speaker_mer)\n",
    "del(loan_mer)"
   ]
  },
  {
   "cell_type": "code",
   "execution_count": 63,
   "id": "c1c1b591-86f1-4c11-9818-c9c955ad4256",
   "metadata": {},
   "outputs": [],
   "source": [
    "def loan_ltv(x):\n",
    "    # x = pdt_final.loc[0,['lending_eligibility', 'prob_loan','m1_tpv','m2_tpv']]\n",
    "    avg_tpv = (x['m1_tpv'] + x['m2_tpv'])/2\n",
    "    disposable_amount = .5*avg_tpv*2 # 2 loans per merchant\n",
    "    ltv = 6*.12*disposable_amount*x['prob_loan']*x['lending_eligibility']\n",
    "    return ltv"
   ]
  },
  {
   "cell_type": "code",
   "execution_count": 64,
   "id": "cef49762-17ce-47cc-af72-678015df4a4f",
   "metadata": {},
   "outputs": [],
   "source": [
    "pdt_final['loan_ltv'] = pdt_final.loc[:,['lending_eligibility', 'prob_loan','m1_tpv','m2_tpv']].apply(lambda x:loan_ltv(x), axis=1)"
   ]
  },
  {
   "cell_type": "code",
   "execution_count": 65,
   "id": "f2f779b7-7684-4dbf-a7f1-3097b1c9c8e1",
   "metadata": {},
   "outputs": [],
   "source": [
    "def speaker_ltv(x):\n",
    "    # x = pdt_final.loc[0,['speaker_eligibility', 'prob_speaker','m1_tpv','m2_tpv']]\n",
    "    ltv = 12*120*x['prob_speaker']*x['speaker_eligibility']\n",
    "    return ltv"
   ]
  },
  {
   "cell_type": "code",
   "execution_count": 66,
   "id": "30883f69-9976-4556-9a45-fedb247e14c2",
   "metadata": {},
   "outputs": [],
   "source": [
    "pdt_final['speaker_ltv'] = pdt_final.loc[:,['speaker_eligibility', 'prob_speaker','m1_tpv','m2_tpv']].apply(lambda x:speaker_ltv(x), axis=1)"
   ]
  },
  {
   "cell_type": "code",
   "execution_count": 67,
   "id": "646d61e4-f353-4ac7-85b7-ca095ac75304",
   "metadata": {},
   "outputs": [],
   "source": [
    "def swipe_ltv(x):\n",
    "    avg_tpv = (x['m1_tpv'] + x['m2_tpv'])/2\n",
    "    ltv = avg_tpv*12*.02*x['prob_swipe']*x['swipe_eligibility']\n",
    "    return ltv"
   ]
  },
  {
   "cell_type": "code",
   "execution_count": 68,
   "id": "eb0a99a2-315e-43c1-84a9-d044eb8b46bb",
   "metadata": {},
   "outputs": [],
   "source": [
    "pdt_final['swipe_ltv'] = pdt_final.loc[:,['swipe_eligibility', 'prob_swipe','m1_tpv','m2_tpv']].apply(lambda x:swipe_ltv(x), axis=1)"
   ]
  },
  {
   "cell_type": "code",
   "execution_count": 69,
   "id": "ef75a094-4dcb-45b3-b245-7e9ac1985f0b",
   "metadata": {},
   "outputs": [],
   "source": [
    "pdt_final['mltv'] = pdt_final['loan_ltv'] + pdt_final['speaker_ltv'] +pdt_final['swipe_ltv']"
   ]
  },
  {
   "cell_type": "code",
   "execution_count": 70,
   "id": "2f518a21-d03f-4ac2-a0c4-fabfd2c24629",
   "metadata": {},
   "outputs": [],
   "source": [
    "# pdt_final['prob_loan'].hist(bins = 100)"
   ]
  },
  {
   "cell_type": "code",
   "execution_count": 71,
   "id": "36b39d63-f380-4708-9b1a-4fd2dd17a2de",
   "metadata": {},
   "outputs": [],
   "source": [
    "# pdt_final['prob_swipe'].hist()"
   ]
  },
  {
   "cell_type": "code",
   "execution_count": 72,
   "id": "bd48e53d-c5e7-4d35-ac29-6989aff044e8",
   "metadata": {},
   "outputs": [],
   "source": [
    "# pdt_final['prob_speaker'].hist()"
   ]
  },
  {
   "cell_type": "code",
   "execution_count": 73,
   "id": "f6a5ae2c-7db4-4031-ab03-4857ae79b1e7",
   "metadata": {},
   "outputs": [],
   "source": [
    "def order_reco(x):\n",
    "    # x = pdt_final.loc[9,['prob_loan','prob_swipe','prob_speaker']]\n",
    "    x=x.to_dict()\n",
    "    x['prob_loan'] = x['prob_loan'] - thres_loan\n",
    "    x['prob_swipe'] = x['prob_swipe'] - thres_swipe\n",
    "    x['prob_speaker'] = x['prob_speaker'] - thres_speaker\n",
    "    sorted_elems = sorted(x.items(), key=lambda x: -x[1])\n",
    "    r1,r2,r3 = sorted_elems[0][0].replace(\"prob_\",\"\"),sorted_elems[1][0].replace(\"prob_\",\"\"),sorted_elems[2][0].replace(\"prob_\",\"\")\n",
    "    return [r1,r2,r3]\n",
    "\n",
    "# def order_reco(x):\n",
    "#     # x = pdt_final.loc[9,['prob_loan','prob_swipe','prob_speaker']]\n",
    "#     first = x.max()\n",
    "#     first_reco = x[x == first].index[0]\n",
    "#     third = x.min()\n",
    "#     third_reco = x[x == third].index[0]\n",
    "#     considered = [first_reco, third_reco]\n",
    "#     second_reco = list(set(['prob_loan','prob_swipe','prob_speaker']) - set(considered))[0]\n",
    "#     order = [first_reco, second_reco, third_reco]\n",
    "#     r1, r2, r3 = [it.replace(\"prob_\",\"\") for it in order]\n",
    "#     return r1,r2,r3"
   ]
  },
  {
   "cell_type": "code",
   "execution_count": 74,
   "id": "847b759c-9b76-45ca-9044-1cc0b0af0b2c",
   "metadata": {},
   "outputs": [],
   "source": [
    "pdt_final[['p1_recommendation', 'p2_recommendation', 'p3_recommendation']] = pdt_final.loc[:,['prob_loan','prob_swipe','prob_speaker']].apply(lambda x:order_reco(x), axis=1,result_type='expand')"
   ]
  },
  {
   "cell_type": "code",
   "execution_count": 75,
   "id": "c1f10400-ed86-4d57-93fd-f7a60015fae0",
   "metadata": {},
   "outputs": [],
   "source": [
    "digital_mer = pd.read_csv(\"digital_merchants.csv\")"
   ]
  },
  {
   "cell_type": "code",
   "execution_count": 76,
   "id": "72d96af6-00dd-4be5-83b1-e7f3b54bd677",
   "metadata": {},
   "outputs": [],
   "source": [
    "pdt_final['Channel'] = np.where(pdt_final['merchant_id'].isin(digital_mer['merchant_id']),\"Digital\",\"Offline\")"
   ]
  },
  {
   "cell_type": "code",
   "execution_count": 77,
   "id": "6fce5bb7-06d9-44f2-b961-0630a629fc6d",
   "metadata": {},
   "outputs": [
    {
     "name": "stderr",
     "output_type": "stream",
     "text": [
      "100%|██████████| 1/1 [00:00<00:00, 6269.51it/s]\n"
     ]
    }
   ],
   "source": [
    "pdt_final.to_gbq(\"bharatpe_ml_data.pdt_final\", project_id=\"bharatpe-analytics-prod\",if_exists='replace')"
   ]
  },
  {
   "cell_type": "code",
   "execution_count": 78,
   "id": "b6792cba-6590-4564-b838-ec5813aa346f",
   "metadata": {},
   "outputs": [],
   "source": [
    "pdt_final.to_csv(\"Final_Data.csv\", index = False)"
   ]
  },
  {
   "cell_type": "code",
   "execution_count": 79,
   "id": "029d6fd7-b2ad-48bc-be23-f462da7f8857",
   "metadata": {},
   "outputs": [],
   "source": [
    "#####"
   ]
  },
  {
   "cell_type": "code",
   "execution_count": 80,
   "id": "6a117120-73de-4094-9b56-8a3015506219",
   "metadata": {},
   "outputs": [
    {
     "data": {
      "text/plain": [
       "<AxesSubplot:>"
      ]
     },
     "execution_count": 80,
     "metadata": {},
     "output_type": "execute_result"
    },
    {
     "data": {
      "image/png": "[encoded data removed]",
      "text/plain": [
       "<Figure size 640x480 with 1 Axes>"
      ]
     },
     "metadata": {},
     "output_type": "display_data"
    }
   ],
   "source": [
    "pdt_final['prob_swipe'].hist()"
   ]
  },
  {
   "cell_type": "code",
   "execution_count": 81,
   "id": "0de60f77-8a54-47ad-9845-cc365d07cbc7",
   "metadata": {},
   "outputs": [
    {
     "data": {
      "image/png": "[encoded data removed]",
      "text/plain": [
       "<Figure size 640x480 with 1 Axes>"
      ]
     },
     "metadata": {},
     "output_type": "display_data"
    }
   ],
   "source": [
    "counts, edges, bars = plt.hist(pdt_final['swipe_flag'])\n",
    "plt.bar_label(bars)\n",
    "plt.show()"
   ]
  },
  {
   "cell_type": "code",
   "execution_count": 82,
   "id": "6865303b-9ae4-48a4-863a-5a54638ff963",
   "metadata": {},
   "outputs": [
    {
     "data": {
      "text/plain": [
       "<AxesSubplot:>"
      ]
     },
     "execution_count": 82,
     "metadata": {},
     "output_type": "execute_result"
    },
    {
     "data": {
      "image/png": "[encoded data removed]",
      "text/plain": [
       "<Figure size 640x480 with 1 Axes>"
      ]
     },
     "metadata": {},
     "output_type": "display_data"
    }
   ],
   "source": [
    "pdt_final['prob_speaker'].hist()"
   ]
  },
  {
   "cell_type": "code",
   "execution_count": 83,
   "id": "33419254-14fd-4e94-a193-3a7a34ff3f03",
   "metadata": {},
   "outputs": [
    {
     "data": {
      "image/png": "[encoded data removed]",
      "text/plain": [
       "<Figure size 640x480 with 1 Axes>"
      ]
     },
     "metadata": {},
     "output_type": "display_data"
    }
   ],
   "source": [
    "counts, edges, bars = plt.hist(pdt_final['speaker_flag'])\n",
    "plt.bar_label(bars)\n",
    "plt.show()"
   ]
  },
  {
   "cell_type": "code",
   "execution_count": 84,
   "id": "90ba4583-8f98-4457-911f-63a2e2a2d950",
   "metadata": {},
   "outputs": [
    {
     "data": {
      "text/plain": [
       "<AxesSubplot:>"
      ]
     },
     "execution_count": 84,
     "metadata": {},
     "output_type": "execute_result"
    },
    {
     "data": {
      "image/png": "[encoded data removed]",
      "text/plain": [
       "<Figure size 640x480 with 1 Axes>"
      ]
     },
     "metadata": {},
     "output_type": "display_data"
    }
   ],
   "source": [
    "pdt_final['prob_loan'].hist()"
   ]
  },
  {
   "cell_type": "code",
   "execution_count": 85,
   "id": "47de5a00-98f4-4dab-9647-17413d4b719f",
   "metadata": {},
   "outputs": [
    {
     "data": {
      "image/png": "[encoded data removed]",
      "text/plain": [
       "<Figure size 640x480 with 1 Axes>"
      ]
     },
     "metadata": {},
     "output_type": "display_data"
    }
   ],
   "source": [
    "counts, edges, bars = plt.hist(pdt_final['loan_flag'])\n",
    "plt.bar_label(bars)\n",
    "plt.show()"
   ]
  },
  {
   "cell_type": "code",
   "execution_count": 86,
   "id": "bdc45f2f-1db4-401f-af50-f76920a3b47c",
   "metadata": {},
   "outputs": [
    {
     "name": "stdout",
     "output_type": "stream",
     "text": [
      "Variable      Type         Data/Info\n",
      "------------------------------------\n",
      "digital_mer   DataFrame            merchant_id\\n0   <...>[337382 rows x 1 columns]\n",
      "merchants     DataFrame             merchant_id     <...>700031 rows x 38 columns]\n",
      "pdt_final     DataFrame             merchant_id  vin<...>658596 rows x 77 columns]\n"
     ]
    }
   ],
   "source": [
    "%whos DataFrame"
   ]
  },
  {
   "cell_type": "code",
   "execution_count": 87,
   "id": "7664f344-ab17-4728-8a76-f15bc3d39441",
   "metadata": {},
   "outputs": [],
   "source": [
    "#### EDA"
   ]
  },
  {
   "cell_type": "code",
   "execution_count": 88,
   "id": "fc04b3bd-5806-4407-a9e7-592049617749",
   "metadata": {},
   "outputs": [],
   "source": [
    "imp_var = ['merchant_id','total_txn_count','m1_tpv','total_atv','total_unique_payers'\\\n",
    "           ,'m1_atv','m1_max_daily_tpv','m1_active_days','total_active_vintage','w1_loan_sessions',\\\n",
    "           'w1_swipe_sessions', 'w1_speaker_sessions','m1_loan_sessions','m1_swipe_sessions', \\\n",
    "           'm1_speaker_sessions', 'swipe_flag', 'speaker_flag', 'loan_flag','zone_name', 'business_category', geo]"
   ]
  },
  {
   "cell_type": "code",
   "execution_count": 89,
   "id": "814e7486-5f9a-455a-9d59-4f83d2b88217",
   "metadata": {},
   "outputs": [],
   "source": [
    "vis_df = pdt_final[imp_var]"
   ]
  },
  {
   "cell_type": "code",
   "execution_count": 90,
   "id": "8df03f43-a494-426b-9428-7d4ba504ae8c",
   "metadata": {},
   "outputs": [],
   "source": [
    "def cat_alt(col, pdt = 'swipe'):\n",
    "    # col = 'business_category'\n",
    "    df = (100*vis_df.groupby(col)[f\"{pdt}_flag\"].mean()).to_frame().reset_index()\n",
    "    df['Count of Merchants'] = list(vis_df.groupby(col)[\"merchant_id\"].count())\n",
    "    alt.themes.enable('fivethirtyeight')\n",
    "    base = alt.Chart(df).encode(x=alt.X(f'{col}:N',axis=alt.Axis(title=\"\") ))\n",
    "\n",
    "    bar = base.mark_bar(color = 'lightgrey').encode(y=alt.Y(f'{pdt}_flag:Q',axis=alt.Axis(title=f\"{pdt}_flag %\")))\n",
    "\n",
    "    line =  base.mark_line(color='aqua').encode(\n",
    "        y='Count of Merchants:Q'\n",
    "    )\n",
    "    txt_bar = bar.mark_text(align='center',\n",
    "            baseline='middle',\n",
    "            dy=-6\n",
    "    ).encode(\n",
    "        y=alt.Y(f'{pdt}_flag:Q',axis=alt.Axis(title=\"\",labels=False,ticks=False)),\n",
    "        text=alt.Text(f'{pdt}_flag:Q',format='1.0d')\n",
    "    )\n",
    "\n",
    "    txt_line = line.mark_text(align='center',\n",
    "            baseline='middle',\n",
    "            dy=-6, angle = 80, color = 'black'\n",
    "    ).encode(\n",
    "        text=alt.Text('Count of Merchants:Q',format='1.0d')\n",
    "    )\n",
    "\n",
    "    c = (bar + txt_bar+ line +txt_line).resolve_scale(y='independent').properties(width=650, height = 350, title = f\"{col}\")\n",
    "    return c"
   ]
  },
  {
   "cell_type": "code",
   "execution_count": 91,
   "id": "159e9724-9d7e-483e-9b73-8363658ccdff",
   "metadata": {},
   "outputs": [],
   "source": [
    "def num_alt(col, pdt = 'swipe'):\n",
    "    # col = 'total_txn_count'\n",
    "    bins = [-.01,int(vis_df[col].describe()['min']),int(vis_df[col].describe()['25%']),int(vis_df[col].describe()['50%']),\\\n",
    "           int(vis_df[col].describe()['75%']),int(vis_df[col].describe()['max'])]\n",
    "\n",
    "    vis_df[col]=pd.cut(x = vis_df[col],bins = bins, duplicates = 'drop')\n",
    "    df = (100*vis_df.groupby(col)[f\"{pdt}_flag\"].mean()).to_frame().reset_index()\n",
    "    df[col] = df[col].astype('str')\n",
    "    df['Count of Merchants'] = list(vis_df.groupby(col)[\"merchant_id\"].count())\n",
    "\n",
    "    alt.themes.enable('fivethirtyeight')\n",
    "    base = alt.Chart(df).encode(x=alt.X(f'{col}:O',axis=alt.Axis(title=\"\"), sort = bins ))\n",
    "\n",
    "    bar = base.mark_bar(color = 'lightgrey').encode(y=alt.Y(f'{pdt}_flag:Q',axis=alt.Axis(title=f\"{pdt}_flag %\")))\n",
    "\n",
    "    line =  base.mark_line(color='aqua').encode(\n",
    "        y='Count of Merchants:Q'\n",
    "    )\n",
    "    txt_bar = bar.mark_text(align='center',\n",
    "            baseline='middle',\n",
    "            dy=-6\n",
    "    ).encode(\n",
    "        y=alt.Y('target:Q',axis=alt.Axis(title=\"\",labels=False,ticks=False)),\n",
    "        text=alt.Text(f'{pdt}_flag:Q',format='.0f')\n",
    "    )\n",
    "\n",
    "    txt_line = line.mark_text(align='center',\n",
    "            baseline='middle',\n",
    "            dy=-6, angle = 80, color = 'black'\n",
    "    ).encode(\n",
    "        text=alt.Text('Count of Merchants:Q',format='.0f')\n",
    "    )\n",
    "\n",
    "    c = (bar + txt_bar+ line +txt_line).resolve_scale(y='independent').properties(width=170, height = 170, title = f\"{col}\")\n",
    "    return c"
   ]
  },
  {
   "cell_type": "code",
   "execution_count": 92,
   "id": "338bb6cb-eac7-4104-92c2-ef197153ec9c",
   "metadata": {},
   "outputs": [],
   "source": [
    "##### Swipe"
   ]
  },
  {
   "cell_type": "code",
   "execution_count": 93,
   "id": "eebdee31-1c74-4ca1-b9a2-873d5a783e8e",
   "metadata": {},
   "outputs": [],
   "source": [
    "num1 = num_alt(col = 'total_txn_count', pdt = 'swipe')\n",
    "num2 = num_alt(col = 'm1_tpv',pdt = 'swipe')\n",
    "num3 = num_alt(col = 'w1_swipe_sessions',pdt = 'swipe')\n",
    "num4 = num_alt(col = 'total_atv',pdt = 'swipe')\n",
    "num5 = num_alt(col = 'total_unique_payers',pdt = 'swipe')\n",
    "num6 = num_alt(col = 'm1_atv',pdt = 'swipe')\n",
    "num7 = num_alt(col = 'm1_max_daily_tpv',pdt = 'swipe')\n",
    "num8 = num_alt(col = 'm1_active_days',pdt = 'swipe')\n",
    "num8 = num_alt(col = 'total_active_vintage',pdt = 'swipe')"
   ]
  },
  {
   "cell_type": "code",
   "execution_count": 94,
   "id": "96e2a952-4a8f-489d-a796-00af7de1f0f6",
   "metadata": {},
   "outputs": [
    {
     "data": {
      "text/html": [
       "\n",
       "<div id=\"altair-viz-5c00274884bc48319b9c10e812f128a6\"></div>\n",
       "<script type=\"text/javascript\">\n",
       "  var VEGA_DEBUG = (typeof VEGA_DEBUG == \"undefined\") ? {} : VEGA_DEBUG;\n",
       "  (function(spec, embedOpt){\n",
       "    let outputDiv = document.currentScript.previousElementSibling;\n",
       "    if (outputDiv.id !== \"altair-viz-5c00274884bc48319b9c10e812f128a6\") {\n",
       "      outputDiv = document.getElementById(\"altair-viz-5c00274884bc48319b9c10e812f128a6\");\n",
       "    }\n",
       "    const paths = {\n",
       "      \"vega\": \"https://cdn.jsdelivr.net/npm//vega@5?noext\",\n",
       "      \"vega-lib\": \"https://cdn.jsdelivr.net/npm//vega-lib?noext\",\n",
       "      \"vega-lite\": \"https://cdn.jsdelivr.net/npm//vega-lite@4.17.0?noext\",\n",
       "      \"vega-embed\": \"https://cdn.jsdelivr.net/npm//vega-embed@6?noext\",\n",
       "    };\n",
       "\n",
       "    function maybeLoadScript(lib, version) {\n",
       "      var key = `${lib.replace(\"-\", \"\")}_version`;\n",
       "      return (VEGA_DEBUG[key] == version) ?\n",
       "        Promise.resolve(paths[lib]) :\n",
       "        new Promise(function(resolve, reject) {\n",
       "          var s = document.createElement('script');\n",
       "          document.getElementsByTagName(\"head\")[0].appendChild(s);\n",
       "          s.async = true;\n",
       "          s.onload = () => {\n",
       "            VEGA_DEBUG[key] = version;\n",
       "            return resolve(paths[lib]);\n",
       "          };\n",
       "          s.onerror = () => reject(`Error loading script: ${paths[lib]}`);\n",
       "          s.src = paths[lib];\n",
       "        });\n",
       "    }\n",
       "\n",
       "    function showError(err) {\n",
       "      outputDiv.innerHTML = `<div class=\"error\" style=\"color:red;\">${err}</div>`;\n",
       "      throw err;\n",
       "    }\n",
       "\n",
       "    function displayChart(vegaEmbed) {\n",
       "      vegaEmbed(outputDiv, spec, embedOpt)\n",
       "        .catch(err => showError(`Javascript Error: ${err.message}<br>This usually means there's a typo in your chart specification. See the javascript console for the full traceback.`));\n",
       "    }\n",
       "\n",
       "    if(typeof define === \"function\" && define.amd) {\n",
       "      requirejs.config({paths});\n",
       "      require([\"vega-embed\"], displayChart, err => showError(`Error loading script: ${err.message}`));\n",
       "    } else {\n",
       "      maybeLoadScript(\"vega\", \"5\")\n",
       "        .then(() => maybeLoadScript(\"vega-lite\", \"4.17.0\"))\n",
       "        .then(() => maybeLoadScript(\"vega-embed\", \"6\"))\n",
       "        .catch(showError)\n",
       "        .then(() => displayChart(vegaEmbed));\n",
       "    }\n",
       "  })({\"usermeta\": {\"embedOptions\": {\"theme\": \"fivethirtyeight\"}}, \"config\": {\"view\": {\"continuousWidth\": 400, \"continuousHeight\": 300}}, \"vconcat\": [{\"hconcat\": [{\"layer\": [{\"mark\": {\"type\": \"bar\", \"color\": \"lightgrey\"}, \"encoding\": {\"x\": {\"axis\": {\"title\": \"\"}, \"field\": \"total_txn_count\", \"sort\": [-0.01, 0, 49, 183, 677, 16343030], \"type\": \"ordinal\"}, \"y\": {\"axis\": {\"title\": \"swipe_flag %\"}, \"field\": \"swipe_flag\", \"type\": \"quantitative\"}}}, {\"mark\": {\"type\": \"text\", \"align\": \"center\", \"baseline\": \"middle\", \"dy\": -6}, \"encoding\": {\"text\": {\"field\": \"swipe_flag\", \"format\": \".0f\", \"type\": \"quantitative\"}, \"x\": {\"axis\": {\"title\": \"\"}, \"field\": \"total_txn_count\", \"sort\": [-0.01, 0, 49, 183, 677, 16343030], \"type\": \"ordinal\"}, \"y\": {\"axis\": {\"labels\": false, \"ticks\": false, \"title\": \"\"}, \"field\": \"target\", \"type\": \"quantitative\"}}}, {\"mark\": {\"type\": \"line\", \"color\": \"aqua\"}, \"encoding\": {\"x\": {\"axis\": {\"title\": \"\"}, \"field\": \"total_txn_count\", \"sort\": [-0.01, 0, 49, 183, 677, 16343030], \"type\": \"ordinal\"}, \"y\": {\"field\": \"Count of Merchants\", \"type\": \"quantitative\"}}}, {\"mark\": {\"type\": \"text\", \"align\": \"center\", \"angle\": 80, \"baseline\": \"middle\", \"color\": \"black\", \"dy\": -6}, \"encoding\": {\"text\": {\"field\": \"Count of Merchants\", \"format\": \".0f\", \"type\": \"quantitative\"}, \"x\": {\"axis\": {\"title\": \"\"}, \"field\": \"total_txn_count\", \"sort\": [-0.01, 0, 49, 183, 677, 16343030], \"type\": \"ordinal\"}, \"y\": {\"field\": \"Count of Merchants\", \"type\": \"quantitative\"}}}], \"data\": {\"name\": \"data-f28eaa58ed02bcd2cdba74e2f14b90e0\"}, \"height\": 170, \"resolve\": {\"scale\": {\"y\": \"independent\"}}, \"title\": \"total_txn_count\", \"width\": 170}, {\"layer\": [{\"mark\": {\"type\": \"bar\", \"color\": \"lightgrey\"}, \"encoding\": {\"x\": {\"axis\": {\"title\": \"\"}, \"field\": \"m1_tpv\", \"sort\": [-0.01, 0, 599, 5166, 24632, 7508464960], \"type\": \"ordinal\"}, \"y\": {\"axis\": {\"title\": \"swipe_flag %\"}, \"field\": \"swipe_flag\", \"type\": \"quantitative\"}}}, {\"mark\": {\"type\": \"text\", \"align\": \"center\", \"baseline\": \"middle\", \"dy\": -6}, \"encoding\": {\"text\": {\"field\": \"swipe_flag\", \"format\": \".0f\", \"type\": \"quantitative\"}, \"x\": {\"axis\": {\"title\": \"\"}, \"field\": \"m1_tpv\", \"sort\": [-0.01, 0, 599, 5166, 24632, 7508464960], \"type\": \"ordinal\"}, \"y\": {\"axis\": {\"labels\": false, \"ticks\": false, \"title\": \"\"}, \"field\": \"target\", \"type\": \"quantitative\"}}}, {\"mark\": {\"type\": \"line\", \"color\": \"aqua\"}, \"encoding\": {\"x\": {\"axis\": {\"title\": \"\"}, \"field\": \"m1_tpv\", \"sort\": [-0.01, 0, 599, 5166, 24632, 7508464960], \"type\": \"ordinal\"}, \"y\": {\"field\": \"Count of Merchants\", \"type\": \"quantitative\"}}}, {\"mark\": {\"type\": \"text\", \"align\": \"center\", \"angle\": 80, \"baseline\": \"middle\", \"color\": \"black\", \"dy\": -6}, \"encoding\": {\"text\": {\"field\": \"Count of Merchants\", \"format\": \".0f\", \"type\": \"quantitative\"}, \"x\": {\"axis\": {\"title\": \"\"}, \"field\": \"m1_tpv\", \"sort\": [-0.01, 0, 599, 5166, 24632, 7508464960], \"type\": \"ordinal\"}, \"y\": {\"field\": \"Count of Merchants\", \"type\": \"quantitative\"}}}], \"data\": {\"name\": \"data-276e8fb8ba69a45ac55479cc36f5d6c5\"}, \"height\": 170, \"resolve\": {\"scale\": {\"y\": \"independent\"}}, \"title\": \"m1_tpv\", \"width\": 170}, {\"layer\": [{\"mark\": {\"type\": \"bar\", \"color\": \"lightgrey\"}, \"encoding\": {\"x\": {\"axis\": {\"title\": \"\"}, \"field\": \"w1_swipe_sessions\", \"sort\": [-0.01, 0, 0, 0, 0, 5], \"type\": \"ordinal\"}, \"y\": {\"axis\": {\"title\": \"swipe_flag %\"}, \"field\": \"swipe_flag\", \"type\": \"quantitative\"}}}, {\"mark\": {\"type\": \"text\", \"align\": \"center\", \"baseline\": \"middle\", \"dy\": -6}, \"encoding\": {\"text\": {\"field\": \"swipe_flag\", \"format\": \".0f\", \"type\": \"quantitative\"}, \"x\": {\"axis\": {\"title\": \"\"}, \"field\": \"w1_swipe_sessions\", \"sort\": [-0.01, 0, 0, 0, 0, 5], \"type\": \"ordinal\"}, \"y\": {\"axis\": {\"labels\": false, \"ticks\": false, \"title\": \"\"}, \"field\": \"target\", \"type\": \"quantitative\"}}}, {\"mark\": {\"type\": \"line\", \"color\": \"aqua\"}, \"encoding\": {\"x\": {\"axis\": {\"title\": \"\"}, \"field\": \"w1_swipe_sessions\", \"sort\": [-0.01, 0, 0, 0, 0, 5], \"type\": \"ordinal\"}, \"y\": {\"field\": \"Count of Merchants\", \"type\": \"quantitative\"}}}, {\"mark\": {\"type\": \"text\", \"align\": \"center\", \"angle\": 80, \"baseline\": \"middle\", \"color\": \"black\", \"dy\": -6}, \"encoding\": {\"text\": {\"field\": \"Count of Merchants\", \"format\": \".0f\", \"type\": \"quantitative\"}, \"x\": {\"axis\": {\"title\": \"\"}, \"field\": \"w1_swipe_sessions\", \"sort\": [-0.01, 0, 0, 0, 0, 5], \"type\": \"ordinal\"}, \"y\": {\"field\": \"Count of Merchants\", \"type\": \"quantitative\"}}}], \"data\": {\"name\": \"data-134ff837ca763094ca0290e8c6f5714d\"}, \"height\": 170, \"resolve\": {\"scale\": {\"y\": \"independent\"}}, \"title\": \"w1_swipe_sessions\", \"width\": 170}, {\"layer\": [{\"mark\": {\"type\": \"bar\", \"color\": \"lightgrey\"}, \"encoding\": {\"x\": {\"axis\": {\"title\": \"\"}, \"field\": \"total_atv\", \"sort\": [-0.01, 1, 95, 252, 778, 100000], \"type\": \"ordinal\"}, \"y\": {\"axis\": {\"title\": \"swipe_flag %\"}, \"field\": \"swipe_flag\", \"type\": \"quantitative\"}}}, {\"mark\": {\"type\": \"text\", \"align\": \"center\", \"baseline\": \"middle\", \"dy\": -6}, \"encoding\": {\"text\": {\"field\": \"swipe_flag\", \"format\": \".0f\", \"type\": \"quantitative\"}, \"x\": {\"axis\": {\"title\": \"\"}, \"field\": \"total_atv\", \"sort\": [-0.01, 1, 95, 252, 778, 100000], \"type\": \"ordinal\"}, \"y\": {\"axis\": {\"labels\": false, \"ticks\": false, \"title\": \"\"}, \"field\": \"target\", \"type\": \"quantitative\"}}}, {\"mark\": {\"type\": \"line\", \"color\": \"aqua\"}, \"encoding\": {\"x\": {\"axis\": {\"title\": \"\"}, \"field\": \"total_atv\", \"sort\": [-0.01, 1, 95, 252, 778, 100000], \"type\": \"ordinal\"}, \"y\": {\"field\": \"Count of Merchants\", \"type\": \"quantitative\"}}}, {\"mark\": {\"type\": \"text\", \"align\": \"center\", \"angle\": 80, \"baseline\": \"middle\", \"color\": \"black\", \"dy\": -6}, \"encoding\": {\"text\": {\"field\": \"Count of Merchants\", \"format\": \".0f\", \"type\": \"quantitative\"}, \"x\": {\"axis\": {\"title\": \"\"}, \"field\": \"total_atv\", \"sort\": [-0.01, 1, 95, 252, 778, 100000], \"type\": \"ordinal\"}, \"y\": {\"field\": \"Count of Merchants\", \"type\": \"quantitative\"}}}], \"data\": {\"name\": \"data-e6ca3984573b6598ef10aed4dfba84fb\"}, \"height\": 170, \"resolve\": {\"scale\": {\"y\": \"independent\"}}, \"title\": \"total_atv\", \"width\": 170}]}, {\"hconcat\": [{\"layer\": [{\"mark\": {\"type\": \"bar\", \"color\": \"lightgrey\"}, \"encoding\": {\"x\": {\"axis\": {\"title\": \"\"}, \"field\": \"total_unique_payers\", \"sort\": [-0.01, 0, 34, 121, 421, 9558592], \"type\": \"ordinal\"}, \"y\": {\"axis\": {\"title\": \"swipe_flag %\"}, \"field\": \"swipe_flag\", \"type\": \"quantitative\"}}}, {\"mark\": {\"type\": \"text\", \"align\": \"center\", \"baseline\": \"middle\", \"dy\": -6}, \"encoding\": {\"text\": {\"field\": \"swipe_flag\", \"format\": \".0f\", \"type\": \"quantitative\"}, \"x\": {\"axis\": {\"title\": \"\"}, \"field\": \"total_unique_payers\", \"sort\": [-0.01, 0, 34, 121, 421, 9558592], \"type\": \"ordinal\"}, \"y\": {\"axis\": {\"labels\": false, \"ticks\": false, \"title\": \"\"}, \"field\": \"target\", \"type\": \"quantitative\"}}}, {\"mark\": {\"type\": \"line\", \"color\": \"aqua\"}, \"encoding\": {\"x\": {\"axis\": {\"title\": \"\"}, \"field\": \"total_unique_payers\", \"sort\": [-0.01, 0, 34, 121, 421, 9558592], \"type\": \"ordinal\"}, \"y\": {\"field\": \"Count of Merchants\", \"type\": \"quantitative\"}}}, {\"mark\": {\"type\": \"text\", \"align\": \"center\", \"angle\": 80, \"baseline\": \"middle\", \"color\": \"black\", \"dy\": -6}, \"encoding\": {\"text\": {\"field\": \"Count of Merchants\", \"format\": \".0f\", \"type\": \"quantitative\"}, \"x\": {\"axis\": {\"title\": \"\"}, \"field\": \"total_unique_payers\", \"sort\": [-0.01, 0, 34, 121, 421, 9558592], \"type\": \"ordinal\"}, \"y\": {\"field\": \"Count of Merchants\", \"type\": \"quantitative\"}}}], \"data\": {\"name\": \"data-32e8d91fe6e255fefea3a65e870cfdbe\"}, \"height\": 170, \"resolve\": {\"scale\": {\"y\": \"independent\"}}, \"title\": \"total_unique_payers\", \"width\": 170}, {\"layer\": [{\"mark\": {\"type\": \"bar\", \"color\": \"lightgrey\"}, \"encoding\": {\"x\": {\"axis\": {\"title\": \"\"}, \"field\": \"m1_atv\", \"sort\": [-0.01, 1, 74, 212, 742, 128847], \"type\": \"ordinal\"}, \"y\": {\"axis\": {\"title\": \"swipe_flag %\"}, \"field\": \"swipe_flag\", \"type\": \"quantitative\"}}}, {\"mark\": {\"type\": \"text\", \"align\": \"center\", \"baseline\": \"middle\", \"dy\": -6}, \"encoding\": {\"text\": {\"field\": \"swipe_flag\", \"format\": \".0f\", \"type\": \"quantitative\"}, \"x\": {\"axis\": {\"title\": \"\"}, \"field\": \"m1_atv\", \"sort\": [-0.01, 1, 74, 212, 742, 128847], \"type\": \"ordinal\"}, \"y\": {\"axis\": {\"labels\": false, \"ticks\": false, \"title\": \"\"}, \"field\": \"target\", \"type\": \"quantitative\"}}}, {\"mark\": {\"type\": \"line\", \"color\": \"aqua\"}, \"encoding\": {\"x\": {\"axis\": {\"title\": \"\"}, \"field\": \"m1_atv\", \"sort\": [-0.01, 1, 74, 212, 742, 128847], \"type\": \"ordinal\"}, \"y\": {\"field\": \"Count of Merchants\", \"type\": \"quantitative\"}}}, {\"mark\": {\"type\": \"text\", \"align\": \"center\", \"angle\": 80, \"baseline\": \"middle\", \"color\": \"black\", \"dy\": -6}, \"encoding\": {\"text\": {\"field\": \"Count of Merchants\", \"format\": \".0f\", \"type\": \"quantitative\"}, \"x\": {\"axis\": {\"title\": \"\"}, \"field\": \"m1_atv\", \"sort\": [-0.01, 1, 74, 212, 742, 128847], \"type\": \"ordinal\"}, \"y\": {\"field\": \"Count of Merchants\", \"type\": \"quantitative\"}}}], \"data\": {\"name\": \"data-1670da8abb0825e2a75abbab5b8911a4\"}, \"height\": 170, \"resolve\": {\"scale\": {\"y\": \"independent\"}}, \"title\": \"m1_atv\", \"width\": 170}, {\"layer\": [{\"mark\": {\"type\": \"bar\", \"color\": \"lightgrey\"}, \"encoding\": {\"x\": {\"axis\": {\"title\": \"\"}, \"field\": \"m1_max_daily_tpv\", \"sort\": [-0.01, 0, 250, 1500, 6100, 716385873], \"type\": \"ordinal\"}, \"y\": {\"axis\": {\"title\": \"swipe_flag %\"}, \"field\": \"swipe_flag\", \"type\": \"quantitative\"}}}, {\"mark\": {\"type\": \"text\", \"align\": \"center\", \"baseline\": \"middle\", \"dy\": -6}, \"encoding\": {\"text\": {\"field\": \"swipe_flag\", \"format\": \".0f\", \"type\": \"quantitative\"}, \"x\": {\"axis\": {\"title\": \"\"}, \"field\": \"m1_max_daily_tpv\", \"sort\": [-0.01, 0, 250, 1500, 6100, 716385873], \"type\": \"ordinal\"}, \"y\": {\"axis\": {\"labels\": false, \"ticks\": false, \"title\": \"\"}, \"field\": \"target\", \"type\": \"quantitative\"}}}, {\"mark\": {\"type\": \"line\", \"color\": \"aqua\"}, \"encoding\": {\"x\": {\"axis\": {\"title\": \"\"}, \"field\": \"m1_max_daily_tpv\", \"sort\": [-0.01, 0, 250, 1500, 6100, 716385873], \"type\": \"ordinal\"}, \"y\": {\"field\": \"Count of Merchants\", \"type\": \"quantitative\"}}}, {\"mark\": {\"type\": \"text\", \"align\": \"center\", \"angle\": 80, \"baseline\": \"middle\", \"color\": \"black\", \"dy\": -6}, \"encoding\": {\"text\": {\"field\": \"Count of Merchants\", \"format\": \".0f\", \"type\": \"quantitative\"}, \"x\": {\"axis\": {\"title\": \"\"}, \"field\": \"m1_max_daily_tpv\", \"sort\": [-0.01, 0, 250, 1500, 6100, 716385873], \"type\": \"ordinal\"}, \"y\": {\"field\": \"Count of Merchants\", \"type\": \"quantitative\"}}}], \"data\": {\"name\": \"data-30b65f004ecc2c0a6fbe63cb71e01cae\"}, \"height\": 170, \"resolve\": {\"scale\": {\"y\": \"independent\"}}, \"title\": \"m1_max_daily_tpv\", \"width\": 170}, {\"layer\": [{\"mark\": {\"type\": \"bar\", \"color\": \"lightgrey\"}, \"encoding\": {\"x\": {\"axis\": {\"title\": \"\"}, \"field\": \"total_active_vintage\", \"sort\": [-0.01, 0, 26, 81, 215, 1073], \"type\": \"ordinal\"}, \"y\": {\"axis\": {\"title\": \"swipe_flag %\"}, \"field\": \"swipe_flag\", \"type\": \"quantitative\"}}}, {\"mark\": {\"type\": \"text\", \"align\": \"center\", \"baseline\": \"middle\", \"dy\": -6}, \"encoding\": {\"text\": {\"field\": \"swipe_flag\", \"format\": \".0f\", \"type\": \"quantitative\"}, \"x\": {\"axis\": {\"title\": \"\"}, \"field\": \"total_active_vintage\", \"sort\": [-0.01, 0, 26, 81, 215, 1073], \"type\": \"ordinal\"}, \"y\": {\"axis\": {\"labels\": false, \"ticks\": false, \"title\": \"\"}, \"field\": \"target\", \"type\": \"quantitative\"}}}, {\"mark\": {\"type\": \"line\", \"color\": \"aqua\"}, \"encoding\": {\"x\": {\"axis\": {\"title\": \"\"}, \"field\": \"total_active_vintage\", \"sort\": [-0.01, 0, 26, 81, 215, 1073], \"type\": \"ordinal\"}, \"y\": {\"field\": \"Count of Merchants\", \"type\": \"quantitative\"}}}, {\"mark\": {\"type\": \"text\", \"align\": \"center\", \"angle\": 80, \"baseline\": \"middle\", \"color\": \"black\", \"dy\": -6}, \"encoding\": {\"text\": {\"field\": \"Count of Merchants\", \"format\": \".0f\", \"type\": \"quantitative\"}, \"x\": {\"axis\": {\"title\": \"\"}, \"field\": \"total_active_vintage\", \"sort\": [-0.01, 0, 26, 81, 215, 1073], \"type\": \"ordinal\"}, \"y\": {\"field\": \"Count of Merchants\", \"type\": \"quantitative\"}}}], \"data\": {\"name\": \"data-17798d50cf4c24d54c134b8247b58ce6\"}, \"height\": 170, \"resolve\": {\"scale\": {\"y\": \"independent\"}}, \"title\": \"total_active_vintage\", \"width\": 170}]}], \"$schema\": \"https://vega.github.io/schema/vega-lite/v4.17.0.json\", \"datasets\": {\"data-f28eaa58ed02bcd2cdba74e2f14b90e0\": [{\"total_txn_count\": \"(-0.01, 0.0]\", \"swipe_flag\": 0.0, \"Count of Merchants\": 8}, {\"total_txn_count\": \"(0.0, 49.0]\", \"swipe_flag\": 2.003309946433884, \"Count of Merchants\": 668893}, {\"total_txn_count\": \"(49.0, 183.0]\", \"swipe_flag\": 4.006037631149593, \"Count of Merchants\": 663174}, {\"total_txn_count\": \"(183.0, 677.0]\", \"swipe_flag\": 6.147638728297523, \"Count of Merchants\": 662482}, {\"total_txn_count\": \"(677.0, 16343030.0]\", \"swipe_flag\": 11.834244675388042, \"Count of Merchants\": 664039}], \"data-276e8fb8ba69a45ac55479cc36f5d6c5\": [{\"m1_tpv\": \"(-0.01, 0.0]\", \"swipe_flag\": 2.2898098967062817, \"Count of Merchants\": 289369}, {\"m1_tpv\": \"(0.0, 599.0]\", \"swipe_flag\": 0.8867856153141054, \"Count of Merchants\": 375288}, {\"m1_tpv\": \"(599.0, 5166.0]\", \"swipe_flag\": 1.2153033745054085, \"Count of Merchants\": 664690}, {\"m1_tpv\": \"(5166.0, 24632.0]\", \"swipe_flag\": 3.0607608116688683, \"Count of Merchants\": 664606}, {\"m1_tpv\": \"(24632.0, 7508464960.0]\", \"swipe_flag\": 18.190845598081374, \"Count of Merchants\": 664642}], \"data-134ff837ca763094ca0290e8c6f5714d\": [{\"w1_swipe_sessions\": \"(-0.01, 0.0]\", \"swipe_flag\": 6.099707424658124, \"Count of Merchants\": 2415788}, {\"w1_swipe_sessions\": \"(0.0, 5.0]\", \"swipe_flag\": 79.51885565669701, \"Count of Merchants\": 3076}], \"data-e6ca3984573b6598ef10aed4dfba84fb\": [{\"total_atv\": \"(-0.01, 1.0]\", \"swipe_flag\": 0.0, \"Count of Merchants\": 39}, {\"total_atv\": \"(1.0, 95.0]\", \"swipe_flag\": 0.8461656551285968, \"Count of Merchants\": 657909}, {\"total_atv\": \"(95.0, 252.0]\", \"swipe_flag\": 2.193603592053833, \"Count of Merchants\": 670814}, {\"total_atv\": \"(252.0, 778.0]\", \"swipe_flag\": 4.880992329998179, \"Count of Merchants\": 664537}, {\"total_atv\": \"(778.0, 100000.0]\", \"swipe_flag\": 16.017099335777385, \"Count of Merchants\": 665289}], \"data-32e8d91fe6e255fefea3a65e870cfdbe\": [{\"total_unique_payers\": \"(-0.01, 0.0]\", \"swipe_flag\": 0.0, \"Count of Merchants\": 10}, {\"total_unique_payers\": \"(0.0, 34.0]\", \"swipe_flag\": 2.832540557335089, \"Count of Merchants\": 675895}, {\"total_unique_payers\": \"(34.0, 121.0]\", \"swipe_flag\": 3.820150908278058, \"Count of Merchants\": 657618}, {\"total_unique_payers\": \"(121.0, 421.0]\", \"swipe_flag\": 5.396347181134564, \"Count of Merchants\": 661188}, {\"total_unique_payers\": \"(421.0, 9558592.0]\", \"swipe_flag\": 11.949509327669702, \"Count of Merchants\": 663885}], \"data-1670da8abb0825e2a75abbab5b8911a4\": [{\"m1_atv\": \"(-0.01, 1.0]\", \"swipe_flag\": 1.748049696619474, \"Count of Merchants\": 13844}, {\"m1_atv\": \"(1.0, 74.0]\", \"swipe_flag\": 1.0182756711006153, \"Count of Merchants\": 574206}, {\"m1_atv\": \"(74.0, 212.0]\", \"swipe_flag\": 2.1331831658194607, \"Count of Merchants\": 596667}, {\"m1_atv\": \"(212.0, 742.0]\", \"swipe_flag\": 5.015552690759117, \"Count of Merchants\": 591859}, {\"m1_atv\": \"(742.0, 128847.0]\", \"swipe_flag\": 17.573441322871847, \"Count of Merchants\": 592650}], \"data-30b65f004ecc2c0a6fbe63cb71e01cae\": [{\"m1_max_daily_tpv\": \"(-0.01, 0.0]\", \"swipe_flag\": 2.2898098967062817, \"Count of Merchants\": 289369}, {\"m1_max_daily_tpv\": \"(0.0, 250.0]\", \"swipe_flag\": 0.7590479468375209, \"Count of Merchants\": 377710}, {\"m1_max_daily_tpv\": \"(250.0, 1500.0]\", \"swipe_flag\": 0.9974849546393605, \"Count of Merchants\": 667980}, {\"m1_max_daily_tpv\": \"(1500.0, 6100.0]\", \"swipe_flag\": 3.2730143768346114, \"Count of Merchants\": 659881}, {\"m1_max_daily_tpv\": \"(6100.0, 716385873.0]\", \"swipe_flag\": 18.3113213943992, \"Count of Merchants\": 663655}], \"data-17798d50cf4c24d54c134b8247b58ce6\": [{\"total_active_vintage\": \"(-0.01, 0.0]\", \"swipe_flag\": 0.0, \"Count of Merchants\": 8}, {\"total_active_vintage\": \"(0.0, 26.0]\", \"swipe_flag\": 2.0235716312727616, \"Count of Merchants\": 676576}, {\"total_active_vintage\": \"(26.0, 81.0]\", \"swipe_flag\": 3.8830668078059634, \"Count of Merchants\": 652783}, {\"total_active_vintage\": \"(81.0, 215.0]\", \"swipe_flag\": 6.180524011051695, \"Count of Merchants\": 667047}, {\"total_active_vintage\": \"(215.0, 1073.0]\", \"swipe_flag\": 11.932067014808617, \"Count of Merchants\": 662182}]}}, {\"mode\": \"vega-lite\"});\n",
       "</script>"
      ],
      "text/plain": [
       "alt.VConcatChart(...)"
      ]
     },
     "execution_count": 94,
     "metadata": {},
     "output_type": "execute_result"
    }
   ],
   "source": [
    "(num1|num2|num3|num4) & (num5|num6|num7|num8)"
   ]
  },
  {
   "cell_type": "code",
   "execution_count": 95,
   "id": "23afccf4-c28a-49e3-82a5-409829e8d156",
   "metadata": {},
   "outputs": [],
   "source": [
    "cat1 = cat_alt(col = 'business_category', pdt = 'swipe')\n",
    "cat2 = cat_alt(col = 'zone_name', pdt = 'swipe')"
   ]
  },
  {
   "cell_type": "code",
   "execution_count": 96,
   "id": "4ced40b2-610f-404d-a32b-c386a75311a0",
   "metadata": {},
   "outputs": [
    {
     "data": {
      "text/html": [
       "\n",
       "<div id=\"altair-viz-0097d16dc4d844279a92329f78b56391\"></div>\n",
       "<script type=\"text/javascript\">\n",
       "  var VEGA_DEBUG = (typeof VEGA_DEBUG == \"undefined\") ? {} : VEGA_DEBUG;\n",
       "  (function(spec, embedOpt){\n",
       "    let outputDiv = document.currentScript.previousElementSibling;\n",
       "    if (outputDiv.id !== \"altair-viz-0097d16dc4d844279a92329f78b56391\") {\n",
       "      outputDiv = document.getElementById(\"altair-viz-0097d16dc4d844279a92329f78b56391\");\n",
       "    }\n",
       "    const paths = {\n",
       "      \"vega\": \"https://cdn.jsdelivr.net/npm//vega@5?noext\",\n",
       "      \"vega-lib\": \"https://cdn.jsdelivr.net/npm//vega-lib?noext\",\n",
       "      \"vega-lite\": \"https://cdn.jsdelivr.net/npm//vega-lite@4.17.0?noext\",\n",
       "      \"vega-embed\": \"https://cdn.jsdelivr.net/npm//vega-embed@6?noext\",\n",
       "    };\n",
       "\n",
       "    function maybeLoadScript(lib, version) {\n",
       "      var key = `${lib.replace(\"-\", \"\")}_version`;\n",
       "      return (VEGA_DEBUG[key] == version) ?\n",
       "        Promise.resolve(paths[lib]) :\n",
       "        new Promise(function(resolve, reject) {\n",
       "          var s = document.createElement('script');\n",
       "          document.getElementsByTagName(\"head\")[0].appendChild(s);\n",
       "          s.async = true;\n",
       "          s.onload = () => {\n",
       "            VEGA_DEBUG[key] = version;\n",
       "            return resolve(paths[lib]);\n",
       "          };\n",
       "          s.onerror = () => reject(`Error loading script: ${paths[lib]}`);\n",
       "          s.src = paths[lib];\n",
       "        });\n",
       "    }\n",
       "\n",
       "    function showError(err) {\n",
       "      outputDiv.innerHTML = `<div class=\"error\" style=\"color:red;\">${err}</div>`;\n",
       "      throw err;\n",
       "    }\n",
       "\n",
       "    function displayChart(vegaEmbed) {\n",
       "      vegaEmbed(outputDiv, spec, embedOpt)\n",
       "        .catch(err => showError(`Javascript Error: ${err.message}<br>This usually means there's a typo in your chart specification. See the javascript console for the full traceback.`));\n",
       "    }\n",
       "\n",
       "    if(typeof define === \"function\" && define.amd) {\n",
       "      requirejs.config({paths});\n",
       "      require([\"vega-embed\"], displayChart, err => showError(`Error loading script: ${err.message}`));\n",
       "    } else {\n",
       "      maybeLoadScript(\"vega\", \"5\")\n",
       "        .then(() => maybeLoadScript(\"vega-lite\", \"4.17.0\"))\n",
       "        .then(() => maybeLoadScript(\"vega-embed\", \"6\"))\n",
       "        .catch(showError)\n",
       "        .then(() => displayChart(vegaEmbed));\n",
       "    }\n",
       "  })({\"usermeta\": {\"embedOptions\": {\"theme\": \"fivethirtyeight\"}}, \"config\": {\"view\": {\"continuousWidth\": 400, \"continuousHeight\": 300}}, \"vconcat\": [{\"layer\": [{\"mark\": {\"type\": \"bar\", \"color\": \"lightgrey\"}, \"encoding\": {\"x\": {\"axis\": {\"title\": \"\"}, \"field\": \"business_category\", \"type\": \"nominal\"}, \"y\": {\"axis\": {\"title\": \"swipe_flag %\"}, \"field\": \"swipe_flag\", \"type\": \"quantitative\"}}}, {\"mark\": {\"type\": \"text\", \"align\": \"center\", \"baseline\": \"middle\", \"dy\": -6}, \"encoding\": {\"text\": {\"field\": \"swipe_flag\", \"format\": \"1.0d\", \"type\": \"quantitative\"}, \"x\": {\"axis\": {\"title\": \"\"}, \"field\": \"business_category\", \"type\": \"nominal\"}, \"y\": {\"axis\": {\"labels\": false, \"ticks\": false, \"title\": \"\"}, \"field\": \"swipe_flag\", \"type\": \"quantitative\"}}}, {\"mark\": {\"type\": \"line\", \"color\": \"aqua\"}, \"encoding\": {\"x\": {\"axis\": {\"title\": \"\"}, \"field\": \"business_category\", \"type\": \"nominal\"}, \"y\": {\"field\": \"Count of Merchants\", \"type\": \"quantitative\"}}}, {\"mark\": {\"type\": \"text\", \"align\": \"center\", \"angle\": 80, \"baseline\": \"middle\", \"color\": \"black\", \"dy\": -6}, \"encoding\": {\"text\": {\"field\": \"Count of Merchants\", \"format\": \"1.0d\", \"type\": \"quantitative\"}, \"x\": {\"axis\": {\"title\": \"\"}, \"field\": \"business_category\", \"type\": \"nominal\"}, \"y\": {\"field\": \"Count of Merchants\", \"type\": \"quantitative\"}}}], \"data\": {\"name\": \"data-ad2bfb4eb96e82aac84a33bcf0e97d70\"}, \"height\": 250, \"resolve\": {\"scale\": {\"y\": \"independent\"}}, \"title\": \"business_category\", \"width\": 900}, {\"layer\": [{\"mark\": {\"type\": \"bar\", \"color\": \"lightgrey\"}, \"encoding\": {\"x\": {\"axis\": {\"title\": \"\"}, \"field\": \"zone_name\", \"type\": \"nominal\"}, \"y\": {\"axis\": {\"title\": \"swipe_flag %\"}, \"field\": \"swipe_flag\", \"type\": \"quantitative\"}}}, {\"mark\": {\"type\": \"text\", \"align\": \"center\", \"baseline\": \"middle\", \"dy\": -6}, \"encoding\": {\"text\": {\"field\": \"swipe_flag\", \"format\": \"1.0d\", \"type\": \"quantitative\"}, \"x\": {\"axis\": {\"title\": \"\"}, \"field\": \"zone_name\", \"type\": \"nominal\"}, \"y\": {\"axis\": {\"labels\": false, \"ticks\": false, \"title\": \"\"}, \"field\": \"swipe_flag\", \"type\": \"quantitative\"}}}, {\"mark\": {\"type\": \"line\", \"color\": \"aqua\"}, \"encoding\": {\"x\": {\"axis\": {\"title\": \"\"}, \"field\": \"zone_name\", \"type\": \"nominal\"}, \"y\": {\"field\": \"Count of Merchants\", \"type\": \"quantitative\"}}}, {\"mark\": {\"type\": \"text\", \"align\": \"center\", \"angle\": 80, \"baseline\": \"middle\", \"color\": \"black\", \"dy\": -6}, \"encoding\": {\"text\": {\"field\": \"Count of Merchants\", \"format\": \"1.0d\", \"type\": \"quantitative\"}, \"x\": {\"axis\": {\"title\": \"\"}, \"field\": \"zone_name\", \"type\": \"nominal\"}, \"y\": {\"field\": \"Count of Merchants\", \"type\": \"quantitative\"}}}], \"data\": {\"name\": \"data-098fb056ba9cc13b07d9706637bf9514\"}, \"height\": 250, \"resolve\": {\"scale\": {\"y\": \"independent\"}}, \"title\": \"zone_name\", \"width\": 900}], \"$schema\": \"https://vega.github.io/schema/vega-lite/v4.17.0.json\", \"datasets\": {\"data-ad2bfb4eb96e82aac84a33bcf0e97d70\": [{\"business_category\": \"AUTOMOBILES\", \"swipe_flag\": 5.1208627431279465, \"Count of Merchants\": 119433}, {\"business_category\": \"BEAUTY_WELLNESS\", \"swipe_flag\": 4.748082569524299, \"Count of Merchants\": 89573}, {\"business_category\": \"DAIRY_FRESH PRODUCTS\", \"swipe_flag\": 3.8307627932743595, \"Count of Merchants\": 169679}, {\"business_category\": \"EDUCATION\", \"swipe_flag\": 3.662121480432088, \"Count of Merchants\": 28235}, {\"business_category\": \"ELECTRONICS & DURABLES\", \"swipe_flag\": 7.992509512520668, \"Count of Merchants\": 150591}, {\"business_category\": \"ENTERTAINMENT\", \"swipe_flag\": 5.432232449016423, \"Count of Merchants\": 5541}, {\"business_category\": \"FASHION\", \"swipe_flag\": 11.192025256841848, \"Count of Merchants\": 114662}, {\"business_category\": \"FITNESS\", \"swipe_flag\": 88.8, \"Count of Merchants\": 125}, {\"business_category\": \"FOOD & BEVERAGES\", \"swipe_flag\": 4.492369269955007, \"Count of Merchants\": 428727}, {\"business_category\": \"FUEL\", \"swipe_flag\": 10.77715757835981, \"Count of Merchants\": 2329}, {\"business_category\": \"FUEL & GAS\", \"swipe_flag\": 6.07204116638079, \"Count of Merchants\": 5830}, {\"business_category\": \"FURNITURE AND DECOR\", \"swipe_flag\": 17.095946639302205, \"Count of Merchants\": 9745}, {\"business_category\": \"GROCERY_GENERAL STORE\", \"swipe_flag\": 5.536800577897092, \"Count of Merchants\": 483131}, {\"business_category\": \"HOME UTILITIES\", \"swipe_flag\": 5.13122026832006, \"Count of Merchants\": 18709}, {\"business_category\": \"JEWELLERY\", \"swipe_flag\": 29.233434387180594, \"Count of Merchants\": 16163}, {\"business_category\": \"LIQUOR_ ALCOHOL\", \"swipe_flag\": 13.424124513618677, \"Count of Merchants\": 8224}, {\"business_category\": \"MEDICAL_HEALTH CARE\", \"swipe_flag\": 9.62762345435308, \"Count of Merchants\": 126646}, {\"business_category\": \"OFFICE COMPLEX\", \"swipe_flag\": 6.7973856209150325, \"Count of Merchants\": 17595}, {\"business_category\": \"OTHERS_MISCELLANEOUS\", \"swipe_flag\": 3.3938121397647723, \"Count of Merchants\": 192409}, {\"business_category\": \"RETAIL OUTLET\", \"swipe_flag\": 9.640140433001756, \"Count of Merchants\": 252932}, {\"business_category\": \"ROADSIDE STALL_KIOSK\", \"swipe_flag\": 1.9624356660651026, \"Count of Merchants\": 149610}, {\"business_category\": \"SERVICES\", \"swipe_flag\": 4.174471112659901, \"Count of Merchants\": 137742}, {\"business_category\": \"TRANSPORTATION\", \"swipe_flag\": 1.5940347970173983, \"Count of Merchants\": 30175}, {\"business_category\": \"TRAVEL_HOSPITALITY\", \"swipe_flag\": 10.696311044743101, \"Count of Merchants\": 18081}, {\"business_category\": \"WHOLESALE_DISTRIBUTOR\", \"swipe_flag\": 13.280558435974607, \"Count of Merchants\": 39539}], \"data-098fb056ba9cc13b07d9706637bf9514\": [{\"zone_name\": \"Asansol\", \"swipe_flag\": 1.6235413495687467, \"Count of Merchants\": 13797}, {\"zone_name\": \"Bangalore\", \"swipe_flag\": 11.03759281576799, \"Count of Merchants\": 128615}, {\"zone_name\": \"Bihar Zone New\", \"swipe_flag\": 1.9981255267033686, \"Count of Merchants\": 126969}, {\"zone_name\": \"Central TamilNadu\", \"swipe_flag\": 3.160536830242803, \"Count of Merchants\": 19522}, {\"zone_name\": \"Chennai Cluster\", \"swipe_flag\": 11.298272684411298, \"Count of Merchants\": 69993}, {\"zone_name\": \"Delhi\", \"swipe_flag\": 13.331022530329289, \"Count of Merchants\": 57700}, {\"zone_name\": \"Gujarat\", \"swipe_flag\": 6.338496626437327, \"Count of Merchants\": 84184}, {\"zone_name\": \"Guwahati Zone\", \"swipe_flag\": 1.6586190246257848, \"Count of Merchants\": 41420}, {\"zone_name\": \"Haryana\", \"swipe_flag\": 5.786284432633136, \"Count of Merchants\": 106113}, {\"zone_name\": \"Hyderabad\", \"swipe_flag\": 15.5745279799818, \"Count of Merchants\": 140672}, {\"zone_name\": \"Kerala\", \"swipe_flag\": 3.0122392035005388, \"Count of Merchants\": 47307}, {\"zone_name\": \"Kolkata Zone\", \"swipe_flag\": 3.142511319316806, \"Count of Merchants\": 66921}, {\"zone_name\": \"Madhya Pradesh 1\", \"swipe_flag\": 2.207245038904429, \"Count of Merchants\": 144071}, {\"zone_name\": \"Malda\", \"swipe_flag\": 0.9244154431756388, \"Count of Merchants\": 5517}, {\"zone_name\": \"Mumbai\", \"swipe_flag\": 7.516835392231192, \"Count of Merchants\": 89692}, {\"zone_name\": \"North Andhra\", \"swipe_flag\": 7.2785862254162295, \"Count of Merchants\": 117303}, {\"zone_name\": \"North Karnataka\", \"swipe_flag\": 1.5871358462984233, \"Count of Merchants\": 28731}, {\"zone_name\": \"Odisha Zone\", \"swipe_flag\": 3.103669038151144, \"Count of Merchants\": 110901}, {\"zone_name\": \"Pune MH\", \"swipe_flag\": 13.856938027720247, \"Count of Merchants\": 94155}, {\"zone_name\": \"Punjab\", \"swipe_flag\": 4.248691854476536, \"Count of Merchants\": 121355}, {\"zone_name\": \"ROM\", \"swipe_flag\": 3.723689330367303, \"Count of Merchants\": 136209}, {\"zone_name\": \"Rajasthan\", \"swipe_flag\": 3.0053369217953296, \"Count of Merchants\": 109239}, {\"zone_name\": \"South Andhra\", \"swipe_flag\": 6.063407471858176, \"Count of Merchants\": 91945}, {\"zone_name\": \"South Karnataka\", \"swipe_flag\": 2.7184336113465055, \"Count of Merchants\": 44842}, {\"zone_name\": \"South TamilNadu\", \"swipe_flag\": 5.082135523613963, \"Count of Merchants\": 19480}, {\"zone_name\": \"Telangana\", \"swipe_flag\": 5.755027721516397, \"Count of Merchants\": 146637}, {\"zone_name\": \"UP East\", \"swipe_flag\": 4.705755819219274, \"Count of Merchants\": 176656}, {\"zone_name\": \"UP East Unmapped\", \"swipe_flag\": 3.6613272311212817, \"Count of Merchants\": 437}, {\"zone_name\": \"UP East Unmapped 2\", \"swipe_flag\": 0.9523809523809524, \"Count of Merchants\": 735}, {\"zone_name\": \"UP West\", \"swipe_flag\": 4.9192470282183764, \"Count of Merchants\": 110708}, {\"zone_name\": \"Uttarakhand\", \"swipe_flag\": 2.4364975826874375, \"Count of Merchants\": 26062}, {\"zone_name\": \"Vidarbha\", \"swipe_flag\": 2.7023716564849263, \"Count of Merchants\": 65313}, {\"zone_name\": \"Vizag Zone\", \"swipe_flag\": 8.054600657416005, \"Count of Merchants\": 39853}]}}, {\"mode\": \"vega-lite\"});\n",
       "</script>"
      ],
      "text/plain": [
       "alt.VConcatChart(...)"
      ]
     },
     "execution_count": 96,
     "metadata": {},
     "output_type": "execute_result"
    }
   ],
   "source": [
    "cat1.properties(width = 900, height = 250) & cat2.properties(width = 900, height = 250)"
   ]
  },
  {
   "cell_type": "code",
   "execution_count": 97,
   "id": "d644fde8-c247-4699-8120-a3608eb726df",
   "metadata": {},
   "outputs": [],
   "source": [
    "##### Speaker"
   ]
  },
  {
   "cell_type": "code",
   "execution_count": 98,
   "id": "64598089-46c2-49b7-815e-b8d23c05228e",
   "metadata": {},
   "outputs": [],
   "source": [
    "vis_df = pdt_final[imp_var]"
   ]
  },
  {
   "cell_type": "code",
   "execution_count": 99,
   "id": "30e1fecb-b42f-4197-a377-b9cb9c8239d5",
   "metadata": {},
   "outputs": [],
   "source": [
    "num1 = num_alt(col = 'total_txn_count', pdt = 'speaker')\n",
    "num2 = num_alt(col = 'm1_tpv',pdt = 'speaker')\n",
    "num3 = num_alt(col = 'w1_swipe_sessions',pdt = 'speaker')\n",
    "num4 = num_alt(col = 'total_atv',pdt = 'speaker')\n",
    "num5 = num_alt(col = 'total_unique_payers',pdt = 'speaker')\n",
    "num6 = num_alt(col = 'm1_atv',pdt = 'speaker')\n",
    "num7 = num_alt(col = 'm1_max_daily_tpv',pdt = 'speaker')\n",
    "num8 = num_alt(col = 'm1_active_days',pdt = 'speaker')\n",
    "num8 = num_alt(col = 'total_active_vintage',pdt = 'speaker')"
   ]
  },
  {
   "cell_type": "code",
   "execution_count": 100,
   "id": "44aa25f7-b07d-4641-b72e-d4ea699635d8",
   "metadata": {},
   "outputs": [
    {
     "data": {
      "text/html": [
       "\n",
       "<div id=\"altair-viz-9bbec13c6e784c11aca108a819370f59\"></div>\n",
       "<script type=\"text/javascript\">\n",
       "  var VEGA_DEBUG = (typeof VEGA_DEBUG == \"undefined\") ? {} : VEGA_DEBUG;\n",
       "  (function(spec, embedOpt){\n",
       "    let outputDiv = document.currentScript.previousElementSibling;\n",
       "    if (outputDiv.id !== \"altair-viz-9bbec13c6e784c11aca108a819370f59\") {\n",
       "      outputDiv = document.getElementById(\"altair-viz-9bbec13c6e784c11aca108a819370f59\");\n",
       "    }\n",
       "    const paths = {\n",
       "      \"vega\": \"https://cdn.jsdelivr.net/npm//vega@5?noext\",\n",
       "      \"vega-lib\": \"https://cdn.jsdelivr.net/npm//vega-lib?noext\",\n",
       "      \"vega-lite\": \"https://cdn.jsdelivr.net/npm//vega-lite@4.17.0?noext\",\n",
       "      \"vega-embed\": \"https://cdn.jsdelivr.net/npm//vega-embed@6?noext\",\n",
       "    };\n",
       "\n",
       "    function maybeLoadScript(lib, version) {\n",
       "      var key = `${lib.replace(\"-\", \"\")}_version`;\n",
       "      return (VEGA_DEBUG[key] == version) ?\n",
       "        Promise.resolve(paths[lib]) :\n",
       "        new Promise(function(resolve, reject) {\n",
       "          var s = document.createElement('script');\n",
       "          document.getElementsByTagName(\"head\")[0].appendChild(s);\n",
       "          s.async = true;\n",
       "          s.onload = () => {\n",
       "            VEGA_DEBUG[key] = version;\n",
       "            return resolve(paths[lib]);\n",
       "          };\n",
       "          s.onerror = () => reject(`Error loading script: ${paths[lib]}`);\n",
       "          s.src = paths[lib];\n",
       "        });\n",
       "    }\n",
       "\n",
       "    function showError(err) {\n",
       "      outputDiv.innerHTML = `<div class=\"error\" style=\"color:red;\">${err}</div>`;\n",
       "      throw err;\n",
       "    }\n",
       "\n",
       "    function displayChart(vegaEmbed) {\n",
       "      vegaEmbed(outputDiv, spec, embedOpt)\n",
       "        .catch(err => showError(`Javascript Error: ${err.message}<br>This usually means there's a typo in your chart specification. See the javascript console for the full traceback.`));\n",
       "    }\n",
       "\n",
       "    if(typeof define === \"function\" && define.amd) {\n",
       "      requirejs.config({paths});\n",
       "      require([\"vega-embed\"], displayChart, err => showError(`Error loading script: ${err.message}`));\n",
       "    } else {\n",
       "      maybeLoadScript(\"vega\", \"5\")\n",
       "        .then(() => maybeLoadScript(\"vega-lite\", \"4.17.0\"))\n",
       "        .then(() => maybeLoadScript(\"vega-embed\", \"6\"))\n",
       "        .catch(showError)\n",
       "        .then(() => displayChart(vegaEmbed));\n",
       "    }\n",
       "  })({\"usermeta\": {\"embedOptions\": {\"theme\": \"fivethirtyeight\"}}, \"config\": {\"view\": {\"continuousWidth\": 400, \"continuousHeight\": 300}}, \"vconcat\": [{\"hconcat\": [{\"layer\": [{\"mark\": {\"type\": \"bar\", \"color\": \"lightgrey\"}, \"encoding\": {\"x\": {\"axis\": {\"title\": \"\"}, \"field\": \"total_txn_count\", \"sort\": [-0.01, 0, 49, 183, 677, 16343030], \"type\": \"ordinal\"}, \"y\": {\"axis\": {\"title\": \"speaker_flag %\"}, \"field\": \"speaker_flag\", \"type\": \"quantitative\"}}}, {\"mark\": {\"type\": \"text\", \"align\": \"center\", \"baseline\": \"middle\", \"dy\": -6}, \"encoding\": {\"text\": {\"field\": \"speaker_flag\", \"format\": \".0f\", \"type\": \"quantitative\"}, \"x\": {\"axis\": {\"title\": \"\"}, \"field\": \"total_txn_count\", \"sort\": [-0.01, 0, 49, 183, 677, 16343030], \"type\": \"ordinal\"}, \"y\": {\"axis\": {\"labels\": false, \"ticks\": false, \"title\": \"\"}, \"field\": \"target\", \"type\": \"quantitative\"}}}, {\"mark\": {\"type\": \"line\", \"color\": \"aqua\"}, \"encoding\": {\"x\": {\"axis\": {\"title\": \"\"}, \"field\": \"total_txn_count\", \"sort\": [-0.01, 0, 49, 183, 677, 16343030], \"type\": \"ordinal\"}, \"y\": {\"field\": \"Count of Merchants\", \"type\": \"quantitative\"}}}, {\"mark\": {\"type\": \"text\", \"align\": \"center\", \"angle\": 80, \"baseline\": \"middle\", \"color\": \"black\", \"dy\": -6}, \"encoding\": {\"text\": {\"field\": \"Count of Merchants\", \"format\": \".0f\", \"type\": \"quantitative\"}, \"x\": {\"axis\": {\"title\": \"\"}, \"field\": \"total_txn_count\", \"sort\": [-0.01, 0, 49, 183, 677, 16343030], \"type\": \"ordinal\"}, \"y\": {\"field\": \"Count of Merchants\", \"type\": \"quantitative\"}}}], \"data\": {\"name\": \"data-817282ebb143f98bc2490cee84bd220f\"}, \"height\": 170, \"resolve\": {\"scale\": {\"y\": \"independent\"}}, \"title\": \"total_txn_count\", \"width\": 170}, {\"layer\": [{\"mark\": {\"type\": \"bar\", \"color\": \"lightgrey\"}, \"encoding\": {\"x\": {\"axis\": {\"title\": \"\"}, \"field\": \"m1_tpv\", \"sort\": [-0.01, 0, 599, 5166, 24632, 7508464960], \"type\": \"ordinal\"}, \"y\": {\"axis\": {\"title\": \"speaker_flag %\"}, \"field\": \"speaker_flag\", \"type\": \"quantitative\"}}}, {\"mark\": {\"type\": \"text\", \"align\": \"center\", \"baseline\": \"middle\", \"dy\": -6}, \"encoding\": {\"text\": {\"field\": \"speaker_flag\", \"format\": \".0f\", \"type\": \"quantitative\"}, \"x\": {\"axis\": {\"title\": \"\"}, \"field\": \"m1_tpv\", \"sort\": [-0.01, 0, 599, 5166, 24632, 7508464960], \"type\": \"ordinal\"}, \"y\": {\"axis\": {\"labels\": false, \"ticks\": false, \"title\": \"\"}, \"field\": \"target\", \"type\": \"quantitative\"}}}, {\"mark\": {\"type\": \"line\", \"color\": \"aqua\"}, \"encoding\": {\"x\": {\"axis\": {\"title\": \"\"}, \"field\": \"m1_tpv\", \"sort\": [-0.01, 0, 599, 5166, 24632, 7508464960], \"type\": \"ordinal\"}, \"y\": {\"field\": \"Count of Merchants\", \"type\": \"quantitative\"}}}, {\"mark\": {\"type\": \"text\", \"align\": \"center\", \"angle\": 80, \"baseline\": \"middle\", \"color\": \"black\", \"dy\": -6}, \"encoding\": {\"text\": {\"field\": \"Count of Merchants\", \"format\": \".0f\", \"type\": \"quantitative\"}, \"x\": {\"axis\": {\"title\": \"\"}, \"field\": \"m1_tpv\", \"sort\": [-0.01, 0, 599, 5166, 24632, 7508464960], \"type\": \"ordinal\"}, \"y\": {\"field\": \"Count of Merchants\", \"type\": \"quantitative\"}}}], \"data\": {\"name\": \"data-fc5bd6669f0a16fed2a685bebf04dc73\"}, \"height\": 170, \"resolve\": {\"scale\": {\"y\": \"independent\"}}, \"title\": \"m1_tpv\", \"width\": 170}, {\"layer\": [{\"mark\": {\"type\": \"bar\", \"color\": \"lightgrey\"}, \"encoding\": {\"x\": {\"axis\": {\"title\": \"\"}, \"field\": \"w1_swipe_sessions\", \"sort\": [-0.01, 0, 0, 0, 0, 5], \"type\": \"ordinal\"}, \"y\": {\"axis\": {\"title\": \"speaker_flag %\"}, \"field\": \"speaker_flag\", \"type\": \"quantitative\"}}}, {\"mark\": {\"type\": \"text\", \"align\": \"center\", \"baseline\": \"middle\", \"dy\": -6}, \"encoding\": {\"text\": {\"field\": \"speaker_flag\", \"format\": \".0f\", \"type\": \"quantitative\"}, \"x\": {\"axis\": {\"title\": \"\"}, \"field\": \"w1_swipe_sessions\", \"sort\": [-0.01, 0, 0, 0, 0, 5], \"type\": \"ordinal\"}, \"y\": {\"axis\": {\"labels\": false, \"ticks\": false, \"title\": \"\"}, \"field\": \"target\", \"type\": \"quantitative\"}}}, {\"mark\": {\"type\": \"line\", \"color\": \"aqua\"}, \"encoding\": {\"x\": {\"axis\": {\"title\": \"\"}, \"field\": \"w1_swipe_sessions\", \"sort\": [-0.01, 0, 0, 0, 0, 5], \"type\": \"ordinal\"}, \"y\": {\"field\": \"Count of Merchants\", \"type\": \"quantitative\"}}}, {\"mark\": {\"type\": \"text\", \"align\": \"center\", \"angle\": 80, \"baseline\": \"middle\", \"color\": \"black\", \"dy\": -6}, \"encoding\": {\"text\": {\"field\": \"Count of Merchants\", \"format\": \".0f\", \"type\": \"quantitative\"}, \"x\": {\"axis\": {\"title\": \"\"}, \"field\": \"w1_swipe_sessions\", \"sort\": [-0.01, 0, 0, 0, 0, 5], \"type\": \"ordinal\"}, \"y\": {\"field\": \"Count of Merchants\", \"type\": \"quantitative\"}}}], \"data\": {\"name\": \"data-454649c7c901755cc448634ac874dc2a\"}, \"height\": 170, \"resolve\": {\"scale\": {\"y\": \"independent\"}}, \"title\": \"w1_swipe_sessions\", \"width\": 170}, {\"layer\": [{\"mark\": {\"type\": \"bar\", \"color\": \"lightgrey\"}, \"encoding\": {\"x\": {\"axis\": {\"title\": \"\"}, \"field\": \"total_atv\", \"sort\": [-0.01, 1, 95, 252, 778, 100000], \"type\": \"ordinal\"}, \"y\": {\"axis\": {\"title\": \"speaker_flag %\"}, \"field\": \"speaker_flag\", \"type\": \"quantitative\"}}}, {\"mark\": {\"type\": \"text\", \"align\": \"center\", \"baseline\": \"middle\", \"dy\": -6}, \"encoding\": {\"text\": {\"field\": \"speaker_flag\", \"format\": \".0f\", \"type\": \"quantitative\"}, \"x\": {\"axis\": {\"title\": \"\"}, \"field\": \"total_atv\", \"sort\": [-0.01, 1, 95, 252, 778, 100000], \"type\": \"ordinal\"}, \"y\": {\"axis\": {\"labels\": false, \"ticks\": false, \"title\": \"\"}, \"field\": \"target\", \"type\": \"quantitative\"}}}, {\"mark\": {\"type\": \"line\", \"color\": \"aqua\"}, \"encoding\": {\"x\": {\"axis\": {\"title\": \"\"}, \"field\": \"total_atv\", \"sort\": [-0.01, 1, 95, 252, 778, 100000], \"type\": \"ordinal\"}, \"y\": {\"field\": \"Count of Merchants\", \"type\": \"quantitative\"}}}, {\"mark\": {\"type\": \"text\", \"align\": \"center\", \"angle\": 80, \"baseline\": \"middle\", \"color\": \"black\", \"dy\": -6}, \"encoding\": {\"text\": {\"field\": \"Count of Merchants\", \"format\": \".0f\", \"type\": \"quantitative\"}, \"x\": {\"axis\": {\"title\": \"\"}, \"field\": \"total_atv\", \"sort\": [-0.01, 1, 95, 252, 778, 100000], \"type\": \"ordinal\"}, \"y\": {\"field\": \"Count of Merchants\", \"type\": \"quantitative\"}}}], \"data\": {\"name\": \"data-6d511fcca5ae3263e6a3a5dcbe1f9b4d\"}, \"height\": 170, \"resolve\": {\"scale\": {\"y\": \"independent\"}}, \"title\": \"total_atv\", \"width\": 170}]}, {\"hconcat\": [{\"layer\": [{\"mark\": {\"type\": \"bar\", \"color\": \"lightgrey\"}, \"encoding\": {\"x\": {\"axis\": {\"title\": \"\"}, \"field\": \"total_unique_payers\", \"sort\": [-0.01, 0, 34, 121, 421, 9558592], \"type\": \"ordinal\"}, \"y\": {\"axis\": {\"title\": \"speaker_flag %\"}, \"field\": \"speaker_flag\", \"type\": \"quantitative\"}}}, {\"mark\": {\"type\": \"text\", \"align\": \"center\", \"baseline\": \"middle\", \"dy\": -6}, \"encoding\": {\"text\": {\"field\": \"speaker_flag\", \"format\": \".0f\", \"type\": \"quantitative\"}, \"x\": {\"axis\": {\"title\": \"\"}, \"field\": \"total_unique_payers\", \"sort\": [-0.01, 0, 34, 121, 421, 9558592], \"type\": \"ordinal\"}, \"y\": {\"axis\": {\"labels\": false, \"ticks\": false, \"title\": \"\"}, \"field\": \"target\", \"type\": \"quantitative\"}}}, {\"mark\": {\"type\": \"line\", \"color\": \"aqua\"}, \"encoding\": {\"x\": {\"axis\": {\"title\": \"\"}, \"field\": \"total_unique_payers\", \"sort\": [-0.01, 0, 34, 121, 421, 9558592], \"type\": \"ordinal\"}, \"y\": {\"field\": \"Count of Merchants\", \"type\": \"quantitative\"}}}, {\"mark\": {\"type\": \"text\", \"align\": \"center\", \"angle\": 80, \"baseline\": \"middle\", \"color\": \"black\", \"dy\": -6}, \"encoding\": {\"text\": {\"field\": \"Count of Merchants\", \"format\": \".0f\", \"type\": \"quantitative\"}, \"x\": {\"axis\": {\"title\": \"\"}, \"field\": \"total_unique_payers\", \"sort\": [-0.01, 0, 34, 121, 421, 9558592], \"type\": \"ordinal\"}, \"y\": {\"field\": \"Count of Merchants\", \"type\": \"quantitative\"}}}], \"data\": {\"name\": \"data-f3be81b9dfd87a594ced2f825cb19364\"}, \"height\": 170, \"resolve\": {\"scale\": {\"y\": \"independent\"}}, \"title\": \"total_unique_payers\", \"width\": 170}, {\"layer\": [{\"mark\": {\"type\": \"bar\", \"color\": \"lightgrey\"}, \"encoding\": {\"x\": {\"axis\": {\"title\": \"\"}, \"field\": \"m1_atv\", \"sort\": [-0.01, 1, 74, 212, 742, 128847], \"type\": \"ordinal\"}, \"y\": {\"axis\": {\"title\": \"speaker_flag %\"}, \"field\": \"speaker_flag\", \"type\": \"quantitative\"}}}, {\"mark\": {\"type\": \"text\", \"align\": \"center\", \"baseline\": \"middle\", \"dy\": -6}, \"encoding\": {\"text\": {\"field\": \"speaker_flag\", \"format\": \".0f\", \"type\": \"quantitative\"}, \"x\": {\"axis\": {\"title\": \"\"}, \"field\": \"m1_atv\", \"sort\": [-0.01, 1, 74, 212, 742, 128847], \"type\": \"ordinal\"}, \"y\": {\"axis\": {\"labels\": false, \"ticks\": false, \"title\": \"\"}, \"field\": \"target\", \"type\": \"quantitative\"}}}, {\"mark\": {\"type\": \"line\", \"color\": \"aqua\"}, \"encoding\": {\"x\": {\"axis\": {\"title\": \"\"}, \"field\": \"m1_atv\", \"sort\": [-0.01, 1, 74, 212, 742, 128847], \"type\": \"ordinal\"}, \"y\": {\"field\": \"Count of Merchants\", \"type\": \"quantitative\"}}}, {\"mark\": {\"type\": \"text\", \"align\": \"center\", \"angle\": 80, \"baseline\": \"middle\", \"color\": \"black\", \"dy\": -6}, \"encoding\": {\"text\": {\"field\": \"Count of Merchants\", \"format\": \".0f\", \"type\": \"quantitative\"}, \"x\": {\"axis\": {\"title\": \"\"}, \"field\": \"m1_atv\", \"sort\": [-0.01, 1, 74, 212, 742, 128847], \"type\": \"ordinal\"}, \"y\": {\"field\": \"Count of Merchants\", \"type\": \"quantitative\"}}}], \"data\": {\"name\": \"data-ca549133d71fdc9658ccea04185cd17e\"}, \"height\": 170, \"resolve\": {\"scale\": {\"y\": \"independent\"}}, \"title\": \"m1_atv\", \"width\": 170}, {\"layer\": [{\"mark\": {\"type\": \"bar\", \"color\": \"lightgrey\"}, \"encoding\": {\"x\": {\"axis\": {\"title\": \"\"}, \"field\": \"m1_max_daily_tpv\", \"sort\": [-0.01, 0, 250, 1500, 6100, 716385873], \"type\": \"ordinal\"}, \"y\": {\"axis\": {\"title\": \"speaker_flag %\"}, \"field\": \"speaker_flag\", \"type\": \"quantitative\"}}}, {\"mark\": {\"type\": \"text\", \"align\": \"center\", \"baseline\": \"middle\", \"dy\": -6}, \"encoding\": {\"text\": {\"field\": \"speaker_flag\", \"format\": \".0f\", \"type\": \"quantitative\"}, \"x\": {\"axis\": {\"title\": \"\"}, \"field\": \"m1_max_daily_tpv\", \"sort\": [-0.01, 0, 250, 1500, 6100, 716385873], \"type\": \"ordinal\"}, \"y\": {\"axis\": {\"labels\": false, \"ticks\": false, \"title\": \"\"}, \"field\": \"target\", \"type\": \"quantitative\"}}}, {\"mark\": {\"type\": \"line\", \"color\": \"aqua\"}, \"encoding\": {\"x\": {\"axis\": {\"title\": \"\"}, \"field\": \"m1_max_daily_tpv\", \"sort\": [-0.01, 0, 250, 1500, 6100, 716385873], \"type\": \"ordinal\"}, \"y\": {\"field\": \"Count of Merchants\", \"type\": \"quantitative\"}}}, {\"mark\": {\"type\": \"text\", \"align\": \"center\", \"angle\": 80, \"baseline\": \"middle\", \"color\": \"black\", \"dy\": -6}, \"encoding\": {\"text\": {\"field\": \"Count of Merchants\", \"format\": \".0f\", \"type\": \"quantitative\"}, \"x\": {\"axis\": {\"title\": \"\"}, \"field\": \"m1_max_daily_tpv\", \"sort\": [-0.01, 0, 250, 1500, 6100, 716385873], \"type\": \"ordinal\"}, \"y\": {\"field\": \"Count of Merchants\", \"type\": \"quantitative\"}}}], \"data\": {\"name\": \"data-099688b36bc0eab6df2296aafbca6aed\"}, \"height\": 170, \"resolve\": {\"scale\": {\"y\": \"independent\"}}, \"title\": \"m1_max_daily_tpv\", \"width\": 170}, {\"layer\": [{\"mark\": {\"type\": \"bar\", \"color\": \"lightgrey\"}, \"encoding\": {\"x\": {\"axis\": {\"title\": \"\"}, \"field\": \"total_active_vintage\", \"sort\": [-0.01, 0, 26, 81, 215, 1073], \"type\": \"ordinal\"}, \"y\": {\"axis\": {\"title\": \"speaker_flag %\"}, \"field\": \"speaker_flag\", \"type\": \"quantitative\"}}}, {\"mark\": {\"type\": \"text\", \"align\": \"center\", \"baseline\": \"middle\", \"dy\": -6}, \"encoding\": {\"text\": {\"field\": \"speaker_flag\", \"format\": \".0f\", \"type\": \"quantitative\"}, \"x\": {\"axis\": {\"title\": \"\"}, \"field\": \"total_active_vintage\", \"sort\": [-0.01, 0, 26, 81, 215, 1073], \"type\": \"ordinal\"}, \"y\": {\"axis\": {\"labels\": false, \"ticks\": false, \"title\": \"\"}, \"field\": \"target\", \"type\": \"quantitative\"}}}, {\"mark\": {\"type\": \"line\", \"color\": \"aqua\"}, \"encoding\": {\"x\": {\"axis\": {\"title\": \"\"}, \"field\": \"total_active_vintage\", \"sort\": [-0.01, 0, 26, 81, 215, 1073], \"type\": \"ordinal\"}, \"y\": {\"field\": \"Count of Merchants\", \"type\": \"quantitative\"}}}, {\"mark\": {\"type\": \"text\", \"align\": \"center\", \"angle\": 80, \"baseline\": \"middle\", \"color\": \"black\", \"dy\": -6}, \"encoding\": {\"text\": {\"field\": \"Count of Merchants\", \"format\": \".0f\", \"type\": \"quantitative\"}, \"x\": {\"axis\": {\"title\": \"\"}, \"field\": \"total_active_vintage\", \"sort\": [-0.01, 0, 26, 81, 215, 1073], \"type\": \"ordinal\"}, \"y\": {\"field\": \"Count of Merchants\", \"type\": \"quantitative\"}}}], \"data\": {\"name\": \"data-a374daa30d569494a9923557aeac5a4b\"}, \"height\": 170, \"resolve\": {\"scale\": {\"y\": \"independent\"}}, \"title\": \"total_active_vintage\", \"width\": 170}]}], \"$schema\": \"https://vega.github.io/schema/vega-lite/v4.17.0.json\", \"datasets\": {\"data-817282ebb143f98bc2490cee84bd220f\": [{\"total_txn_count\": \"(-0.01, 0.0]\", \"speaker_flag\": 0.0, \"Count of Merchants\": 8}, {\"total_txn_count\": \"(0.0, 49.0]\", \"speaker_flag\": 5.736642482429925, \"Count of Merchants\": 668893}, {\"total_txn_count\": \"(49.0, 183.0]\", \"speaker_flag\": 9.70167708625489, \"Count of Merchants\": 663174}, {\"total_txn_count\": \"(183.0, 677.0]\", \"speaker_flag\": 17.31096090157921, \"Count of Merchants\": 662482}, {\"total_txn_count\": \"(677.0, 16343030.0]\", \"speaker_flag\": 38.98505961246252, \"Count of Merchants\": 664039}], \"data-fc5bd6669f0a16fed2a685bebf04dc73\": [{\"m1_tpv\": \"(-0.01, 0.0]\", \"speaker_flag\": 5.324343658097447, \"Count of Merchants\": 289369}, {\"m1_tpv\": \"(0.0, 599.0]\", \"speaker_flag\": 4.838683890771887, \"Count of Merchants\": 375288}, {\"m1_tpv\": \"(599.0, 5166.0]\", \"speaker_flag\": 8.760926146022959, \"Count of Merchants\": 664690}, {\"m1_tpv\": \"(5166.0, 24632.0]\", \"speaker_flag\": 20.071440823585704, \"Count of Merchants\": 664606}, {\"m1_tpv\": \"(24632.0, 7508464960.0]\", \"speaker_flag\": 37.77582518107492, \"Count of Merchants\": 664642}], \"data-454649c7c901755cc448634ac874dc2a\": [{\"w1_swipe_sessions\": \"(-0.01, 0.0]\", \"speaker_flag\": 18.89383505506278, \"Count of Merchants\": 2415788}, {\"w1_swipe_sessions\": \"(0.0, 5.0]\", \"speaker_flag\": 47.43172951885566, \"Count of Merchants\": 3076}], \"data-6d511fcca5ae3263e6a3a5dcbe1f9b4d\": [{\"total_atv\": \"(-0.01, 1.0]\", \"speaker_flag\": 7.6923076923076925, \"Count of Merchants\": 39}, {\"total_atv\": \"(1.0, 95.0]\", \"speaker_flag\": 18.644523786724303, \"Count of Merchants\": 657909}, {\"total_atv\": \"(95.0, 252.0]\", \"speaker_flag\": 20.528939467572233, \"Count of Merchants\": 670814}, {\"total_atv\": \"(252.0, 778.0]\", \"speaker_flag\": 18.309138543075857, \"Count of Merchants\": 664537}, {\"total_atv\": \"(778.0, 100000.0]\", \"speaker_flag\": 14.162266323357217, \"Count of Merchants\": 665289}], \"data-f3be81b9dfd87a594ced2f825cb19364\": [{\"total_unique_payers\": \"(-0.01, 0.0]\", \"speaker_flag\": 0.0, \"Count of Merchants\": 10}, {\"total_unique_payers\": \"(0.0, 34.0]\", \"speaker_flag\": 5.429689522780905, \"Count of Merchants\": 675895}, {\"total_unique_payers\": \"(34.0, 121.0]\", \"speaker_flag\": 9.782426880042822, \"Count of Merchants\": 657618}, {\"total_unique_payers\": \"(121.0, 421.0]\", \"speaker_flag\": 17.653072953532124, \"Count of Merchants\": 661188}, {\"total_unique_payers\": \"(421.0, 9558592.0]\", \"speaker_flag\": 38.94032852075284, \"Count of Merchants\": 663885}], \"data-ca549133d71fdc9658ccea04185cd17e\": [{\"m1_atv\": \"(-0.01, 1.0]\", \"speaker_flag\": 9.715400173360301, \"Count of Merchants\": 13844}, {\"m1_atv\": \"(1.0, 74.0]\", \"speaker_flag\": 17.928408968210015, \"Count of Merchants\": 574206}, {\"m1_atv\": \"(74.0, 212.0]\", \"speaker_flag\": 22.921327976911744, \"Count of Merchants\": 596667}, {\"m1_atv\": \"(212.0, 742.0]\", \"speaker_flag\": 21.474709348003493, \"Count of Merchants\": 591859}, {\"m1_atv\": \"(742.0, 128847.0]\", \"speaker_flag\": 15.642790854635958, \"Count of Merchants\": 592650}], \"data-099688b36bc0eab6df2296aafbca6aed\": [{\"m1_max_daily_tpv\": \"(-0.01, 0.0]\", \"speaker_flag\": 5.324343658097447, \"Count of Merchants\": 289369}, {\"m1_max_daily_tpv\": \"(0.0, 250.0]\", \"speaker_flag\": 4.977098832437584, \"Count of Merchants\": 377710}, {\"m1_max_daily_tpv\": \"(250.0, 1500.0]\", \"speaker_flag\": 12.827629569747598, \"Count of Merchants\": 667980}, {\"m1_max_daily_tpv\": \"(1500.0, 6100.0]\", \"speaker_flag\": 23.410887720664785, \"Count of Merchants\": 659881}, {\"m1_max_daily_tpv\": \"(6100.0, 716385873.0]\", \"speaker_flag\": 30.421378577724873, \"Count of Merchants\": 663655}], \"data-a374daa30d569494a9923557aeac5a4b\": [{\"total_active_vintage\": \"(-0.01, 0.0]\", \"speaker_flag\": 0.0, \"Count of Merchants\": 8}, {\"total_active_vintage\": \"(0.0, 26.0]\", \"speaker_flag\": 8.65165184694698, \"Count of Merchants\": 676576}, {\"total_active_vintage\": \"(26.0, 81.0]\", \"speaker_flag\": 13.562087247982868, \"Count of Merchants\": 652783}, {\"total_active_vintage\": \"(81.0, 215.0]\", \"speaker_flag\": 17.86126015108381, \"Count of Merchants\": 667047}, {\"total_active_vintage\": \"(215.0, 1073.0]\", \"speaker_flag\": 31.722396561670358, \"Count of Merchants\": 662182}]}}, {\"mode\": \"vega-lite\"});\n",
       "</script>"
      ],
      "text/plain": [
       "alt.VConcatChart(...)"
      ]
     },
     "execution_count": 100,
     "metadata": {},
     "output_type": "execute_result"
    }
   ],
   "source": [
    "(num1|num2|num3|num4) & (num5|num6|num7|num8)"
   ]
  },
  {
   "cell_type": "code",
   "execution_count": 101,
   "id": "eb3d0d21-9882-4bfd-b43b-f8281f53fabd",
   "metadata": {},
   "outputs": [],
   "source": [
    "cat1 = cat_alt(col = 'business_category', pdt = 'speaker')\n",
    "cat2 = cat_alt(col = 'zone_name', pdt = 'speaker')"
   ]
  },
  {
   "cell_type": "code",
   "execution_count": 102,
   "id": "ef89a711-e0cf-4183-bee0-870263c704dd",
   "metadata": {},
   "outputs": [
    {
     "data": {
      "text/html": [
       "\n",
       "<div id=\"altair-viz-cee68730c48040239648251e9ba0592b\"></div>\n",
       "<script type=\"text/javascript\">\n",
       "  var VEGA_DEBUG = (typeof VEGA_DEBUG == \"undefined\") ? {} : VEGA_DEBUG;\n",
       "  (function(spec, embedOpt){\n",
       "    let outputDiv = document.currentScript.previousElementSibling;\n",
       "    if (outputDiv.id !== \"altair-viz-cee68730c48040239648251e9ba0592b\") {\n",
       "      outputDiv = document.getElementById(\"altair-viz-cee68730c48040239648251e9ba0592b\");\n",
       "    }\n",
       "    const paths = {\n",
       "      \"vega\": \"https://cdn.jsdelivr.net/npm//vega@5?noext\",\n",
       "      \"vega-lib\": \"https://cdn.jsdelivr.net/npm//vega-lib?noext\",\n",
       "      \"vega-lite\": \"https://cdn.jsdelivr.net/npm//vega-lite@4.17.0?noext\",\n",
       "      \"vega-embed\": \"https://cdn.jsdelivr.net/npm//vega-embed@6?noext\",\n",
       "    };\n",
       "\n",
       "    function maybeLoadScript(lib, version) {\n",
       "      var key = `${lib.replace(\"-\", \"\")}_version`;\n",
       "      return (VEGA_DEBUG[key] == version) ?\n",
       "        Promise.resolve(paths[lib]) :\n",
       "        new Promise(function(resolve, reject) {\n",
       "          var s = document.createElement('script');\n",
       "          document.getElementsByTagName(\"head\")[0].appendChild(s);\n",
       "          s.async = true;\n",
       "          s.onload = () => {\n",
       "            VEGA_DEBUG[key] = version;\n",
       "            return resolve(paths[lib]);\n",
       "          };\n",
       "          s.onerror = () => reject(`Error loading script: ${paths[lib]}`);\n",
       "          s.src = paths[lib];\n",
       "        });\n",
       "    }\n",
       "\n",
       "    function showError(err) {\n",
       "      outputDiv.innerHTML = `<div class=\"error\" style=\"color:red;\">${err}</div>`;\n",
       "      throw err;\n",
       "    }\n",
       "\n",
       "    function displayChart(vegaEmbed) {\n",
       "      vegaEmbed(outputDiv, spec, embedOpt)\n",
       "        .catch(err => showError(`Javascript Error: ${err.message}<br>This usually means there's a typo in your chart specification. See the javascript console for the full traceback.`));\n",
       "    }\n",
       "\n",
       "    if(typeof define === \"function\" && define.amd) {\n",
       "      requirejs.config({paths});\n",
       "      require([\"vega-embed\"], displayChart, err => showError(`Error loading script: ${err.message}`));\n",
       "    } else {\n",
       "      maybeLoadScript(\"vega\", \"5\")\n",
       "        .then(() => maybeLoadScript(\"vega-lite\", \"4.17.0\"))\n",
       "        .then(() => maybeLoadScript(\"vega-embed\", \"6\"))\n",
       "        .catch(showError)\n",
       "        .then(() => displayChart(vegaEmbed));\n",
       "    }\n",
       "  })({\"usermeta\": {\"embedOptions\": {\"theme\": \"fivethirtyeight\"}}, \"config\": {\"view\": {\"continuousWidth\": 400, \"continuousHeight\": 300}}, \"vconcat\": [{\"layer\": [{\"mark\": {\"type\": \"bar\", \"color\": \"lightgrey\"}, \"encoding\": {\"x\": {\"axis\": {\"title\": \"\"}, \"field\": \"business_category\", \"type\": \"nominal\"}, \"y\": {\"axis\": {\"title\": \"speaker_flag %\"}, \"field\": \"speaker_flag\", \"type\": \"quantitative\"}}}, {\"mark\": {\"type\": \"text\", \"align\": \"center\", \"baseline\": \"middle\", \"dy\": -6}, \"encoding\": {\"text\": {\"field\": \"speaker_flag\", \"format\": \"1.0d\", \"type\": \"quantitative\"}, \"x\": {\"axis\": {\"title\": \"\"}, \"field\": \"business_category\", \"type\": \"nominal\"}, \"y\": {\"axis\": {\"labels\": false, \"ticks\": false, \"title\": \"\"}, \"field\": \"speaker_flag\", \"type\": \"quantitative\"}}}, {\"mark\": {\"type\": \"line\", \"color\": \"aqua\"}, \"encoding\": {\"x\": {\"axis\": {\"title\": \"\"}, \"field\": \"business_category\", \"type\": \"nominal\"}, \"y\": {\"field\": \"Count of Merchants\", \"type\": \"quantitative\"}}}, {\"mark\": {\"type\": \"text\", \"align\": \"center\", \"angle\": 80, \"baseline\": \"middle\", \"color\": \"black\", \"dy\": -6}, \"encoding\": {\"text\": {\"field\": \"Count of Merchants\", \"format\": \"1.0d\", \"type\": \"quantitative\"}, \"x\": {\"axis\": {\"title\": \"\"}, \"field\": \"business_category\", \"type\": \"nominal\"}, \"y\": {\"field\": \"Count of Merchants\", \"type\": \"quantitative\"}}}], \"data\": {\"name\": \"data-fc4a7559389c8959cfc40ef95bd3a275\"}, \"height\": 250, \"resolve\": {\"scale\": {\"y\": \"independent\"}}, \"title\": \"business_category\", \"width\": 900}, {\"layer\": [{\"mark\": {\"type\": \"bar\", \"color\": \"lightgrey\"}, \"encoding\": {\"x\": {\"axis\": {\"title\": \"\"}, \"field\": \"zone_name\", \"type\": \"nominal\"}, \"y\": {\"axis\": {\"title\": \"speaker_flag %\"}, \"field\": \"speaker_flag\", \"type\": \"quantitative\"}}}, {\"mark\": {\"type\": \"text\", \"align\": \"center\", \"baseline\": \"middle\", \"dy\": -6}, \"encoding\": {\"text\": {\"field\": \"speaker_flag\", \"format\": \"1.0d\", \"type\": \"quantitative\"}, \"x\": {\"axis\": {\"title\": \"\"}, \"field\": \"zone_name\", \"type\": \"nominal\"}, \"y\": {\"axis\": {\"labels\": false, \"ticks\": false, \"title\": \"\"}, \"field\": \"speaker_flag\", \"type\": \"quantitative\"}}}, {\"mark\": {\"type\": \"line\", \"color\": \"aqua\"}, \"encoding\": {\"x\": {\"axis\": {\"title\": \"\"}, \"field\": \"zone_name\", \"type\": \"nominal\"}, \"y\": {\"field\": \"Count of Merchants\", \"type\": \"quantitative\"}}}, {\"mark\": {\"type\": \"text\", \"align\": \"center\", \"angle\": 80, \"baseline\": \"middle\", \"color\": \"black\", \"dy\": -6}, \"encoding\": {\"text\": {\"field\": \"Count of Merchants\", \"format\": \"1.0d\", \"type\": \"quantitative\"}, \"x\": {\"axis\": {\"title\": \"\"}, \"field\": \"zone_name\", \"type\": \"nominal\"}, \"y\": {\"field\": \"Count of Merchants\", \"type\": \"quantitative\"}}}], \"data\": {\"name\": \"data-86cacc646e69d7d8ea830c613179236a\"}, \"height\": 250, \"resolve\": {\"scale\": {\"y\": \"independent\"}}, \"title\": \"zone_name\", \"width\": 900}], \"$schema\": \"https://vega.github.io/schema/vega-lite/v4.17.0.json\", \"datasets\": {\"data-fc4a7559389c8959cfc40ef95bd3a275\": [{\"business_category\": \"AUTOMOBILES\", \"speaker_flag\": 11.500171644352902, \"Count of Merchants\": 119433}, {\"business_category\": \"BEAUTY_WELLNESS\", \"speaker_flag\": 11.779219184352428, \"Count of Merchants\": 89573}, {\"business_category\": \"DAIRY_FRESH PRODUCTS\", \"speaker_flag\": 25.06379693421107, \"Count of Merchants\": 169679}, {\"business_category\": \"EDUCATION\", \"speaker_flag\": 8.60988135293076, \"Count of Merchants\": 28235}, {\"business_category\": \"ELECTRONICS & DURABLES\", \"speaker_flag\": 11.771619817917406, \"Count of Merchants\": 150591}, {\"business_category\": \"ENTERTAINMENT\", \"speaker_flag\": 11.351741562894786, \"Count of Merchants\": 5541}, {\"business_category\": \"FASHION\", \"speaker_flag\": 18.691458373305892, \"Count of Merchants\": 114662}, {\"business_category\": \"FITNESS\", \"speaker_flag\": 15.2, \"Count of Merchants\": 125}, {\"business_category\": \"FOOD & BEVERAGES\", \"speaker_flag\": 26.505211941398603, \"Count of Merchants\": 428727}, {\"business_category\": \"FUEL\", \"speaker_flag\": 37.655646200085876, \"Count of Merchants\": 2329}, {\"business_category\": \"FUEL & GAS\", \"speaker_flag\": 18.404802744425385, \"Count of Merchants\": 5830}, {\"business_category\": \"FURNITURE AND DECOR\", \"speaker_flag\": 14.171369933299127, \"Count of Merchants\": 9745}, {\"business_category\": \"GROCERY_GENERAL STORE\", \"speaker_flag\": 19.9382776100064, \"Count of Merchants\": 483131}, {\"business_category\": \"HOME UTILITIES\", \"speaker_flag\": 13.159441979795819, \"Count of Merchants\": 18709}, {\"business_category\": \"JEWELLERY\", \"speaker_flag\": 14.093918208253417, \"Count of Merchants\": 16163}, {\"business_category\": \"LIQUOR_ ALCOHOL\", \"speaker_flag\": 37.42704280155642, \"Count of Merchants\": 8224}, {\"business_category\": \"MEDICAL_HEALTH CARE\", \"speaker_flag\": 16.486110891777077, \"Count of Merchants\": 126646}, {\"business_category\": \"OFFICE COMPLEX\", \"speaker_flag\": 11.463483944302359, \"Count of Merchants\": 17595}, {\"business_category\": \"OTHERS_MISCELLANEOUS\", \"speaker_flag\": 12.112219282881778, \"Count of Merchants\": 192409}, {\"business_category\": \"RETAIL OUTLET\", \"speaker_flag\": 16.693814938402415, \"Count of Merchants\": 252932}, {\"business_category\": \"ROADSIDE STALL_KIOSK\", \"speaker_flag\": 21.47115834503041, \"Count of Merchants\": 149610}, {\"business_category\": \"SERVICES\", \"speaker_flag\": 9.602735549070001, \"Count of Merchants\": 137742}, {\"business_category\": \"TRANSPORTATION\", \"speaker_flag\": 4.454018227009113, \"Count of Merchants\": 30175}, {\"business_category\": \"TRAVEL_HOSPITALITY\", \"speaker_flag\": 10.867761738841878, \"Count of Merchants\": 18081}, {\"business_category\": \"WHOLESALE_DISTRIBUTOR\", \"speaker_flag\": 17.969599635802624, \"Count of Merchants\": 39539}], \"data-86cacc646e69d7d8ea830c613179236a\": [{\"zone_name\": \"Asansol\", \"speaker_flag\": 11.176342683191997, \"Count of Merchants\": 13797}, {\"zone_name\": \"Bangalore\", \"speaker_flag\": 24.41550363487929, \"Count of Merchants\": 128615}, {\"zone_name\": \"Bihar Zone New\", \"speaker_flag\": 9.484992399719616, \"Count of Merchants\": 126969}, {\"zone_name\": \"Central TamilNadu\", \"speaker_flag\": 18.292183177953078, \"Count of Merchants\": 19522}, {\"zone_name\": \"Chennai Cluster\", \"speaker_flag\": 27.355592702127357, \"Count of Merchants\": 69993}, {\"zone_name\": \"Delhi\", \"speaker_flag\": 14.537261698440208, \"Count of Merchants\": 57700}, {\"zone_name\": \"Gujarat\", \"speaker_flag\": 13.0476099971491, \"Count of Merchants\": 84184}, {\"zone_name\": \"Guwahati Zone\", \"speaker_flag\": 8.807339449541285, \"Count of Merchants\": 41420}, {\"zone_name\": \"Haryana\", \"speaker_flag\": 13.649599954765204, \"Count of Merchants\": 106113}, {\"zone_name\": \"Hyderabad\", \"speaker_flag\": 25.764899909008186, \"Count of Merchants\": 140672}, {\"zone_name\": \"Kerala\", \"speaker_flag\": 19.75394761874564, \"Count of Merchants\": 47307}, {\"zone_name\": \"Kolkata Zone\", \"speaker_flag\": 13.39639276161444, \"Count of Merchants\": 66921}, {\"zone_name\": \"Madhya Pradesh 1\", \"speaker_flag\": 12.889478104545676, \"Count of Merchants\": 144071}, {\"zone_name\": \"Malda\", \"speaker_flag\": 5.618995831067609, \"Count of Merchants\": 5517}, {\"zone_name\": \"Mumbai\", \"speaker_flag\": 15.654684921732152, \"Count of Merchants\": 89692}, {\"zone_name\": \"North Andhra\", \"speaker_flag\": 26.642967358038582, \"Count of Merchants\": 117303}, {\"zone_name\": \"North Karnataka\", \"speaker_flag\": 16.12891998190108, \"Count of Merchants\": 28731}, {\"zone_name\": \"Odisha Zone\", \"speaker_flag\": 22.250475649453115, \"Count of Merchants\": 110901}, {\"zone_name\": \"Pune MH\", \"speaker_flag\": 26.65498380330306, \"Count of Merchants\": 94155}, {\"zone_name\": \"Punjab\", \"speaker_flag\": 14.169997115899632, \"Count of Merchants\": 121355}, {\"zone_name\": \"ROM\", \"speaker_flag\": 19.192564367993302, \"Count of Merchants\": 136209}, {\"zone_name\": \"Rajasthan\", \"speaker_flag\": 7.509222896584553, \"Count of Merchants\": 109239}, {\"zone_name\": \"South Andhra\", \"speaker_flag\": 24.895317853064334, \"Count of Merchants\": 91945}, {\"zone_name\": \"South Karnataka\", \"speaker_flag\": 16.906025600999065, \"Count of Merchants\": 44842}, {\"zone_name\": \"South TamilNadu\", \"speaker_flag\": 18.77310061601643, \"Count of Merchants\": 19480}, {\"zone_name\": \"Telangana\", \"speaker_flag\": 28.271173032727077, \"Count of Merchants\": 146637}, {\"zone_name\": \"UP East\", \"speaker_flag\": 14.818064486912416, \"Count of Merchants\": 176656}, {\"zone_name\": \"UP East Unmapped\", \"speaker_flag\": 7.551487414187644, \"Count of Merchants\": 437}, {\"zone_name\": \"UP East Unmapped 2\", \"speaker_flag\": 11.83673469387755, \"Count of Merchants\": 735}, {\"zone_name\": \"UP West\", \"speaker_flag\": 10.605376305235394, \"Count of Merchants\": 110708}, {\"zone_name\": \"Uttarakhand\", \"speaker_flag\": 12.36282710459673, \"Count of Merchants\": 26062}, {\"zone_name\": \"Vidarbha\", \"speaker_flag\": 16.85575612818275, \"Count of Merchants\": 65313}, {\"zone_name\": \"Vizag Zone\", \"speaker_flag\": 27.73693322961885, \"Count of Merchants\": 39853}]}}, {\"mode\": \"vega-lite\"});\n",
       "</script>"
      ],
      "text/plain": [
       "alt.VConcatChart(...)"
      ]
     },
     "execution_count": 102,
     "metadata": {},
     "output_type": "execute_result"
    }
   ],
   "source": [
    "cat1.properties(width = 900, height = 250) & cat2.properties(width = 900, height = 250)"
   ]
  },
  {
   "cell_type": "code",
   "execution_count": 103,
   "id": "13fde164-836e-4792-8ca3-4edb91b5d69d",
   "metadata": {},
   "outputs": [],
   "source": [
    "##### Loan"
   ]
  },
  {
   "cell_type": "code",
   "execution_count": 104,
   "id": "bb9ab784-bf09-4563-9fe3-4c7f238f47fd",
   "metadata": {},
   "outputs": [],
   "source": [
    "vis_df = pdt_final[imp_var]"
   ]
  },
  {
   "cell_type": "code",
   "execution_count": 105,
   "id": "2152dc75-facb-460b-91e9-bc2c9c562431",
   "metadata": {},
   "outputs": [],
   "source": [
    "num1 = num_alt(col = 'total_txn_count', pdt = 'loan')\n",
    "num2 = num_alt(col = 'm1_tpv',pdt = 'loan')\n",
    "num3 = num_alt(col = 'w1_swipe_sessions',pdt = 'loan')\n",
    "num4 = num_alt(col = 'total_atv',pdt = 'loan')\n",
    "num5 = num_alt(col = 'total_unique_payers',pdt = 'loan')\n",
    "num6 = num_alt(col = 'm1_atv',pdt = 'loan')\n",
    "num7 = num_alt(col = 'm1_max_daily_tpv',pdt = 'loan')\n",
    "num8 = num_alt(col = 'm1_active_days',pdt = 'loan')\n",
    "num8 = num_alt(col = 'total_active_vintage',pdt = 'loan')"
   ]
  },
  {
   "cell_type": "code",
   "execution_count": 106,
   "id": "79e3b55e-245d-4300-bbda-a768e07b270e",
   "metadata": {},
   "outputs": [
    {
     "data": {
      "text/html": [
       "\n",
       "<div id=\"altair-viz-30068e16ffe9438f8f8ca3e5da596782\"></div>\n",
       "<script type=\"text/javascript\">\n",
       "  var VEGA_DEBUG = (typeof VEGA_DEBUG == \"undefined\") ? {} : VEGA_DEBUG;\n",
       "  (function(spec, embedOpt){\n",
       "    let outputDiv = document.currentScript.previousElementSibling;\n",
       "    if (outputDiv.id !== \"altair-viz-30068e16ffe9438f8f8ca3e5da596782\") {\n",
       "      outputDiv = document.getElementById(\"altair-viz-30068e16ffe9438f8f8ca3e5da596782\");\n",
       "    }\n",
       "    const paths = {\n",
       "      \"vega\": \"https://cdn.jsdelivr.net/npm//vega@5?noext\",\n",
       "      \"vega-lib\": \"https://cdn.jsdelivr.net/npm//vega-lib?noext\",\n",
       "      \"vega-lite\": \"https://cdn.jsdelivr.net/npm//vega-lite@4.17.0?noext\",\n",
       "      \"vega-embed\": \"https://cdn.jsdelivr.net/npm//vega-embed@6?noext\",\n",
       "    };\n",
       "\n",
       "    function maybeLoadScript(lib, version) {\n",
       "      var key = `${lib.replace(\"-\", \"\")}_version`;\n",
       "      return (VEGA_DEBUG[key] == version) ?\n",
       "        Promise.resolve(paths[lib]) :\n",
       "        new Promise(function(resolve, reject) {\n",
       "          var s = document.createElement('script');\n",
       "          document.getElementsByTagName(\"head\")[0].appendChild(s);\n",
       "          s.async = true;\n",
       "          s.onload = () => {\n",
       "            VEGA_DEBUG[key] = version;\n",
       "            return resolve(paths[lib]);\n",
       "          };\n",
       "          s.onerror = () => reject(`Error loading script: ${paths[lib]}`);\n",
       "          s.src = paths[lib];\n",
       "        });\n",
       "    }\n",
       "\n",
       "    function showError(err) {\n",
       "      outputDiv.innerHTML = `<div class=\"error\" style=\"color:red;\">${err}</div>`;\n",
       "      throw err;\n",
       "    }\n",
       "\n",
       "    function displayChart(vegaEmbed) {\n",
       "      vegaEmbed(outputDiv, spec, embedOpt)\n",
       "        .catch(err => showError(`Javascript Error: ${err.message}<br>This usually means there's a typo in your chart specification. See the javascript console for the full traceback.`));\n",
       "    }\n",
       "\n",
       "    if(typeof define === \"function\" && define.amd) {\n",
       "      requirejs.config({paths});\n",
       "      require([\"vega-embed\"], displayChart, err => showError(`Error loading script: ${err.message}`));\n",
       "    } else {\n",
       "      maybeLoadScript(\"vega\", \"5\")\n",
       "        .then(() => maybeLoadScript(\"vega-lite\", \"4.17.0\"))\n",
       "        .then(() => maybeLoadScript(\"vega-embed\", \"6\"))\n",
       "        .catch(showError)\n",
       "        .then(() => displayChart(vegaEmbed));\n",
       "    }\n",
       "  })({\"usermeta\": {\"embedOptions\": {\"theme\": \"fivethirtyeight\"}}, \"config\": {\"view\": {\"continuousWidth\": 400, \"continuousHeight\": 300}}, \"vconcat\": [{\"hconcat\": [{\"layer\": [{\"mark\": {\"type\": \"bar\", \"color\": \"lightgrey\"}, \"encoding\": {\"x\": {\"axis\": {\"title\": \"\"}, \"field\": \"total_txn_count\", \"sort\": [-0.01, 0, 49, 183, 677, 16343030], \"type\": \"ordinal\"}, \"y\": {\"axis\": {\"title\": \"loan_flag %\"}, \"field\": \"loan_flag\", \"type\": \"quantitative\"}}}, {\"mark\": {\"type\": \"text\", \"align\": \"center\", \"baseline\": \"middle\", \"dy\": -6}, \"encoding\": {\"text\": {\"field\": \"loan_flag\", \"format\": \".0f\", \"type\": \"quantitative\"}, \"x\": {\"axis\": {\"title\": \"\"}, \"field\": \"total_txn_count\", \"sort\": [-0.01, 0, 49, 183, 677, 16343030], \"type\": \"ordinal\"}, \"y\": {\"axis\": {\"labels\": false, \"ticks\": false, \"title\": \"\"}, \"field\": \"target\", \"type\": \"quantitative\"}}}, {\"mark\": {\"type\": \"line\", \"color\": \"aqua\"}, \"encoding\": {\"x\": {\"axis\": {\"title\": \"\"}, \"field\": \"total_txn_count\", \"sort\": [-0.01, 0, 49, 183, 677, 16343030], \"type\": \"ordinal\"}, \"y\": {\"field\": \"Count of Merchants\", \"type\": \"quantitative\"}}}, {\"mark\": {\"type\": \"text\", \"align\": \"center\", \"angle\": 80, \"baseline\": \"middle\", \"color\": \"black\", \"dy\": -6}, \"encoding\": {\"text\": {\"field\": \"Count of Merchants\", \"format\": \".0f\", \"type\": \"quantitative\"}, \"x\": {\"axis\": {\"title\": \"\"}, \"field\": \"total_txn_count\", \"sort\": [-0.01, 0, 49, 183, 677, 16343030], \"type\": \"ordinal\"}, \"y\": {\"field\": \"Count of Merchants\", \"type\": \"quantitative\"}}}], \"data\": {\"name\": \"data-7600137103fcf4f17ab87df202fee742\"}, \"height\": 170, \"resolve\": {\"scale\": {\"y\": \"independent\"}}, \"title\": \"total_txn_count\", \"width\": 170}, {\"layer\": [{\"mark\": {\"type\": \"bar\", \"color\": \"lightgrey\"}, \"encoding\": {\"x\": {\"axis\": {\"title\": \"\"}, \"field\": \"m1_tpv\", \"sort\": [-0.01, 0, 599, 5166, 24632, 7508464960], \"type\": \"ordinal\"}, \"y\": {\"axis\": {\"title\": \"loan_flag %\"}, \"field\": \"loan_flag\", \"type\": \"quantitative\"}}}, {\"mark\": {\"type\": \"text\", \"align\": \"center\", \"baseline\": \"middle\", \"dy\": -6}, \"encoding\": {\"text\": {\"field\": \"loan_flag\", \"format\": \".0f\", \"type\": \"quantitative\"}, \"x\": {\"axis\": {\"title\": \"\"}, \"field\": \"m1_tpv\", \"sort\": [-0.01, 0, 599, 5166, 24632, 7508464960], \"type\": \"ordinal\"}, \"y\": {\"axis\": {\"labels\": false, \"ticks\": false, \"title\": \"\"}, \"field\": \"target\", \"type\": \"quantitative\"}}}, {\"mark\": {\"type\": \"line\", \"color\": \"aqua\"}, \"encoding\": {\"x\": {\"axis\": {\"title\": \"\"}, \"field\": \"m1_tpv\", \"sort\": [-0.01, 0, 599, 5166, 24632, 7508464960], \"type\": \"ordinal\"}, \"y\": {\"field\": \"Count of Merchants\", \"type\": \"quantitative\"}}}, {\"mark\": {\"type\": \"text\", \"align\": \"center\", \"angle\": 80, \"baseline\": \"middle\", \"color\": \"black\", \"dy\": -6}, \"encoding\": {\"text\": {\"field\": \"Count of Merchants\", \"format\": \".0f\", \"type\": \"quantitative\"}, \"x\": {\"axis\": {\"title\": \"\"}, \"field\": \"m1_tpv\", \"sort\": [-0.01, 0, 599, 5166, 24632, 7508464960], \"type\": \"ordinal\"}, \"y\": {\"field\": \"Count of Merchants\", \"type\": \"quantitative\"}}}], \"data\": {\"name\": \"data-c529fced4c5fe91f3fd09e6fb658af77\"}, \"height\": 170, \"resolve\": {\"scale\": {\"y\": \"independent\"}}, \"title\": \"m1_tpv\", \"width\": 170}, {\"layer\": [{\"mark\": {\"type\": \"bar\", \"color\": \"lightgrey\"}, \"encoding\": {\"x\": {\"axis\": {\"title\": \"\"}, \"field\": \"w1_swipe_sessions\", \"sort\": [-0.01, 0, 0, 0, 0, 5], \"type\": \"ordinal\"}, \"y\": {\"axis\": {\"title\": \"loan_flag %\"}, \"field\": \"loan_flag\", \"type\": \"quantitative\"}}}, {\"mark\": {\"type\": \"text\", \"align\": \"center\", \"baseline\": \"middle\", \"dy\": -6}, \"encoding\": {\"text\": {\"field\": \"loan_flag\", \"format\": \".0f\", \"type\": \"quantitative\"}, \"x\": {\"axis\": {\"title\": \"\"}, \"field\": \"w1_swipe_sessions\", \"sort\": [-0.01, 0, 0, 0, 0, 5], \"type\": \"ordinal\"}, \"y\": {\"axis\": {\"labels\": false, \"ticks\": false, \"title\": \"\"}, \"field\": \"target\", \"type\": \"quantitative\"}}}, {\"mark\": {\"type\": \"line\", \"color\": \"aqua\"}, \"encoding\": {\"x\": {\"axis\": {\"title\": \"\"}, \"field\": \"w1_swipe_sessions\", \"sort\": [-0.01, 0, 0, 0, 0, 5], \"type\": \"ordinal\"}, \"y\": {\"field\": \"Count of Merchants\", \"type\": \"quantitative\"}}}, {\"mark\": {\"type\": \"text\", \"align\": \"center\", \"angle\": 80, \"baseline\": \"middle\", \"color\": \"black\", \"dy\": -6}, \"encoding\": {\"text\": {\"field\": \"Count of Merchants\", \"format\": \".0f\", \"type\": \"quantitative\"}, \"x\": {\"axis\": {\"title\": \"\"}, \"field\": \"w1_swipe_sessions\", \"sort\": [-0.01, 0, 0, 0, 0, 5], \"type\": \"ordinal\"}, \"y\": {\"field\": \"Count of Merchants\", \"type\": \"quantitative\"}}}], \"data\": {\"name\": \"data-9e97ea3061106369ab60f3036c24c69d\"}, \"height\": 170, \"resolve\": {\"scale\": {\"y\": \"independent\"}}, \"title\": \"w1_swipe_sessions\", \"width\": 170}, {\"layer\": [{\"mark\": {\"type\": \"bar\", \"color\": \"lightgrey\"}, \"encoding\": {\"x\": {\"axis\": {\"title\": \"\"}, \"field\": \"total_atv\", \"sort\": [-0.01, 1, 95, 252, 778, 100000], \"type\": \"ordinal\"}, \"y\": {\"axis\": {\"title\": \"loan_flag %\"}, \"field\": \"loan_flag\", \"type\": \"quantitative\"}}}, {\"mark\": {\"type\": \"text\", \"align\": \"center\", \"baseline\": \"middle\", \"dy\": -6}, \"encoding\": {\"text\": {\"field\": \"loan_flag\", \"format\": \".0f\", \"type\": \"quantitative\"}, \"x\": {\"axis\": {\"title\": \"\"}, \"field\": \"total_atv\", \"sort\": [-0.01, 1, 95, 252, 778, 100000], \"type\": \"ordinal\"}, \"y\": {\"axis\": {\"labels\": false, \"ticks\": false, \"title\": \"\"}, \"field\": \"target\", \"type\": \"quantitative\"}}}, {\"mark\": {\"type\": \"line\", \"color\": \"aqua\"}, \"encoding\": {\"x\": {\"axis\": {\"title\": \"\"}, \"field\": \"total_atv\", \"sort\": [-0.01, 1, 95, 252, 778, 100000], \"type\": \"ordinal\"}, \"y\": {\"field\": \"Count of Merchants\", \"type\": \"quantitative\"}}}, {\"mark\": {\"type\": \"text\", \"align\": \"center\", \"angle\": 80, \"baseline\": \"middle\", \"color\": \"black\", \"dy\": -6}, \"encoding\": {\"text\": {\"field\": \"Count of Merchants\", \"format\": \".0f\", \"type\": \"quantitative\"}, \"x\": {\"axis\": {\"title\": \"\"}, \"field\": \"total_atv\", \"sort\": [-0.01, 1, 95, 252, 778, 100000], \"type\": \"ordinal\"}, \"y\": {\"field\": \"Count of Merchants\", \"type\": \"quantitative\"}}}], \"data\": {\"name\": \"data-076436cda27d905385b3e543cb4dd915\"}, \"height\": 170, \"resolve\": {\"scale\": {\"y\": \"independent\"}}, \"title\": \"total_atv\", \"width\": 170}]}, {\"hconcat\": [{\"layer\": [{\"mark\": {\"type\": \"bar\", \"color\": \"lightgrey\"}, \"encoding\": {\"x\": {\"axis\": {\"title\": \"\"}, \"field\": \"total_unique_payers\", \"sort\": [-0.01, 0, 34, 121, 421, 9558592], \"type\": \"ordinal\"}, \"y\": {\"axis\": {\"title\": \"loan_flag %\"}, \"field\": \"loan_flag\", \"type\": \"quantitative\"}}}, {\"mark\": {\"type\": \"text\", \"align\": \"center\", \"baseline\": \"middle\", \"dy\": -6}, \"encoding\": {\"text\": {\"field\": \"loan_flag\", \"format\": \".0f\", \"type\": \"quantitative\"}, \"x\": {\"axis\": {\"title\": \"\"}, \"field\": \"total_unique_payers\", \"sort\": [-0.01, 0, 34, 121, 421, 9558592], \"type\": \"ordinal\"}, \"y\": {\"axis\": {\"labels\": false, \"ticks\": false, \"title\": \"\"}, \"field\": \"target\", \"type\": \"quantitative\"}}}, {\"mark\": {\"type\": \"line\", \"color\": \"aqua\"}, \"encoding\": {\"x\": {\"axis\": {\"title\": \"\"}, \"field\": \"total_unique_payers\", \"sort\": [-0.01, 0, 34, 121, 421, 9558592], \"type\": \"ordinal\"}, \"y\": {\"field\": \"Count of Merchants\", \"type\": \"quantitative\"}}}, {\"mark\": {\"type\": \"text\", \"align\": \"center\", \"angle\": 80, \"baseline\": \"middle\", \"color\": \"black\", \"dy\": -6}, \"encoding\": {\"text\": {\"field\": \"Count of Merchants\", \"format\": \".0f\", \"type\": \"quantitative\"}, \"x\": {\"axis\": {\"title\": \"\"}, \"field\": \"total_unique_payers\", \"sort\": [-0.01, 0, 34, 121, 421, 9558592], \"type\": \"ordinal\"}, \"y\": {\"field\": \"Count of Merchants\", \"type\": \"quantitative\"}}}], \"data\": {\"name\": \"data-a87e9545c8ab5f626c6f4da61c3715c8\"}, \"height\": 170, \"resolve\": {\"scale\": {\"y\": \"independent\"}}, \"title\": \"total_unique_payers\", \"width\": 170}, {\"layer\": [{\"mark\": {\"type\": \"bar\", \"color\": \"lightgrey\"}, \"encoding\": {\"x\": {\"axis\": {\"title\": \"\"}, \"field\": \"m1_atv\", \"sort\": [-0.01, 1, 74, 212, 742, 128847], \"type\": \"ordinal\"}, \"y\": {\"axis\": {\"title\": \"loan_flag %\"}, \"field\": \"loan_flag\", \"type\": \"quantitative\"}}}, {\"mark\": {\"type\": \"text\", \"align\": \"center\", \"baseline\": \"middle\", \"dy\": -6}, \"encoding\": {\"text\": {\"field\": \"loan_flag\", \"format\": \".0f\", \"type\": \"quantitative\"}, \"x\": {\"axis\": {\"title\": \"\"}, \"field\": \"m1_atv\", \"sort\": [-0.01, 1, 74, 212, 742, 128847], \"type\": \"ordinal\"}, \"y\": {\"axis\": {\"labels\": false, \"ticks\": false, \"title\": \"\"}, \"field\": \"target\", \"type\": \"quantitative\"}}}, {\"mark\": {\"type\": \"line\", \"color\": \"aqua\"}, \"encoding\": {\"x\": {\"axis\": {\"title\": \"\"}, \"field\": \"m1_atv\", \"sort\": [-0.01, 1, 74, 212, 742, 128847], \"type\": \"ordinal\"}, \"y\": {\"field\": \"Count of Merchants\", \"type\": \"quantitative\"}}}, {\"mark\": {\"type\": \"text\", \"align\": \"center\", \"angle\": 80, \"baseline\": \"middle\", \"color\": \"black\", \"dy\": -6}, \"encoding\": {\"text\": {\"field\": \"Count of Merchants\", \"format\": \".0f\", \"type\": \"quantitative\"}, \"x\": {\"axis\": {\"title\": \"\"}, \"field\": \"m1_atv\", \"sort\": [-0.01, 1, 74, 212, 742, 128847], \"type\": \"ordinal\"}, \"y\": {\"field\": \"Count of Merchants\", \"type\": \"quantitative\"}}}], \"data\": {\"name\": \"data-df7737be632d27b58017f91b51e7c0d8\"}, \"height\": 170, \"resolve\": {\"scale\": {\"y\": \"independent\"}}, \"title\": \"m1_atv\", \"width\": 170}, {\"layer\": [{\"mark\": {\"type\": \"bar\", \"color\": \"lightgrey\"}, \"encoding\": {\"x\": {\"axis\": {\"title\": \"\"}, \"field\": \"m1_max_daily_tpv\", \"sort\": [-0.01, 0, 250, 1500, 6100, 716385873], \"type\": \"ordinal\"}, \"y\": {\"axis\": {\"title\": \"loan_flag %\"}, \"field\": \"loan_flag\", \"type\": \"quantitative\"}}}, {\"mark\": {\"type\": \"text\", \"align\": \"center\", \"baseline\": \"middle\", \"dy\": -6}, \"encoding\": {\"text\": {\"field\": \"loan_flag\", \"format\": \".0f\", \"type\": \"quantitative\"}, \"x\": {\"axis\": {\"title\": \"\"}, \"field\": \"m1_max_daily_tpv\", \"sort\": [-0.01, 0, 250, 1500, 6100, 716385873], \"type\": \"ordinal\"}, \"y\": {\"axis\": {\"labels\": false, \"ticks\": false, \"title\": \"\"}, \"field\": \"target\", \"type\": \"quantitative\"}}}, {\"mark\": {\"type\": \"line\", \"color\": \"aqua\"}, \"encoding\": {\"x\": {\"axis\": {\"title\": \"\"}, \"field\": \"m1_max_daily_tpv\", \"sort\": [-0.01, 0, 250, 1500, 6100, 716385873], \"type\": \"ordinal\"}, \"y\": {\"field\": \"Count of Merchants\", \"type\": \"quantitative\"}}}, {\"mark\": {\"type\": \"text\", \"align\": \"center\", \"angle\": 80, \"baseline\": \"middle\", \"color\": \"black\", \"dy\": -6}, \"encoding\": {\"text\": {\"field\": \"Count of Merchants\", \"format\": \".0f\", \"type\": \"quantitative\"}, \"x\": {\"axis\": {\"title\": \"\"}, \"field\": \"m1_max_daily_tpv\", \"sort\": [-0.01, 0, 250, 1500, 6100, 716385873], \"type\": \"ordinal\"}, \"y\": {\"field\": \"Count of Merchants\", \"type\": \"quantitative\"}}}], \"data\": {\"name\": \"data-eb2a5249a3af11418321d8eb893ac950\"}, \"height\": 170, \"resolve\": {\"scale\": {\"y\": \"independent\"}}, \"title\": \"m1_max_daily_tpv\", \"width\": 170}, {\"layer\": [{\"mark\": {\"type\": \"bar\", \"color\": \"lightgrey\"}, \"encoding\": {\"x\": {\"axis\": {\"title\": \"\"}, \"field\": \"total_active_vintage\", \"sort\": [-0.01, 0, 26, 81, 215, 1073], \"type\": \"ordinal\"}, \"y\": {\"axis\": {\"title\": \"loan_flag %\"}, \"field\": \"loan_flag\", \"type\": \"quantitative\"}}}, {\"mark\": {\"type\": \"text\", \"align\": \"center\", \"baseline\": \"middle\", \"dy\": -6}, \"encoding\": {\"text\": {\"field\": \"loan_flag\", \"format\": \".0f\", \"type\": \"quantitative\"}, \"x\": {\"axis\": {\"title\": \"\"}, \"field\": \"total_active_vintage\", \"sort\": [-0.01, 0, 26, 81, 215, 1073], \"type\": \"ordinal\"}, \"y\": {\"axis\": {\"labels\": false, \"ticks\": false, \"title\": \"\"}, \"field\": \"target\", \"type\": \"quantitative\"}}}, {\"mark\": {\"type\": \"line\", \"color\": \"aqua\"}, \"encoding\": {\"x\": {\"axis\": {\"title\": \"\"}, \"field\": \"total_active_vintage\", \"sort\": [-0.01, 0, 26, 81, 215, 1073], \"type\": \"ordinal\"}, \"y\": {\"field\": \"Count of Merchants\", \"type\": \"quantitative\"}}}, {\"mark\": {\"type\": \"text\", \"align\": \"center\", \"angle\": 80, \"baseline\": \"middle\", \"color\": \"black\", \"dy\": -6}, \"encoding\": {\"text\": {\"field\": \"Count of Merchants\", \"format\": \".0f\", \"type\": \"quantitative\"}, \"x\": {\"axis\": {\"title\": \"\"}, \"field\": \"total_active_vintage\", \"sort\": [-0.01, 0, 26, 81, 215, 1073], \"type\": \"ordinal\"}, \"y\": {\"field\": \"Count of Merchants\", \"type\": \"quantitative\"}}}], \"data\": {\"name\": \"data-9a0a20ae60529749f00093a9792ce4ea\"}, \"height\": 170, \"resolve\": {\"scale\": {\"y\": \"independent\"}}, \"title\": \"total_active_vintage\", \"width\": 170}]}], \"$schema\": \"https://vega.github.io/schema/vega-lite/v4.17.0.json\", \"datasets\": {\"data-7600137103fcf4f17ab87df202fee742\": [{\"total_txn_count\": \"(-0.01, 0.0]\", \"loan_flag\": 0.0, \"Count of Merchants\": 8}, {\"total_txn_count\": \"(0.0, 49.0]\", \"loan_flag\": 0.6718563357667071, \"Count of Merchants\": 668893}, {\"total_txn_count\": \"(49.0, 183.0]\", \"loan_flag\": 5.822453835644944, \"Count of Merchants\": 663174}, {\"total_txn_count\": \"(183.0, 677.0]\", \"loan_flag\": 17.544325732623676, \"Count of Merchants\": 662482}, {\"total_txn_count\": \"(677.0, 16343030.0]\", \"loan_flag\": 34.936954004207585, \"Count of Merchants\": 664039}], \"data-c529fced4c5fe91f3fd09e6fb658af77\": [{\"m1_tpv\": \"(-0.01, 0.0]\", \"loan_flag\": 6.098096202426659, \"Count of Merchants\": 289369}, {\"m1_tpv\": \"(0.0, 599.0]\", \"loan_flag\": 4.75554773933619, \"Count of Merchants\": 375288}, {\"m1_tpv\": \"(599.0, 5166.0]\", \"loan_flag\": 7.761813777851328, \"Count of Merchants\": 664690}, {\"m1_tpv\": \"(5166.0, 24632.0]\", \"loan_flag\": 18.3731413800056, \"Count of Merchants\": 664606}, {\"m1_tpv\": \"(24632.0, 7508464960.0]\", \"loan_flag\": 27.403624808543547, \"Count of Merchants\": 664642}], \"data-9e97ea3061106369ab60f3036c24c69d\": [{\"w1_swipe_sessions\": \"(-0.01, 0.0]\", \"loan_flag\": 15.957153525060974, \"Count of Merchants\": 2415788}, {\"w1_swipe_sessions\": \"(0.0, 5.0]\", \"loan_flag\": 31.924577373211964, \"Count of Merchants\": 3076}], \"data-076436cda27d905385b3e543cb4dd915\": [{\"total_atv\": \"(-0.01, 1.0]\", \"loan_flag\": 0.0, \"Count of Merchants\": 39}, {\"total_atv\": \"(1.0, 95.0]\", \"loan_flag\": 10.992401684731474, \"Count of Merchants\": 657909}, {\"total_atv\": \"(95.0, 252.0]\", \"loan_flag\": 15.827189056877167, \"Count of Merchants\": 670814}, {\"total_atv\": \"(252.0, 778.0]\", \"loan_flag\": 17.29264134276948, \"Count of Merchants\": 664537}, {\"total_atv\": \"(778.0, 100000.0]\", \"loan_flag\": 14.718866537700157, \"Count of Merchants\": 665289}], \"data-a87e9545c8ab5f626c6f4da61c3715c8\": [{\"total_unique_payers\": \"(-0.01, 0.0]\", \"loan_flag\": 10.0, \"Count of Merchants\": 10}, {\"total_unique_payers\": \"(0.0, 34.0]\", \"loan_flag\": 1.5034879678056503, \"Count of Merchants\": 675895}, {\"total_unique_payers\": \"(34.0, 121.0]\", \"loan_flag\": 6.593949678992972, \"Count of Merchants\": 657618}, {\"total_unique_payers\": \"(121.0, 421.0]\", \"loan_flag\": 16.57758459016195, \"Count of Merchants\": 661188}, {\"total_unique_payers\": \"(421.0, 9558592.0]\", \"loan_flag\": 34.37266996543076, \"Count of Merchants\": 663885}], \"data-df7737be632d27b58017f91b51e7c0d8\": [{\"m1_atv\": \"(-0.01, 1.0]\", \"loan_flag\": 8.003467206009823, \"Count of Merchants\": 13844}, {\"m1_atv\": \"(1.0, 74.0]\", \"loan_flag\": 11.723841269509549, \"Count of Merchants\": 574206}, {\"m1_atv\": \"(74.0, 212.0]\", \"loan_flag\": 16.632225345125505, \"Count of Merchants\": 596667}, {\"m1_atv\": \"(212.0, 742.0]\", \"loan_flag\": 18.4592952037563, \"Count of Merchants\": 591859}, {\"m1_atv\": \"(742.0, 128847.0]\", \"loan_flag\": 16.327512022272842, \"Count of Merchants\": 592650}], \"data-eb2a5249a3af11418321d8eb893ac950\": [{\"m1_max_daily_tpv\": \"(-0.01, 0.0]\", \"loan_flag\": 6.098096202426659, \"Count of Merchants\": 289369}, {\"m1_max_daily_tpv\": \"(0.0, 250.0]\", \"loan_flag\": 4.826189404569643, \"Count of Merchants\": 377710}, {\"m1_max_daily_tpv\": \"(250.0, 1500.0]\", \"loan_flag\": 11.00392227312195, \"Count of Merchants\": 667980}, {\"m1_max_daily_tpv\": \"(1500.0, 6100.0]\", \"loan_flag\": 19.40880249620765, \"Count of Merchants\": 659881}, {\"m1_max_daily_tpv\": \"(6100.0, 716385873.0]\", \"loan_flag\": 23.18614340282225, \"Count of Merchants\": 663655}], \"data-9a0a20ae60529749f00093a9792ce4ea\": [{\"total_active_vintage\": \"(-0.01, 0.0]\", \"loan_flag\": 0.0, \"Count of Merchants\": 8}, {\"total_active_vintage\": \"(0.0, 26.0]\", \"loan_flag\": 0.4808033391666273, \"Count of Merchants\": 676576}, {\"total_active_vintage\": \"(26.0, 81.0]\", \"loan_flag\": 5.269132315026586, \"Count of Merchants\": 652783}, {\"total_active_vintage\": \"(81.0, 215.0]\", \"loan_flag\": 18.623725164793488, \"Count of Merchants\": 667047}, {\"total_active_vintage\": \"(215.0, 1073.0]\", \"loan_flag\": 34.65089658130242, \"Count of Merchants\": 662182}]}}, {\"mode\": \"vega-lite\"});\n",
       "</script>"
      ],
      "text/plain": [
       "alt.VConcatChart(...)"
      ]
     },
     "execution_count": 106,
     "metadata": {},
     "output_type": "execute_result"
    }
   ],
   "source": [
    "(num1|num2|num3|num4) & (num5|num6|num7|num8)"
   ]
  },
  {
   "cell_type": "code",
   "execution_count": 107,
   "id": "e9398de9-7f7e-4461-99eb-a127ef2fdd8d",
   "metadata": {},
   "outputs": [],
   "source": [
    "cat1 = cat_alt(col = 'business_category', pdt = 'loan')\n",
    "cat2 = cat_alt(col = 'zone_name', pdt = 'loan')"
   ]
  },
  {
   "cell_type": "code",
   "execution_count": 108,
   "id": "17bc5950-37f0-4e72-96fe-a1649c4cce86",
   "metadata": {},
   "outputs": [
    {
     "data": {
      "text/html": [
       "\n",
       "<div id=\"altair-viz-8505d343eb324309b640772bbd6ada1d\"></div>\n",
       "<script type=\"text/javascript\">\n",
       "  var VEGA_DEBUG = (typeof VEGA_DEBUG == \"undefined\") ? {} : VEGA_DEBUG;\n",
       "  (function(spec, embedOpt){\n",
       "    let outputDiv = document.currentScript.previousElementSibling;\n",
       "    if (outputDiv.id !== \"altair-viz-8505d343eb324309b640772bbd6ada1d\") {\n",
       "      outputDiv = document.getElementById(\"altair-viz-8505d343eb324309b640772bbd6ada1d\");\n",
       "    }\n",
       "    const paths = {\n",
       "      \"vega\": \"https://cdn.jsdelivr.net/npm//vega@5?noext\",\n",
       "      \"vega-lib\": \"https://cdn.jsdelivr.net/npm//vega-lib?noext\",\n",
       "      \"vega-lite\": \"https://cdn.jsdelivr.net/npm//vega-lite@4.17.0?noext\",\n",
       "      \"vega-embed\": \"https://cdn.jsdelivr.net/npm//vega-embed@6?noext\",\n",
       "    };\n",
       "\n",
       "    function maybeLoadScript(lib, version) {\n",
       "      var key = `${lib.replace(\"-\", \"\")}_version`;\n",
       "      return (VEGA_DEBUG[key] == version) ?\n",
       "        Promise.resolve(paths[lib]) :\n",
       "        new Promise(function(resolve, reject) {\n",
       "          var s = document.createElement('script');\n",
       "          document.getElementsByTagName(\"head\")[0].appendChild(s);\n",
       "          s.async = true;\n",
       "          s.onload = () => {\n",
       "            VEGA_DEBUG[key] = version;\n",
       "            return resolve(paths[lib]);\n",
       "          };\n",
       "          s.onerror = () => reject(`Error loading script: ${paths[lib]}`);\n",
       "          s.src = paths[lib];\n",
       "        });\n",
       "    }\n",
       "\n",
       "    function showError(err) {\n",
       "      outputDiv.innerHTML = `<div class=\"error\" style=\"color:red;\">${err}</div>`;\n",
       "      throw err;\n",
       "    }\n",
       "\n",
       "    function displayChart(vegaEmbed) {\n",
       "      vegaEmbed(outputDiv, spec, embedOpt)\n",
       "        .catch(err => showError(`Javascript Error: ${err.message}<br>This usually means there's a typo in your chart specification. See the javascript console for the full traceback.`));\n",
       "    }\n",
       "\n",
       "    if(typeof define === \"function\" && define.amd) {\n",
       "      requirejs.config({paths});\n",
       "      require([\"vega-embed\"], displayChart, err => showError(`Error loading script: ${err.message}`));\n",
       "    } else {\n",
       "      maybeLoadScript(\"vega\", \"5\")\n",
       "        .then(() => maybeLoadScript(\"vega-lite\", \"4.17.0\"))\n",
       "        .then(() => maybeLoadScript(\"vega-embed\", \"6\"))\n",
       "        .catch(showError)\n",
       "        .then(() => displayChart(vegaEmbed));\n",
       "    }\n",
       "  })({\"usermeta\": {\"embedOptions\": {\"theme\": \"fivethirtyeight\"}}, \"config\": {\"view\": {\"continuousWidth\": 400, \"continuousHeight\": 300}}, \"vconcat\": [{\"layer\": [{\"mark\": {\"type\": \"bar\", \"color\": \"lightgrey\"}, \"encoding\": {\"x\": {\"axis\": {\"title\": \"\"}, \"field\": \"business_category\", \"type\": \"nominal\"}, \"y\": {\"axis\": {\"title\": \"loan_flag %\"}, \"field\": \"loan_flag\", \"type\": \"quantitative\"}}}, {\"mark\": {\"type\": \"text\", \"align\": \"center\", \"baseline\": \"middle\", \"dy\": -6}, \"encoding\": {\"text\": {\"field\": \"loan_flag\", \"format\": \"1.0d\", \"type\": \"quantitative\"}, \"x\": {\"axis\": {\"title\": \"\"}, \"field\": \"business_category\", \"type\": \"nominal\"}, \"y\": {\"axis\": {\"labels\": false, \"ticks\": false, \"title\": \"\"}, \"field\": \"loan_flag\", \"type\": \"quantitative\"}}}, {\"mark\": {\"type\": \"line\", \"color\": \"aqua\"}, \"encoding\": {\"x\": {\"axis\": {\"title\": \"\"}, \"field\": \"business_category\", \"type\": \"nominal\"}, \"y\": {\"field\": \"Count of Merchants\", \"type\": \"quantitative\"}}}, {\"mark\": {\"type\": \"text\", \"align\": \"center\", \"angle\": 80, \"baseline\": \"middle\", \"color\": \"black\", \"dy\": -6}, \"encoding\": {\"text\": {\"field\": \"Count of Merchants\", \"format\": \"1.0d\", \"type\": \"quantitative\"}, \"x\": {\"axis\": {\"title\": \"\"}, \"field\": \"business_category\", \"type\": \"nominal\"}, \"y\": {\"field\": \"Count of Merchants\", \"type\": \"quantitative\"}}}], \"data\": {\"name\": \"data-5312b15d515d738f7623972e87aac055\"}, \"height\": 250, \"resolve\": {\"scale\": {\"y\": \"independent\"}}, \"title\": \"business_category\", \"width\": 900}, {\"layer\": [{\"mark\": {\"type\": \"bar\", \"color\": \"lightgrey\"}, \"encoding\": {\"x\": {\"axis\": {\"title\": \"\"}, \"field\": \"zone_name\", \"type\": \"nominal\"}, \"y\": {\"axis\": {\"title\": \"loan_flag %\"}, \"field\": \"loan_flag\", \"type\": \"quantitative\"}}}, {\"mark\": {\"type\": \"text\", \"align\": \"center\", \"baseline\": \"middle\", \"dy\": -6}, \"encoding\": {\"text\": {\"field\": \"loan_flag\", \"format\": \"1.0d\", \"type\": \"quantitative\"}, \"x\": {\"axis\": {\"title\": \"\"}, \"field\": \"zone_name\", \"type\": \"nominal\"}, \"y\": {\"axis\": {\"labels\": false, \"ticks\": false, \"title\": \"\"}, \"field\": \"loan_flag\", \"type\": \"quantitative\"}}}, {\"mark\": {\"type\": \"line\", \"color\": \"aqua\"}, \"encoding\": {\"x\": {\"axis\": {\"title\": \"\"}, \"field\": \"zone_name\", \"type\": \"nominal\"}, \"y\": {\"field\": \"Count of Merchants\", \"type\": \"quantitative\"}}}, {\"mark\": {\"type\": \"text\", \"align\": \"center\", \"angle\": 80, \"baseline\": \"middle\", \"color\": \"black\", \"dy\": -6}, \"encoding\": {\"text\": {\"field\": \"Count of Merchants\", \"format\": \"1.0d\", \"type\": \"quantitative\"}, \"x\": {\"axis\": {\"title\": \"\"}, \"field\": \"zone_name\", \"type\": \"nominal\"}, \"y\": {\"field\": \"Count of Merchants\", \"type\": \"quantitative\"}}}], \"data\": {\"name\": \"data-e9b13898b68ac3149ca64c2be4abc289\"}, \"height\": 250, \"resolve\": {\"scale\": {\"y\": \"independent\"}}, \"title\": \"zone_name\", \"width\": 900}], \"$schema\": \"https://vega.github.io/schema/vega-lite/v4.17.0.json\", \"datasets\": {\"data-5312b15d515d738f7623972e87aac055\": [{\"business_category\": \"AUTOMOBILES\", \"loan_flag\": 13.612653119322129, \"Count of Merchants\": 119433}, {\"business_category\": \"BEAUTY_WELLNESS\", \"loan_flag\": 15.29143826822815, \"Count of Merchants\": 89573}, {\"business_category\": \"DAIRY_FRESH PRODUCTS\", \"loan_flag\": 19.025925423888637, \"Count of Merchants\": 169679}, {\"business_category\": \"EDUCATION\", \"loan_flag\": 7.802372941384807, \"Count of Merchants\": 28235}, {\"business_category\": \"ELECTRONICS & DURABLES\", \"loan_flag\": 15.890723881241243, \"Count of Merchants\": 150591}, {\"business_category\": \"ENTERTAINMENT\", \"loan_flag\": 10.070384407146724, \"Count of Merchants\": 5541}, {\"business_category\": \"FASHION\", \"loan_flag\": 19.504282151017772, \"Count of Merchants\": 114662}, {\"business_category\": \"FITNESS\", \"loan_flag\": 19.2, \"Count of Merchants\": 125}, {\"business_category\": \"FOOD & BEVERAGES\", \"loan_flag\": 17.9365890181864, \"Count of Merchants\": 428727}, {\"business_category\": \"FUEL\", \"loan_flag\": 6.483469300128811, \"Count of Merchants\": 2329}, {\"business_category\": \"FUEL & GAS\", \"loan_flag\": 11.921097770154374, \"Count of Merchants\": 5830}, {\"business_category\": \"FURNITURE AND DECOR\", \"loan_flag\": 12.683427398665984, \"Count of Merchants\": 9745}, {\"business_category\": \"GROCERY_GENERAL STORE\", \"loan_flag\": 14.764732546659188, \"Count of Merchants\": 483131}, {\"business_category\": \"HOME UTILITIES\", \"loan_flag\": 11.112298893580629, \"Count of Merchants\": 18709}, {\"business_category\": \"JEWELLERY\", \"loan_flag\": 6.787106354018436, \"Count of Merchants\": 16163}, {\"business_category\": \"LIQUOR_ ALCOHOL\", \"loan_flag\": 12.14737354085603, \"Count of Merchants\": 8224}, {\"business_category\": \"MEDICAL_HEALTH CARE\", \"loan_flag\": 12.858676942027383, \"Count of Merchants\": 126646}, {\"business_category\": \"OFFICE COMPLEX\", \"loan_flag\": 11.952259164535379, \"Count of Merchants\": 17595}, {\"business_category\": \"OTHERS_MISCELLANEOUS\", \"loan_flag\": 8.718407143117005, \"Count of Merchants\": 192409}, {\"business_category\": \"RETAIL OUTLET\", \"loan_flag\": 13.68707794980469, \"Count of Merchants\": 252932}, {\"business_category\": \"ROADSIDE STALL_KIOSK\", \"loan_flag\": 17.832364146781632, \"Count of Merchants\": 149610}, {\"business_category\": \"SERVICES\", \"loan_flag\": 12.969900248290282, \"Count of Merchants\": 137742}, {\"business_category\": \"TRANSPORTATION\", \"loan_flag\": 6.966031483015741, \"Count of Merchants\": 30175}, {\"business_category\": \"TRAVEL_HOSPITALITY\", \"loan_flag\": 10.596759028814779, \"Count of Merchants\": 18081}, {\"business_category\": \"WHOLESALE_DISTRIBUTOR\", \"loan_flag\": 15.010495966008245, \"Count of Merchants\": 39539}], \"data-e9b13898b68ac3149ca64c2be4abc289\": [{\"zone_name\": \"Asansol\", \"loan_flag\": 0.7465391027034862, \"Count of Merchants\": 13797}, {\"zone_name\": \"Bangalore\", \"loan_flag\": 28.876103098394434, \"Count of Merchants\": 128615}, {\"zone_name\": \"Bihar Zone New\", \"loan_flag\": 5.7502224952547465, \"Count of Merchants\": 126969}, {\"zone_name\": \"Central TamilNadu\", \"loan_flag\": 9.312570433357239, \"Count of Merchants\": 19522}, {\"zone_name\": \"Chennai Cluster\", \"loan_flag\": 18.564713614218565, \"Count of Merchants\": 69993}, {\"zone_name\": \"Delhi\", \"loan_flag\": 18.102253032928942, \"Count of Merchants\": 57700}, {\"zone_name\": \"Gujarat\", \"loan_flag\": 9.960325002375749, \"Count of Merchants\": 84184}, {\"zone_name\": \"Guwahati Zone\", \"loan_flag\": 4.326412361178175, \"Count of Merchants\": 41420}, {\"zone_name\": \"Haryana\", \"loan_flag\": 13.601537983093495, \"Count of Merchants\": 106113}, {\"zone_name\": \"Hyderabad\", \"loan_flag\": 26.90371929026388, \"Count of Merchants\": 140672}, {\"zone_name\": \"Kerala\", \"loan_flag\": 6.48107045468958, \"Count of Merchants\": 47307}, {\"zone_name\": \"Kolkata Zone\", \"loan_flag\": 4.569567101507748, \"Count of Merchants\": 66921}, {\"zone_name\": \"Madhya Pradesh 1\", \"loan_flag\": 14.03127624573995, \"Count of Merchants\": 144071}, {\"zone_name\": \"Malda\", \"loan_flag\": 1.4319376472720682, \"Count of Merchants\": 5517}, {\"zone_name\": \"Mumbai\", \"loan_flag\": 12.149355572403337, \"Count of Merchants\": 89692}, {\"zone_name\": \"North Andhra\", \"loan_flag\": 17.502536167020452, \"Count of Merchants\": 117303}, {\"zone_name\": \"North Karnataka\", \"loan_flag\": 12.50565591173297, \"Count of Merchants\": 28731}, {\"zone_name\": \"Odisha Zone\", \"loan_flag\": 4.951262838026708, \"Count of Merchants\": 110901}, {\"zone_name\": \"Pune MH\", \"loan_flag\": 23.185173384313103, \"Count of Merchants\": 94155}, {\"zone_name\": \"Punjab\", \"loan_flag\": 8.009558732643896, \"Count of Merchants\": 121355}, {\"zone_name\": \"ROM\", \"loan_flag\": 16.130358493197953, \"Count of Merchants\": 136209}, {\"zone_name\": \"Rajasthan\", \"loan_flag\": 15.015699521233259, \"Count of Merchants\": 109239}, {\"zone_name\": \"South Andhra\", \"loan_flag\": 22.239382239382238, \"Count of Merchants\": 91945}, {\"zone_name\": \"South Karnataka\", \"loan_flag\": 18.079033049373354, \"Count of Merchants\": 44842}, {\"zone_name\": \"South TamilNadu\", \"loan_flag\": 12.93634496919918, \"Count of Merchants\": 19480}, {\"zone_name\": \"Telangana\", \"loan_flag\": 22.565246152062578, \"Count of Merchants\": 146637}, {\"zone_name\": \"UP East\", \"loan_flag\": 12.767185943302236, \"Count of Merchants\": 176656}, {\"zone_name\": \"UP East Unmapped\", \"loan_flag\": 13.958810068649885, \"Count of Merchants\": 437}, {\"zone_name\": \"UP East Unmapped 2\", \"loan_flag\": 5.170068027210884, \"Count of Merchants\": 735}, {\"zone_name\": \"UP West\", \"loan_flag\": 15.782960580987822, \"Count of Merchants\": 110708}, {\"zone_name\": \"Uttarakhand\", \"loan_flag\": 13.682756503721894, \"Count of Merchants\": 26062}, {\"zone_name\": \"Vidarbha\", \"loan_flag\": 9.436100010717622, \"Count of Merchants\": 65313}, {\"zone_name\": \"Vizag Zone\", \"loan_flag\": 17.047650114169574, \"Count of Merchants\": 39853}]}}, {\"mode\": \"vega-lite\"});\n",
       "</script>"
      ],
      "text/plain": [
       "alt.VConcatChart(...)"
      ]
     },
     "execution_count": 108,
     "metadata": {},
     "output_type": "execute_result"
    }
   ],
   "source": [
    "cat1.properties(width = 900, height = 250) & cat2.properties(width = 900, height = 250)"
   ]
  },
  {
   "cell_type": "code",
   "execution_count": 109,
   "id": "3dd8aebc-4e16-43fc-a96b-4619a93c354e",
   "metadata": {},
   "outputs": [
    {
     "data": {
      "text/html": [
       "<div>\n",
       "<style scoped>\n",
       "    .dataframe tbody tr th:only-of-type {\n",
       "        vertical-align: middle;\n",
       "    }\n",
       "\n",
       "    .dataframe tbody tr th {\n",
       "        vertical-align: top;\n",
       "    }\n",
       "\n",
       "    .dataframe thead th {\n",
       "        text-align: right;\n",
       "    }\n",
       "</style>\n",
       "<table border=\"1\" class=\"dataframe\">\n",
       "  <thead>\n",
       "    <tr style=\"text-align: right;\">\n",
       "      <th></th>\n",
       "      <th>merchant_id</th>\n",
       "      <th>vintage</th>\n",
       "      <th>zone_name</th>\n",
       "      <th>business_category</th>\n",
       "      <th>geohash4</th>\n",
       "      <th>speaker_eligibility</th>\n",
       "      <th>swipe_eligibility</th>\n",
       "      <th>lending_eligibility</th>\n",
       "      <th>w1_txn_count</th>\n",
       "      <th>w2_txn_count</th>\n",
       "      <th>w3_txn_count</th>\n",
       "      <th>m1_txn_count</th>\n",
       "      <th>m2_txn_count</th>\n",
       "      <th>m3_txn_count</th>\n",
       "      <th>txn_count_90_days</th>\n",
       "      <th>total_txn_count</th>\n",
       "      <th>total_active_vintage</th>\n",
       "      <th>w1_tpv</th>\n",
       "      <th>w2_tpv</th>\n",
       "      <th>m1_tpv</th>\n",
       "      <th>m2_tpv</th>\n",
       "      <th>m3_tpv</th>\n",
       "      <th>tpv_90_days</th>\n",
       "      <th>total_tpv</th>\n",
       "      <th>m1_active_days</th>\n",
       "      <th>m2_active_days</th>\n",
       "      <th>m3_active_days</th>\n",
       "      <th>m1_max_daily_tpv</th>\n",
       "      <th>m2_max_daily_tpv</th>\n",
       "      <th>m3_max_daily_tpv</th>\n",
       "      <th>m1_max_daily_txns</th>\n",
       "      <th>m2_max_daily_txns</th>\n",
       "      <th>m3_max_daily_txns</th>\n",
       "      <th>w1_unique_payers</th>\n",
       "      <th>w2_unique_payers</th>\n",
       "      <th>m1_unique_payers</th>\n",
       "      <th>m2_unique_payers</th>\n",
       "      <th>m3_unique_payers</th>\n",
       "      <th>unique_payers_90_days</th>\n",
       "      <th>total_unique_payers</th>\n",
       "      <th>m1_max_daily_payees</th>\n",
       "      <th>m2_max_daily_payees</th>\n",
       "      <th>m3_max_daily_payees</th>\n",
       "      <th>w1_swipe_sessions</th>\n",
       "      <th>m1_swipe_sessions</th>\n",
       "      <th>w1_loan_sessions</th>\n",
       "      <th>m1_loan_sessions</th>\n",
       "      <th>w1_speaker_sessions</th>\n",
       "      <th>m1_speaker_sessions</th>\n",
       "      <th>trend</th>\n",
       "      <th>manufacturer</th>\n",
       "      <th>loc_hash_density</th>\n",
       "      <th>loc_hash_atv</th>\n",
       "      <th>loc_hash_tpv</th>\n",
       "      <th>m1_atv</th>\n",
       "      <th>m2_atv</th>\n",
       "      <th>total_atv</th>\n",
       "      <th>txn_activeday</th>\n",
       "      <th>m1_txn_activeday</th>\n",
       "      <th>m2_txn_activeday</th>\n",
       "      <th>m1_max_daily_by_tpv</th>\n",
       "      <th>m1_max_daily_by_payees</th>\n",
       "      <th>m1_max_daily_by_txns</th>\n",
       "      <th>prob_swipe</th>\n",
       "      <th>prob_speaker</th>\n",
       "      <th>prob_loan</th>\n",
       "      <th>swipe_flag</th>\n",
       "      <th>speaker_flag</th>\n",
       "      <th>loan_flag</th>\n",
       "      <th>loan_ltv</th>\n",
       "      <th>speaker_ltv</th>\n",
       "      <th>swipe_ltv</th>\n",
       "      <th>mltv</th>\n",
       "      <th>p1_recommendation</th>\n",
       "      <th>p2_recommendation</th>\n",
       "      <th>p3_recommendation</th>\n",
       "      <th>Channel</th>\n",
       "    </tr>\n",
       "  </thead>\n",
       "  <tbody>\n",
       "    <tr>\n",
       "      <th>652438</th>\n",
       "      <td>5266552</td>\n",
       "      <td>988</td>\n",
       "      <td>ROM</td>\n",
       "      <td>ELECTRONICS &amp; DURABLES</td>\n",
       "      <td>tes3</td>\n",
       "      <td>1</td>\n",
       "      <td>1</td>\n",
       "      <td>1</td>\n",
       "      <td>28282.0</td>\n",
       "      <td>27415.0</td>\n",
       "      <td>35238.0</td>\n",
       "      <td>152821.0</td>\n",
       "      <td>152429.0</td>\n",
       "      <td>132361.0</td>\n",
       "      <td>437611.0</td>\n",
       "      <td>1738905.0</td>\n",
       "      <td>906.0</td>\n",
       "      <td>1.636036e+08</td>\n",
       "      <td>1.608951e+08</td>\n",
       "      <td>9.957993e+08</td>\n",
       "      <td>954298971.8</td>\n",
       "      <td>8.102443e+08</td>\n",
       "      <td>2.760343e+09</td>\n",
       "      <td>1.115960e+10</td>\n",
       "      <td>30.0</td>\n",
       "      <td>30.0</td>\n",
       "      <td>30.0</td>\n",
       "      <td>73751598.99</td>\n",
       "      <td>74809923.67</td>\n",
       "      <td>40938438.91</td>\n",
       "      <td>9627.0</td>\n",
       "      <td>10131.0</td>\n",
       "      <td>6531.0</td>\n",
       "      <td>26587.0</td>\n",
       "      <td>25679.0</td>\n",
       "      <td>139859.0</td>\n",
       "      <td>139586.0</td>\n",
       "      <td>121630.0</td>\n",
       "      <td>391300.0</td>\n",
       "      <td>1454289.0</td>\n",
       "      <td>9086.0</td>\n",
       "      <td>9542.0</td>\n",
       "      <td>6213.0</td>\n",
       "      <td>0.0</td>\n",
       "      <td>0.0</td>\n",
       "      <td>0.0</td>\n",
       "      <td>1.0</td>\n",
       "      <td>0.0</td>\n",
       "      <td>0.0</td>\n",
       "      <td>flat</td>\n",
       "      <td>apple</td>\n",
       "      <td>7079.0</td>\n",
       "      <td>2.120408e+06</td>\n",
       "      <td>1.501037e+10</td>\n",
       "      <td>6516.115699</td>\n",
       "      <td>6260.612953</td>\n",
       "      <td>6417.601301</td>\n",
       "      <td>1919.321192</td>\n",
       "      <td>5094.033333</td>\n",
       "      <td>5080.966667</td>\n",
       "      <td>0.074063</td>\n",
       "      <td>0.064965</td>\n",
       "      <td>0.062995</td>\n",
       "      <td>0.086654</td>\n",
       "      <td>0.335458</td>\n",
       "      <td>0.420409</td>\n",
       "      <td>0</td>\n",
       "      <td>0</td>\n",
       "      <td>0</td>\n",
       "      <td>2.951422e+08</td>\n",
       "      <td>483.060222</td>\n",
       "      <td>2.027816e+07</td>\n",
       "      <td>3.154209e+08</td>\n",
       "      <td>loan</td>\n",
       "      <td>speaker</td>\n",
       "      <td>swipe</td>\n",
       "      <td>Offline</td>\n",
       "    </tr>\n",
       "  </tbody>\n",
       "</table>\n",
       "</div>"
      ],
      "text/plain": [
       "        merchant_id  vintage zone_name       business_category geohash4  \\\n",
       "652438      5266552      988       ROM  ELECTRONICS & DURABLES     tes3   \n",
       "\n",
       "        speaker_eligibility  swipe_eligibility  lending_eligibility  \\\n",
       "652438                    1                  1                    1   \n",
       "\n",
       "        w1_txn_count  w2_txn_count  w3_txn_count  m1_txn_count  m2_txn_count  \\\n",
       "652438       28282.0       27415.0       35238.0      152821.0      152429.0   \n",
       "\n",
       "        m3_txn_count  txn_count_90_days  total_txn_count  \\\n",
       "652438      132361.0           437611.0        1738905.0   \n",
       "\n",
       "        total_active_vintage        w1_tpv        w2_tpv        m1_tpv  \\\n",
       "652438                 906.0  1.636036e+08  1.608951e+08  9.957993e+08   \n",
       "\n",
       "             m2_tpv        m3_tpv   tpv_90_days     total_tpv  m1_active_days  \\\n",
       "652438  954298971.8  8.102443e+08  2.760343e+09  1.115960e+10            30.0   \n",
       "\n",
       "        m2_active_days  m3_active_days  m1_max_daily_tpv  m2_max_daily_tpv  \\\n",
       "652438            30.0            30.0       73751598.99       74809923.67   \n",
       "\n",
       "        m3_max_daily_tpv  m1_max_daily_txns  m2_max_daily_txns  \\\n",
       "652438       40938438.91             9627.0            10131.0   \n",
       "\n",
       "        m3_max_daily_txns  w1_unique_payers  w2_unique_payers  \\\n",
       "652438             6531.0           26587.0           25679.0   \n",
       "\n",
       "        m1_unique_payers  m2_unique_payers  m3_unique_payers  \\\n",
       "652438          139859.0          139586.0          121630.0   \n",
       "\n",
       "        unique_payers_90_days  total_unique_payers  m1_max_daily_payees  \\\n",
       "652438               391300.0            1454289.0               9086.0   \n",
       "\n",
       "        m2_max_daily_payees  m3_max_daily_payees  w1_swipe_sessions  \\\n",
       "652438               9542.0               6213.0                0.0   \n",
       "\n",
       "        m1_swipe_sessions  w1_loan_sessions  m1_loan_sessions  \\\n",
       "652438                0.0               0.0               1.0   \n",
       "\n",
       "        w1_speaker_sessions  m1_speaker_sessions trend manufacturer  \\\n",
       "652438                  0.0                  0.0  flat        apple   \n",
       "\n",
       "        loc_hash_density  loc_hash_atv  loc_hash_tpv       m1_atv  \\\n",
       "652438            7079.0  2.120408e+06  1.501037e+10  6516.115699   \n",
       "\n",
       "             m2_atv    total_atv  txn_activeday  m1_txn_activeday  \\\n",
       "652438  6260.612953  6417.601301    1919.321192       5094.033333   \n",
       "\n",
       "        m2_txn_activeday  m1_max_daily_by_tpv  m1_max_daily_by_payees  \\\n",
       "652438       5080.966667             0.074063                0.064965   \n",
       "\n",
       "        m1_max_daily_by_txns  prob_swipe  prob_speaker  prob_loan  swipe_flag  \\\n",
       "652438              0.062995    0.086654      0.335458   0.420409           0   \n",
       "\n",
       "        speaker_flag  loan_flag      loan_ltv  speaker_ltv     swipe_ltv  \\\n",
       "652438             0          0  2.951422e+08   483.060222  2.027816e+07   \n",
       "\n",
       "                mltv p1_recommendation p2_recommendation p3_recommendation  \\\n",
       "652438  3.154209e+08              loan           speaker             swipe   \n",
       "\n",
       "        Channel  \n",
       "652438  Offline  "
      ]
     },
     "execution_count": 109,
     "metadata": {},
     "output_type": "execute_result"
    }
   ],
   "source": [
    "pdt_final[pdt_final['loan_ltv'] == pdt_final['loan_ltv'].max()]"
   ]
  },
  {
   "cell_type": "code",
   "execution_count": 110,
   "id": "8ec3960c-79d6-44b4-aa21-b9f7183d04b9",
   "metadata": {},
   "outputs": [],
   "source": [
    "##### Removing Loan Outliers"
   ]
  },
  {
   "cell_type": "code",
   "execution_count": 111,
   "id": "844416b2-b26d-459e-9e47-3a54cf308019",
   "metadata": {},
   "outputs": [],
   "source": [
    "pdt_final_copy = pdt_final.copy()"
   ]
  },
  {
   "cell_type": "code",
   "execution_count": 112,
   "id": "c52b5d42-c291-492d-9a7b-093476f2de34",
   "metadata": {},
   "outputs": [],
   "source": [
    "pdt_final_copy['m1_m2_avg_tpv'] = .5 *(pdt_final_copy['m1_tpv'] + pdt_final_copy['m2_tpv'])"
   ]
  },
  {
   "cell_type": "code",
   "execution_count": 113,
   "id": "82c7e991-6cf1-4a9f-a3cb-713d5853dd5e",
   "metadata": {},
   "outputs": [],
   "source": [
    "def outlier_removal(col):\n",
    "    # col = 'loan_ltv'\n",
    "    q1 = np.percentile(pdt_final_copy[col], 25)\n",
    "    q3 = np.percentile(pdt_final_copy[col], 75)\n",
    "    iqr = q3-q1\n",
    "    lower_bound = q1 - 3*iqr\n",
    "    upper_bound = q3 + 3*iqr\n",
    "    c1 = pdt_final_copy[col] >= lower_bound\n",
    "    c2 = pdt_final_copy[col] <= upper_bound\n",
    "    c = c1 & c2\n",
    "    return c"
   ]
  },
  {
   "cell_type": "code",
   "execution_count": 114,
   "id": "e9edf5c2-64f1-4545-966d-fa55d68b07e0",
   "metadata": {},
   "outputs": [
    {
     "name": "stdout",
     "output_type": "stream",
     "text": [
      "Merchants before any Outlier Removal: 2658596\n"
     ]
    }
   ],
   "source": [
    "print(f\"Merchants before any Outlier Removal: {pdt_final_copy.shape[0]}\")"
   ]
  },
  {
   "cell_type": "code",
   "execution_count": 115,
   "id": "5073a580-c4bc-4373-a6b2-e4ee5921e23d",
   "metadata": {},
   "outputs": [
    {
     "data": {
      "text/plain": [
       "<AxesSubplot:>"
      ]
     },
     "execution_count": 115,
     "metadata": {},
     "output_type": "execute_result"
    },
    {
     "data": {
      "image/png": "[encoded data removed]",
      "text/plain": [
       "<Figure size 640x480 with 1 Axes>"
      ]
     },
     "metadata": {},
     "output_type": "display_data"
    }
   ],
   "source": [
    "pdt_final_copy = pdt_final_copy[outlier_removal('m1_m2_avg_tpv')]\n",
    "pdt_final_copy['loan_ltv'].hist()"
   ]
  },
  {
   "cell_type": "code",
   "execution_count": 116,
   "id": "642d111b-204e-4716-bed5-ce48376f7197",
   "metadata": {},
   "outputs": [
    {
     "name": "stdout",
     "output_type": "stream",
     "text": [
      "Merchants after Loan LTV Outlier Removal: 2423942\n"
     ]
    }
   ],
   "source": [
    "print(f\"Merchants after Loan LTV Outlier Removal: {pdt_final_copy.shape[0]}\")"
   ]
  },
  {
   "cell_type": "code",
   "execution_count": 117,
   "id": "495064fc-1608-4c0d-9f1f-7459e781799c",
   "metadata": {},
   "outputs": [],
   "source": [
    "# pdt_final_copy = pdt_final_copy[outlier_removal('loan_ltv')]\n",
    "# pdt_final_copy['loan_ltv'].hist()"
   ]
  },
  {
   "cell_type": "code",
   "execution_count": 118,
   "id": "9916b426-2941-45a1-b18c-bb8f47fc4163",
   "metadata": {},
   "outputs": [],
   "source": [
    "# print(f\"Merchants after Loan LTV Outlier Removal: {pdt_final_copy.shape[0]}\")"
   ]
  },
  {
   "cell_type": "code",
   "execution_count": 119,
   "id": "ef40e779-bc63-4c2d-a4f4-66cd9ed9a469",
   "metadata": {},
   "outputs": [],
   "source": [
    "# pdt_final_copy = pdt_final_copy[outlier_removal('swipe_ltv')]\n",
    "# pdt_final_copy['swipe_ltv'].hist()"
   ]
  },
  {
   "cell_type": "code",
   "execution_count": 120,
   "id": "8f45f0bc-0956-4ae5-a407-6692aa485d7d",
   "metadata": {},
   "outputs": [],
   "source": [
    "# print(f\"Merchants after Swipe LTV Outlier Removal: {pdt_final_copy.shape[0]}\")"
   ]
  },
  {
   "cell_type": "code",
   "execution_count": 121,
   "id": "f13f952a-1861-4c19-89cb-c96140ba06ce",
   "metadata": {},
   "outputs": [],
   "source": [
    "# pdt_final_copy = pdt_final_copy[outlier_removal('speaker_ltv')]\n",
    "# pdt_final_copy['speaker_ltv'].hist()"
   ]
  },
  {
   "cell_type": "code",
   "execution_count": 122,
   "id": "071f0df5-5d95-4ffa-b68f-0e85aa895e5b",
   "metadata": {},
   "outputs": [],
   "source": [
    "# print(f\"Merchants after Speaker LTV Outlier Removal: {pdt_final_copy.shape[0]}\")"
   ]
  }
 ],
 "metadata": {
  "environment": {
   "kernel": "python3",
   "name": "common-cpu.m98",
   "type": "gcloud",
   "uri": "gcr.io/deeplearning-platform-release/base-cpu:m98"
  },
  "kernelspec": {
   "display_name": "Python 3",
   "language": "python",
   "name": "python3"
  },
  "language_info": {
   "codemirror_mode": {
    "name": "ipython",
    "version": 3
   },
   "file_extension": ".py",
   "mimetype": "text/x-python",
   "name": "python",
   "nbconvert_exporter": "python",
   "pygments_lexer": "ipython3",
   "version": "3.7.12"
  }
 },
 "nbformat": 4,
 "nbformat_minor": 5
}
