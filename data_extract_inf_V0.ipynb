{
 "cells": [
  {
   "cell_type": "code",
   "execution_count": 1,
   "id": "22e7f43a-d866-498c-a4cb-b96912ee0943",
   "metadata": {},
   "outputs": [],
   "source": [
    "import os.path\n",
    "import datetime\n",
    "from query_inf import *"
   ]
  },
  {
   "cell_type": "code",
   "execution_count": 2,
   "id": "f1c59a33-9887-4872-8404-9ede2883f984",
   "metadata": {},
   "outputs": [],
   "source": [
    "start = datetime.datetime.now()"
   ]
  },
  {
   "cell_type": "code",
   "execution_count": 3,
   "id": "8601e09f-24a7-498a-b315-d3585a496c61",
   "metadata": {},
   "outputs": [
    {
     "name": "stderr",
     "output_type": "stream",
     "text": [
      "Downloading: 100%|██████████| 270135/270135 [00:57<00:00, 4665.81rows/s]\n",
      "Downloading: 100%|██████████| 270131/270131 [00:59<00:00, 4574.34rows/s]\n",
      "Downloading: 100%|██████████| 269538/269538 [01:00<00:00, 4464.38rows/s]\n",
      "Downloading: 100%|██████████| 270203/270203 [00:58<00:00, 4636.67rows/s]\n",
      "Downloading: 100%|██████████| 270115/270115 [00:59<00:00, 4549.13rows/s]\n",
      "Downloading: 100%|██████████| 269665/269665 [00:57<00:00, 4666.53rows/s]\n",
      "Downloading: 100%|██████████| 270638/270638 [00:57<00:00, 4735.87rows/s]\n",
      "Downloading: 100%|██████████| 269431/269431 [00:59<00:00, 4530.83rows/s]\n",
      "Downloading: 100%|██████████| 269872/269872 [01:00<00:00, 4473.52rows/s]\n",
      "Downloading: 100%|██████████| 270303/270303 [00:59<00:00, 4537.70rows/s]\n"
     ]
    }
   ],
   "source": [
    "if not os.path.exists('overall_merchant.csv'):\n",
    "    merchant_data = merchant_data()\n",
    "    merchant_data.to_csv('overall_merchant.csv', index = False)"
   ]
  },
  {
   "cell_type": "code",
   "execution_count": 4,
   "id": "8522a642-0824-49bd-9485-412678188d2e",
   "metadata": {},
   "outputs": [],
   "source": [
    "# if not os.path.exists('overall_trx.csv'):\n",
    "#     trx_data = trx_data()\n",
    "#     trx_data.to_csv('overall_trx.csv', index = False)"
   ]
  },
  {
   "cell_type": "code",
   "execution_count": 5,
   "id": "6e5a9b8e-a077-4a69-bb5f-335495c6c81b",
   "metadata": {},
   "outputs": [],
   "source": [
    "if not os.path.exists('overall_app.csv'):\n",
    "    app_data = app_sessions()\n",
    "    app_data.to_csv('overall_app.csv', index = False)"
   ]
  },
  {
   "cell_type": "code",
   "execution_count": 6,
   "id": "e310ec3e-d3f5-4fce-b2ff-20b704ecb543",
   "metadata": {},
   "outputs": [],
   "source": [
    "if not os.path.exists('trx1.csv'):\n",
    "    trx1_data = trx1()\n",
    "    trx1_data.to_csv('trx1.csv', index = False)"
   ]
  },
  {
   "cell_type": "code",
   "execution_count": 7,
   "id": "254c6b1a-821e-4c26-be1b-d5747801a5d5",
   "metadata": {},
   "outputs": [],
   "source": [
    "if not os.path.exists('payee1.csv'):\n",
    "    payee1_data = payee1()\n",
    "    payee1_data.to_csv('payee1.csv', index = False)"
   ]
  },
  {
   "cell_type": "code",
   "execution_count": 8,
   "id": "8c1052db-4d9a-4c97-a843-d906b25f11ee",
   "metadata": {},
   "outputs": [],
   "source": [
    "if not os.path.exists('payee2.csv'):\n",
    "    payee2_data = payee2()\n",
    "    payee2_data.to_csv('payee2.csv', index = False)"
   ]
  },
  {
   "cell_type": "code",
   "execution_count": 9,
   "id": "514c696b-c785-48be-86c9-bccb9ef1f9ac",
   "metadata": {},
   "outputs": [],
   "source": [
    "end = datetime.datetime.now()"
   ]
  },
  {
   "cell_type": "code",
   "execution_count": 10,
   "id": "bb43d088-d269-4082-a8ba-9640128c5b86",
   "metadata": {},
   "outputs": [
    {
     "data": {
      "text/plain": [
       "datetime.timedelta(seconds=804, microseconds=70410)"
      ]
     },
     "execution_count": 10,
     "metadata": {},
     "output_type": "execute_result"
    }
   ],
   "source": [
    "end - start"
   ]
  }
 ],
 "metadata": {
  "environment": {
   "kernel": "python3",
   "name": "common-cpu.m98",
   "type": "gcloud",
   "uri": "gcr.io/deeplearning-platform-release/base-cpu:m98"
  },
  "kernelspec": {
   "display_name": "Python 3",
   "language": "python",
   "name": "python3"
  },
  "language_info": {
   "codemirror_mode": {
    "name": "ipython",
    "version": 3
   },
   "file_extension": ".py",
   "mimetype": "text/x-python",
   "name": "python",
   "nbconvert_exporter": "python",
   "pygments_lexer": "ipython3",
   "version": "3.7.12"
  }
 },
 "nbformat": 4,
 "nbformat_minor": 5
}
