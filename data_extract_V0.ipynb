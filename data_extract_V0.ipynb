{
 "cells": [
  {
   "cell_type": "code",
   "execution_count": 1,
   "id": "30b49f7d-a26a-4c26-af9b-c12a9285cc2b",
   "metadata": {},
   "outputs": [],
   "source": [
    "import numpy as np\n",
    "import pandas as pd\n",
    "import pandas_gbq\n",
    "import os.path"
   ]
  },
  {
   "cell_type": "code",
   "execution_count": 2,
   "id": "b9d830b1-bdf2-4e58-9204-099c23a05a12",
   "metadata": {},
   "outputs": [],
   "source": [
    "from query_V1 import *"
   ]
  },
  {
   "cell_type": "code",
   "execution_count": 3,
   "id": "3291c662-08de-4141-98d7-44397d9c12c7",
   "metadata": {},
   "outputs": [],
   "source": [
    "##### swipe\n",
    "product = \"swipe\"\n",
    "events = ('swipe_home_screen_landed','swipe_od_screen_landed','swipe_home_button_click_order_now','swipe_od_button_click_submit','bharat_swipe')\n",
    "task_id = (16, -1)\n",
    "order_date = \"order_date\"\n",
    "table = \"bharatpe_analytics_data.bharatswipe_application\""
   ]
  },
  {
   "cell_type": "code",
   "execution_count": 4,
   "id": "4f8c31be-6180-4607-8bee-066a8f3bdb2f",
   "metadata": {},
   "outputs": [
    {
     "name": "stderr",
     "output_type": "stream",
     "text": [
      "Downloading: 100%|██████████| 317/317 [00:00<00:00, 6541.48rows/s]\n",
      "Downloading: 100%|██████████| 302/302 [00:00<00:00, 5460.74rows/s]\n",
      "Downloading: 100%|██████████| 267/267 [00:00<00:00, 5635.32rows/s]\n",
      "Downloading: 100%|██████████| 310/310 [00:00<00:00, 2545.37rows/s]\n",
      "Downloading: 100%|██████████| 341/341 [00:00<00:00, 6569.64rows/s]\n",
      "Downloading: 100%|██████████| 296/296 [00:00<00:00, 2279.57rows/s]\n",
      "Downloading: 100%|██████████| 284/284 [00:00<00:00, 2115.78rows/s]\n",
      "Downloading: 100%|██████████| 361/361 [00:00<00:00, 6636.76rows/s]\n",
      "Downloading: 100%|██████████| 303/303 [00:00<00:00, 2480.97rows/s]\n",
      "Downloading: 100%|██████████| 275/275 [00:00<00:00, 2084.67rows/s]\n",
      "Downloading: 100%|██████████| 1572/1572 [00:00<00:00, 9426.05rows/s]\n",
      "Downloading: 100%|██████████| 1546/1546 [00:00<00:00, 6714.80rows/s]\n",
      "Downloading: 100%|██████████| 1519/1519 [00:00<00:00, 10299.68rows/s]\n",
      "Downloading: 100%|██████████| 1544/1544 [00:00<00:00, 10464.92rows/s]\n",
      "Downloading: 100%|██████████| 1527/1527 [00:00<00:00, 11259.75rows/s]\n",
      "Downloading: 100%|██████████| 263/263 [00:00<00:00, 2090.32rows/s]\n",
      "Downloading: 100%|██████████| 285/285 [00:00<00:00, 1991.14rows/s]\n",
      "Downloading: 100%|██████████| 281/281 [00:00<00:00, 1650.54rows/s]\n",
      "Downloading: 100%|██████████| 257/257 [00:00<00:00, 2212.09rows/s]\n",
      "Downloading: 100%|██████████| 263/263 [00:00<00:00, 2036.95rows/s]\n",
      "Downloading: 100%|██████████| 264/264 [00:00<00:00, 2070.98rows/s]\n",
      "Downloading: 100%|██████████| 55115/55115 [00:01<00:00, 42319.81rows/s]\n",
      "Downloading: 100%|██████████| 55045/55045 [00:01<00:00, 50529.43rows/s]\n",
      "Downloading: 100%|██████████| 55259/55259 [00:01<00:00, 42674.03rows/s]\n",
      "Downloading: 100%|██████████| 54943/54943 [00:01<00:00, 44405.76rows/s]\n",
      "Downloading: 100%|██████████| 55610/55610 [00:01<00:00, 46603.50rows/s]\n",
      "Downloading: 100%|██████████| 54578/54578 [00:01<00:00, 45449.82rows/s]\n",
      "Downloading: 100%|██████████| 55266/55266 [00:01<00:00, 42229.81rows/s]\n",
      "Downloading: 100%|██████████| 54985/54985 [00:01<00:00, 49114.14rows/s]\n",
      "Downloading: 100%|██████████| 54950/54950 [00:01<00:00, 47967.29rows/s]\n",
      "Downloading: 100%|██████████| 55238/55238 [00:01<00:00, 42515.82rows/s]\n"
     ]
    }
   ],
   "source": [
    "if not os.path.exists(f'{product}_push_merchants_in_application.csv'):\n",
    "    swipe_push_merchants_in_application = push_merchant_in_application_7d(task_id = task_id,order_date = order_date,table = table)\n",
    "    swipe_push_merchants_in_application.to_csv(f'{product}_push_merchants_in_application.csv', index = False)\n",
    "\n",
    "if not os.path.exists(f'{product}_total_push_merchants.csv'):\n",
    "    swipe_tot_push_merchants = total_push_merchants(task_id = task_id)\n",
    "    swipe_tot_push_merchants.to_csv(f'{product}_total_push_merchants.csv', index = False)\n",
    "\n",
    "if not os.path.exists(f'{product}_total_application_merchants.csv'):\n",
    "    swipe_tot_app_merchants = total_applications(table = table)\n",
    "    swipe_tot_app_merchants.to_csv(f'{product}_total_application_merchants.csv', index = False)\n",
    "\n",
    "if not os.path.exists(f'{product}_merchant_data_mart.csv'):\n",
    "    swipe_merchant_data_mart = merchant_data(task_id = task_id,table = table)\n",
    "    swipe_merchant_data_mart.to_csv(f'{product}_merchant_data_mart.csv', index = False)\n",
    "\n",
    "if not os.path.exists(f'trxn_{product}.csv'):\n",
    "    trxn_swipe = trx_data(task_id = task_id,order_date = order_date,table = table)\n",
    "    trxn_swipe.to_csv(f'trxn_{product}.csv', index = False)\n",
    "\n",
    "if not os.path.exists(f'app_{product}.csv'):\n",
    "    df1 = app_sessions(start_date = \"2020-01-01\", end_date = \"2021-01-01\",task_id = task_id,order_date = order_date,table = table,events = events)\n",
    "    df2 = app_sessions(start_date = \"2021-01-01\", end_date = \"2022-01-01\",task_id = task_id,order_date = order_date,table = table,events = events)\n",
    "    df3 = app_sessions(start_date = \"2022-01-01\", end_date = \"2023-01-01\",task_id = task_id,order_date = order_date,table = table,events = events)\n",
    "    df = pd.concat([df1,df2,df3], axis=0)\n",
    "    app_swipe = df.groupby(['merchant_id'])[['w1_sessions','m1_sessions']].sum().reset_index()\n",
    "    app_swipe.to_csv(f'app_{product}.csv', index = False)\n",
    "    \n",
    "if not os.path.exists(f'{product}_vin.csv'):\n",
    "    swipe_push_merchants_in_application = tot_vintage(task_id = task_id,order_date = order_date, table = table)\n",
    "    swipe_push_merchants_in_application.to_csv(f'{product}_vin.csv', index = False)"
   ]
  },
  {
   "cell_type": "code",
   "execution_count": 5,
   "id": "7cdb80ab-6181-446b-8949-975cc78a7a41",
   "metadata": {},
   "outputs": [
    {
     "name": "stdout",
     "output_type": "stream",
     "text": [
      "Table : bharatpe_analytics_data.bharatswipe_application \n",
      "Task_ID : (16, -1) \n",
      "Product : swipe  \n",
      "date : order_date \n",
      "event : ('swipe_home_screen_landed', 'swipe_od_screen_landed', 'swipe_home_button_click_order_now', 'swipe_od_button_click_submit', 'bharat_swipe')\n"
     ]
    }
   ],
   "source": [
    "print(f\"Table : {table} \\nTask_ID : {task_id} \\nProduct : {product}  \\ndate : {order_date} \\nevent : {events}\")"
   ]
  },
  {
   "cell_type": "code",
   "execution_count": 6,
   "id": "f967a9b6-287f-4501-b0ca-b660b30bfe22",
   "metadata": {},
   "outputs": [
    {
     "name": "stderr",
     "output_type": "stream",
     "text": [
      "Downloading: 100%|██████████| 56/56 [00:00<00:00, 1084.28rows/s]\n"
     ]
    }
   ],
   "source": [
    "##### speaker\n",
    "\n",
    "product = \"speaker\"\n",
    "\n",
    "speaker_events = \"\"\"\n",
    "SELECT\n",
    "  DISTINCT event_name\n",
    "FROM\n",
    "  `bharatpe-analytics-prod.bharatpe_analytics_data.app_event`\n",
    "WHERE\n",
    "  DATE(created_at) >= \"2018-01-01\"\n",
    "  and lower(event_name) like '%speaker%'\n",
    "\n",
    "\"\"\"\n",
    "speaker_events = pandas_gbq.read_gbq(speaker_events)\n",
    "events = tuple(el.strip() for el in speaker_events['event_name'])\n",
    "task_id = (27, -1)\n",
    "order_date = \"order_date\"\n",
    "table = \"soundbox_iot.soundbox\""
   ]
  },
  {
   "cell_type": "code",
   "execution_count": 7,
   "id": "8d080c61-5b18-4da8-bf3c-19f3dc172bff",
   "metadata": {},
   "outputs": [
    {
     "name": "stderr",
     "output_type": "stream",
     "text": [
      "Downloading: 100%|██████████| 364272/364272 [00:04<00:00, 87633.29rows/s]\n",
      "Downloading: 100%|██████████| 866248/866248 [00:07<00:00, 108785.24rows/s]\n",
      "Downloading: 100%|██████████| 507369/507369 [00:05<00:00, 89999.82rows/s]\n",
      "Downloading: 100%|██████████| 96132/96132 [00:24<00:00, 3915.00rows/s]\n",
      "Downloading: 100%|██████████| 96723/96723 [00:24<00:00, 3911.12rows/s]\n",
      "Downloading: 100%|██████████| 96152/96152 [00:22<00:00, 4336.98rows/s]\n",
      "Downloading: 100%|██████████| 95803/95803 [00:20<00:00, 4631.96rows/s]\n",
      "Downloading: 100%|██████████| 96666/96666 [00:21<00:00, 4558.55rows/s]\n",
      "Downloading: 100%|██████████| 96039/96039 [00:21<00:00, 4447.98rows/s]\n",
      "Downloading: 100%|██████████| 96108/96108 [00:20<00:00, 4619.33rows/s]\n",
      "Downloading: 100%|██████████| 95314/95314 [00:20<00:00, 4661.89rows/s]\n",
      "Downloading: 100%|██████████| 95917/95917 [00:20<00:00, 4677.24rows/s]\n",
      "Downloading: 100%|██████████| 96407/96407 [00:20<00:00, 4618.30rows/s]\n",
      "Downloading: 100%|██████████| 95306/95306 [00:17<00:00, 5327.67rows/s]\n",
      "Downloading: 100%|██████████| 95865/95865 [00:17<00:00, 5539.81rows/s]\n",
      "Downloading: 100%|██████████| 95320/95320 [00:18<00:00, 5276.09rows/s]\n",
      "Downloading: 100%|██████████| 94964/94964 [00:16<00:00, 5623.74rows/s]\n",
      "Downloading: 100%|██████████| 95793/95793 [00:17<00:00, 5506.10rows/s]\n",
      "Downloading: 100%|██████████| 95226/95226 [00:17<00:00, 5502.94rows/s]\n",
      "Downloading: 100%|██████████| 95265/95265 [00:17<00:00, 5333.42rows/s]\n",
      "Downloading: 100%|██████████| 94483/94483 [00:17<00:00, 5537.50rows/s]\n",
      "Downloading: 100%|██████████| 95046/95046 [00:17<00:00, 5481.24rows/s]\n",
      "Downloading: 100%|██████████| 95591/95591 [00:17<00:00, 5397.86rows/s]\n",
      "Downloading: 100%|██████████| 8/8 [00:00<00:00, 65.72rows/s]\n",
      "Downloading: 100%|██████████| 9/9 [00:00<00:00, 177.33rows/s]\n",
      "Downloading: 100%|██████████| 8/8 [00:00<00:00, 67.38rows/s]\n",
      "Downloading: 100%|██████████| 12/12 [00:00<00:00, 97.34rows/s]\n",
      "Downloading: 100%|██████████| 9/9 [00:00<00:00, 74.17rows/s]\n",
      "Downloading: 100%|██████████| 10/10 [00:00<00:00, 201.14rows/s]\n",
      "Downloading: 100%|██████████| 11/11 [00:00<00:00, 93.11rows/s]\n",
      "Downloading: 100%|██████████| 13/13 [00:00<00:00, 110.54rows/s]\n",
      "Downloading: 100%|██████████| 7/7 [00:00<00:00, 62.02rows/s]\n",
      "Downloading: 100%|██████████| 12/12 [00:00<00:00, 98.21rows/s]\n",
      "Downloading: 100%|██████████| 5345/5345 [00:00<00:00, 33424.96rows/s]\n",
      "Downloading: 100%|██████████| 5344/5344 [00:00<00:00, 25543.26rows/s]\n",
      "Downloading: 100%|██████████| 5253/5253 [00:00<00:00, 26040.43rows/s]\n",
      "Downloading: 100%|██████████| 5302/5302 [00:00<00:00, 23007.79rows/s]\n",
      "Downloading: 100%|██████████| 5429/5429 [00:00<00:00, 27658.69rows/s]\n",
      "Downloading: 100%|██████████| 5267/5267 [00:00<00:00, 29824.14rows/s]\n",
      "Downloading: 100%|██████████| 5356/5356 [00:00<00:00, 25786.07rows/s]\n",
      "Downloading: 100%|██████████| 5295/5295 [00:00<00:00, 26629.82rows/s]\n",
      "Downloading: 100%|██████████| 5185/5185 [00:00<00:00, 25656.31rows/s]\n",
      "Downloading: 100%|██████████| 5239/5239 [00:00<00:00, 16580.84rows/s]\n",
      "Downloading: 100%|██████████| 99936/99936 [00:01<00:00, 58195.50rows/s]\n",
      "Downloading: 100%|██████████| 100715/100715 [00:01<00:00, 57263.85rows/s]\n",
      "Downloading: 100%|██████████| 100081/100081 [00:01<00:00, 56117.59rows/s]\n",
      "Downloading: 100%|██████████| 99824/99824 [00:01<00:00, 56411.64rows/s]\n",
      "Downloading: 100%|██████████| 100589/100589 [00:01<00:00, 59845.93rows/s]\n",
      "Downloading: 100%|██████████| 99994/99994 [00:01<00:00, 54740.64rows/s]\n",
      "Downloading: 100%|██████████| 100044/100044 [00:01<00:00, 58202.93rows/s]\n",
      "Downloading: 100%|██████████| 99191/99191 [00:01<00:00, 60301.11rows/s]\n",
      "Downloading: 100%|██████████| 99813/99813 [00:01<00:00, 56260.77rows/s]\n",
      "Downloading: 100%|██████████| 100467/100467 [00:01<00:00, 56161.17rows/s]\n"
     ]
    }
   ],
   "source": [
    "if not os.path.exists(f'{product}_push_merchants_in_application.csv'):\n",
    "    swipe_push_merchants_in_application = push_merchant_in_application_7d(task_id = task_id,order_date = order_date,table = table)\n",
    "    swipe_push_merchants_in_application.to_csv(f'{product}_push_merchants_in_application.csv', index = False)\n",
    "\n",
    "if not os.path.exists(f'{product}_total_push_merchants.csv'):\n",
    "    swipe_tot_push_merchants = total_push_merchants(task_id = task_id)\n",
    "    swipe_tot_push_merchants.to_csv(f'{product}_total_push_merchants.csv', index = False)\n",
    "\n",
    "if not os.path.exists(f'{product}_total_application_merchants.csv'):\n",
    "    swipe_tot_app_merchants = total_applications(table = table)\n",
    "    swipe_tot_app_merchants.to_csv(f'{product}_total_application_merchants.csv', index = False)\n",
    "\n",
    "if not os.path.exists(f'{product}_merchant_data_mart.csv'):\n",
    "    swipe_merchant_data_mart = merchant_data(task_id = task_id,table = table)\n",
    "    swipe_merchant_data_mart.to_csv(f'{product}_merchant_data_mart.csv', index = False)\n",
    "\n",
    "if not os.path.exists(f'trxn_{product}.csv'):\n",
    "    trxn_swipe = trx_data(task_id = task_id,order_date = order_date,table = table)\n",
    "    trxn_swipe.to_csv(f'trxn_{product}.csv', index = False)\n",
    "\n",
    "if not os.path.exists(f'app_{product}.csv'):\n",
    "    # df1 = app_sessions(start_date = \"2020-01-01\", end_date = \"2021-01-01\",task_id = task_id,order_date = order_date,table = table,events = events)\n",
    "    df2 = app_sessions(start_date = \"2021-01-01\", end_date = \"2022-01-01\",task_id = task_id,order_date = order_date,table = table,events = events)\n",
    "    df3 = app_sessions(start_date = \"2022-01-01\", end_date = \"2023-01-01\",task_id = task_id,order_date = order_date,table = table,events = events)\n",
    "    df = pd.concat([df2,df3], axis=0)\n",
    "    app_swipe = df.groupby(['merchant_id'])[['w1_sessions','m1_sessions']].sum().reset_index()\n",
    "    app_swipe.to_csv(f'app_{product}.csv', index = False)\n",
    "    \n",
    "if not os.path.exists(f'{product}_vin.csv'):\n",
    "    swipe_push_merchants_in_application = tot_vintage(task_id = task_id,order_date = order_date, table = table)\n",
    "    swipe_push_merchants_in_application.to_csv(f'{product}_vin.csv', index = False)"
   ]
  },
  {
   "cell_type": "code",
   "execution_count": 8,
   "id": "ed4a615a-8168-4a37-9385-b006d6fd0134",
   "metadata": {},
   "outputs": [
    {
     "name": "stdout",
     "output_type": "stream",
     "text": [
      "Table : soundbox_iot.soundbox \n",
      "Task_ID : (27, -1) \n",
      "Product : speaker  \n",
      "date : order_date \n",
      "event : ('bharatpe_speaker|bharatpe_speaker|new_merchant_home|terms and conditions|terms and conditions', 'bharatpe_speaker|bharatpe_speaker|new_merchant_home|onboarding_video|onboarding_video', 'bharatpe_speaker|bharatpe_speaker|speaker_home|faqs', 'speaker_order_now_landed', 'bharatpe_speaker|bharatpe_speaker|transactions|select_dates', 'speaker_place_order_clicked', 'bharatpe_club2|bharatpe_club2|club_home|speaker_free|know_more', 'bharatpe_speaker|bharatpe_speaker|track_order|track_order', 'bharatpe_speaker|bharatpe_speaker|address_details|address_selection|new_address', 'speaker_gst_landed', 'speaker_confirm_address_clicked', 'bharatpe_speaker|bharatpe_speaker|speaker_home|recent_trasactions|view_all', 'bharatpe_speaker|bharatpe_speaker|speaker_home|invoices', 'bharatpe_speaker|bharatpe_speaker|language', 'speaker_payment_success', 'speaker_address_landed', 'speaker_address_landed', 'bharatpe_speaker|bharatpe_speaker|new_merchant_home|faqs', 'speaker_payment_landed', 'bharatpe_speaker|bharatpe_speaker|transaction_success_flag', 'bharatpe_speaker|bharatpe_speaker|address_details|address_confirmation|confirm_address', 'bharatpe_speaker|bharatpe_speaker|new_merchant_home|intro_video|intro_video', 'bharatpe_club2|bharatpe_club2|benefits_details|speaker_free|know_more', 'bharatpe_speaker|bharatpe_speaker|transaction_failed', 'bharatpe_speaker|bharatpe_speaker|speaker_home|unboxing_video', 'speaker_join_club_clicked', 'bharatpe_club2|bharatpe_club2|benefits_details|speaker_free_modal|ok_cta', 'speaker_confirm_address_clicked', 'speaker_payment_success', 'speaker_gst_landed', 'bharatpe_speaker|bharatpe_speaker|speaker_home|laguage', 'bharatpe_speaker|bharatpe_speaker|speaker_home|service_request', 'speaker_join_club_clicked', 'bharatpe_speaker|bharatpe_speaker|transaction_pending', 'bharatpe_speaker|bharatpe_speaker|invoices|select_invoice', 'bharatpe_speaker|bharatpe_speaker|address_details|address_selection|address_card', 'bharatpe_speaker|bharatpe_speaker|transaction_success', 'bharatpe_speaker|bharatpe_speaker|new_merchant_home|hero_introduction', 'bharatpe_speaker|bharatpe_speaker|language|radio_button', 'speaker_new_address_clicked', 'bharatpe_speaker|bharatpe_speaker|invoices', 'bharatpe_speaker|bharatpe_speaker|share_cta|share_cta', 'bharatpe_speaker', 'BharatPe Speaker', 'bharatpe_speaker|bharatpe_speaker|new_merchant_home|join_club|join_club', 'speaker_order_now_landed', 'bharatpe_speaker|bharatpe_speaker|transactions', 'speaker_payment_landed', 'bharatpe_speaker|bharatpe_speaker|new_merchant_home|hero_introduction|order_now', 'bharatpe_speaker|bharatpe_speaker|speaker_home|speaker_home', 'bharatpe_speaker|bharatpe_speaker|address_details|address_selection|OGL', 'speaker_place_order_clicked', 'bharatpe_speaker|bharatpe_speaker|track_order|track_status_cta', 'speaker_new_address_clicked', 'bharatpe_speaker', 'BharatPe Speaker')\n"
     ]
    }
   ],
   "source": [
    "print(f\"Table : {table} \\nTask_ID : {task_id} \\nProduct : {product}  \\ndate : {order_date} \\nevent : {events}\")"
   ]
  },
  {
   "cell_type": "code",
   "execution_count": 9,
   "id": "0937157d-7bd4-431c-a0b7-992f5fed5632",
   "metadata": {},
   "outputs": [],
   "source": [
    "##### loan\n",
    "product = \"loan\"\n",
    "events = ('Loan_Enter_Pan_Page','Loan_Eligible_Page','Loan_Agreement_Page','Loan_Enach_Page','loans','loan','credit-score')\n",
    "task_id = (18,21,22, -1)\n",
    "order_date = \"agreement_at\"\n",
    "table = \"easy_loan.lending_application\"\n",
    "status = ('APPROVED','approved','Approved','rejected','pending_verification')"
   ]
  },
  {
   "cell_type": "code",
   "execution_count": 10,
   "id": "beb26845-2bbc-4dc7-8695-40600556566c",
   "metadata": {},
   "outputs": [
    {
     "name": "stderr",
     "output_type": "stream",
     "text": [
      "Downloading: 100%|██████████| 217872/217872 [00:02<00:00, 90236.69rows/s]\n",
      "Downloading: 100%|██████████| 1847522/1847522 [00:16<00:00, 113337.40rows/s]\n",
      "Downloading: 100%|██████████| 1006399/1006399 [00:08<00:00, 118781.00rows/s]\n",
      "Downloading: 100%|██████████| 229221/229221 [00:39<00:00, 5781.31rows/s]\n",
      "Downloading: 100%|██████████| 229607/229607 [00:41<00:00, 5567.56rows/s]\n",
      "Downloading: 100%|██████████| 228751/228751 [00:41<00:00, 5579.16rows/s]\n",
      "Downloading: 100%|██████████| 229437/229437 [00:39<00:00, 5779.27rows/s]\n",
      "Downloading: 100%|██████████| 229774/229774 [00:40<00:00, 5627.06rows/s]\n",
      "Downloading: 100%|██████████| 229140/229140 [00:40<00:00, 5610.49rows/s]\n",
      "Downloading: 100%|██████████| 229774/229774 [00:40<00:00, 5607.76rows/s]\n",
      "Downloading: 100%|██████████| 229275/229275 [00:40<00:00, 5617.81rows/s]\n",
      "Downloading: 100%|██████████| 229551/229551 [00:41<00:00, 5471.33rows/s]\n",
      "Downloading: 100%|██████████| 230650/230650 [00:41<00:00, 5611.54rows/s]\n",
      "Downloading: 100%|██████████| 2872/2872 [00:00<00:00, 15940.09rows/s]\n",
      "Downloading: 100%|██████████| 2902/2902 [00:00<00:00, 18212.53rows/s]\n",
      "Downloading: 100%|██████████| 3137/3137 [00:00<00:00, 19573.57rows/s]\n",
      "Downloading: 100%|██████████| 3059/3059 [00:00<00:00, 18339.43rows/s]\n",
      "Downloading: 100%|██████████| 2940/2940 [00:00<00:00, 18496.68rows/s]\n",
      "Downloading: 100%|██████████| 2919/2919 [00:00<00:00, 28158.17rows/s]\n",
      "Downloading: 100%|██████████| 2985/2985 [00:00<00:00, 17740.14rows/s]\n",
      "Downloading: 100%|██████████| 2993/2993 [00:00<00:00, 16955.00rows/s]\n",
      "Downloading: 100%|██████████| 2973/2973 [00:00<00:00, 18152.72rows/s]\n",
      "Downloading: 100%|██████████| 3017/3017 [00:00<00:00, 20056.42rows/s]\n",
      "Downloading: 100%|██████████| 13114/13114 [00:00<00:00, 27589.11rows/s]\n",
      "Downloading: 100%|██████████| 13154/13154 [00:00<00:00, 41562.39rows/s]\n",
      "Downloading: 100%|██████████| 13013/13013 [00:00<00:00, 35152.14rows/s]\n",
      "Downloading: 100%|██████████| 13152/13152 [00:00<00:00, 30371.40rows/s]\n",
      "Downloading: 100%|██████████| 13281/13281 [00:00<00:00, 49302.48rows/s]\n",
      "Downloading: 100%|██████████| 13007/13007 [00:00<00:00, 30147.72rows/s]\n",
      "Downloading: 100%|██████████| 13130/13130 [00:00<00:00, 36120.54rows/s]\n",
      "Downloading: 100%|██████████| 13038/13038 [00:00<00:00, 32368.09rows/s]\n",
      "Downloading: 100%|██████████| 13029/13029 [00:00<00:00, 37172.95rows/s]\n",
      "Downloading: 100%|██████████| 12954/12954 [00:00<00:00, 30394.88rows/s]\n",
      "Downloading: 100%|██████████| 29409/29409 [00:00<00:00, 37430.65rows/s]\n",
      "Downloading: 100%|██████████| 29203/29203 [00:00<00:00, 35618.92rows/s]\n",
      "Downloading: 100%|██████████| 29575/29575 [00:01<00:00, 26670.21rows/s]\n",
      "Downloading: 100%|██████████| 29445/29445 [00:00<00:00, 37833.19rows/s]\n",
      "Downloading: 100%|██████████| 29454/29454 [00:00<00:00, 34274.14rows/s]\n",
      "Downloading: 100%|██████████| 29174/29174 [00:00<00:00, 31553.31rows/s]\n",
      "Downloading: 100%|██████████| 29474/29474 [00:00<00:00, 34579.76rows/s]\n",
      "Downloading: 100%|██████████| 29867/29867 [00:00<00:00, 30107.88rows/s]\n",
      "Downloading: 100%|██████████| 29435/29435 [00:00<00:00, 39496.56rows/s]\n",
      "Downloading: 100%|██████████| 29594/29594 [00:00<00:00, 36914.02rows/s]\n",
      "Downloading: 100%|██████████| 249199/249199 [00:04<00:00, 60850.26rows/s]\n",
      "Downloading: 100%|██████████| 249970/249970 [00:03<00:00, 63768.45rows/s]\n",
      "Downloading: 100%|██████████| 248893/248893 [00:03<00:00, 66995.64rows/s]\n",
      "Downloading: 100%|██████████| 249529/249529 [00:03<00:00, 66145.71rows/s]\n",
      "Downloading: 100%|██████████| 249972/249972 [00:03<00:00, 63284.47rows/s]\n",
      "Downloading: 100%|██████████| 249352/249352 [00:03<00:00, 69045.59rows/s]\n",
      "Downloading: 100%|██████████| 249959/249959 [00:04<00:00, 57882.60rows/s]\n",
      "Downloading: 100%|██████████| 249407/249407 [00:03<00:00, 64814.70rows/s]\n",
      "Downloading: 100%|██████████| 249540/249540 [00:03<00:00, 63090.58rows/s]\n",
      "Downloading: 100%|██████████| 250892/250892 [00:03<00:00, 70485.62rows/s]\n"
     ]
    }
   ],
   "source": [
    "if not os.path.exists(f'{product}_push_merchants_in_application.csv'):\n",
    "    swipe_push_merchants_in_application = push_merchant_in_application_7d(task_id = task_id,order_date = order_date,table = table, status = status)\n",
    "    swipe_push_merchants_in_application.to_csv(f'{product}_push_merchants_in_application.csv', index = False)\n",
    "\n",
    "if not os.path.exists(f'{product}_total_push_merchants.csv'):\n",
    "    swipe_tot_push_merchants = total_push_merchants(task_id = task_id)\n",
    "    swipe_tot_push_merchants.to_csv(f'{product}_total_push_merchants.csv', index = False)\n",
    "\n",
    "if not os.path.exists(f'{product}_total_application_merchants.csv'):\n",
    "    swipe_tot_app_merchants = total_applications(table = table, status = status)\n",
    "    swipe_tot_app_merchants.to_csv(f'{product}_total_application_merchants.csv', index = False)\n",
    "\n",
    "if not os.path.exists(f'{product}_merchant_data_mart.csv'):\n",
    "    swipe_merchant_data_mart = merchant_data(task_id = task_id,table = table, status = status)\n",
    "    swipe_merchant_data_mart.to_csv(f'{product}_merchant_data_mart.csv', index = False)\n",
    "\n",
    "if not os.path.exists(f'trxn_{product}.csv'):\n",
    "    trxn_swipe = trx_data(task_id = task_id,order_date = order_date,table = table, status = status)\n",
    "    trxn_swipe.to_csv(f'trxn_{product}.csv', index = False)\n",
    "\n",
    "if not os.path.exists(f'app_{product}.csv'):\n",
    "    df1 = app_sessions(start_date = \"2020-01-01\", end_date = \"2021-01-01\",task_id = task_id,order_date = order_date,table = table,events = events, status = status)\n",
    "    df2 = app_sessions(start_date = \"2021-01-01\", end_date = \"2022-01-01\",task_id = task_id,order_date = order_date,table = table,events = events, status = status)\n",
    "    df3 = app_sessions(start_date = \"2022-01-01\", end_date = \"2023-01-01\",task_id = task_id,order_date = order_date,table = table,events = events, status = status)\n",
    "    df = pd.concat([df1,df2,df3], axis=0)\n",
    "    app_swipe = df.groupby(['merchant_id'])[['w1_sessions','m1_sessions']].sum().reset_index()\n",
    "    app_swipe.to_csv(f'app_{product}.csv', index = False)\n",
    "    \n",
    "if not os.path.exists(f'{product}_vin.csv'):\n",
    "    swipe_push_merchants_in_application = tot_vintage(task_id = task_id,order_date = order_date, table = table, status= status)\n",
    "    swipe_push_merchants_in_application.to_csv(f'{product}_vin.csv', index = False)"
   ]
  },
  {
   "cell_type": "code",
   "execution_count": 11,
   "id": "ba19f74d-bed0-45ae-939b-b18463910565",
   "metadata": {},
   "outputs": [
    {
     "name": "stdout",
     "output_type": "stream",
     "text": [
      "Table : easy_loan.lending_application \n",
      "Task_ID : (18, 21, 22, -1) \n",
      "Product : loan  \n",
      "date : agreement_at \n",
      "event : ('Loan_Enter_Pan_Page', 'Loan_Eligible_Page', 'Loan_Agreement_Page', 'Loan_Enach_Page', 'loans', 'loan', 'credit-score')\n"
     ]
    }
   ],
   "source": [
    "print(f\"Table : {table} \\nTask_ID : {task_id} \\nProduct : {product}  \\ndate : {order_date} \\nevent : {events}\")"
   ]
  },
  {
   "cell_type": "code",
   "execution_count": 12,
   "id": "81aac157-de2d-4806-b42d-0cb309f4562c",
   "metadata": {},
   "outputs": [],
   "source": [
    "##### club\n",
    "product = \"club\"\n",
    "events = ('bharatpe_club','club_home_screen_visited','club_benefits_screen_pay')\n",
    "task_id = (30, -1)\n",
    "order_date = \"created_at\"\n",
    "table = \"BP_CLUB.bharatpe_club_application\"\n",
    "status = ('ACTIVE','INIT','INIT ')"
   ]
  },
  {
   "cell_type": "code",
   "execution_count": 13,
   "id": "324222cd-960a-4ac7-84f8-7b34127a53fb",
   "metadata": {},
   "outputs": [
    {
     "name": "stderr",
     "output_type": "stream",
     "text": [
      "Downloading: 100%|██████████| 50250/50250 [00:00<00:00, 82240.65rows/s]\n",
      "Downloading: 100%|██████████| 168419/168419 [00:01<00:00, 87763.59rows/s]\n",
      "Downloading: 100%|██████████| 818119/818119 [00:08<00:00, 101626.08rows/s]\n",
      "Downloading: 100%|██████████| 90538/90538 [00:19<00:00, 4639.34rows/s]\n",
      "Downloading: 100%|██████████| 90859/90859 [00:17<00:00, 5064.43rows/s]\n",
      "Downloading: 100%|██████████| 90689/90689 [00:18<00:00, 4872.17rows/s]\n",
      "Downloading:  79%|███████▉  | 71185/90113 [00:14<00:03, 4946.91rows/s]"
     ]
    },
    {
     "ename": "KeyboardInterrupt",
     "evalue": "",
     "output_type": "error",
     "traceback": [
      "\u001b[0;31m---------------------------------------------------------------------------\u001b[0m",
      "\u001b[0;31mKeyboardInterrupt\u001b[0m                         Traceback (most recent call last)",
      "\u001b[0;32m/tmp/ipykernel_1371/1348846180.py\u001b[0m in \u001b[0;36m<module>\u001b[0;34m\u001b[0m\n\u001b[1;32m     12\u001b[0m \u001b[0;34m\u001b[0m\u001b[0m\n\u001b[1;32m     13\u001b[0m \u001b[0;32mif\u001b[0m \u001b[0;32mnot\u001b[0m \u001b[0mos\u001b[0m\u001b[0;34m.\u001b[0m\u001b[0mpath\u001b[0m\u001b[0;34m.\u001b[0m\u001b[0mexists\u001b[0m\u001b[0;34m(\u001b[0m\u001b[0;34mf'{product}_merchant_data_mart.csv'\u001b[0m\u001b[0;34m)\u001b[0m\u001b[0;34m:\u001b[0m\u001b[0;34m\u001b[0m\u001b[0;34m\u001b[0m\u001b[0m\n\u001b[0;32m---> 14\u001b[0;31m     \u001b[0mswipe_merchant_data_mart\u001b[0m \u001b[0;34m=\u001b[0m \u001b[0mmerchant_data\u001b[0m\u001b[0;34m(\u001b[0m\u001b[0mtask_id\u001b[0m \u001b[0;34m=\u001b[0m \u001b[0mtask_id\u001b[0m\u001b[0;34m,\u001b[0m\u001b[0mtable\u001b[0m \u001b[0;34m=\u001b[0m \u001b[0mtable\u001b[0m\u001b[0;34m,\u001b[0m \u001b[0mstatus\u001b[0m \u001b[0;34m=\u001b[0m \u001b[0mstatus\u001b[0m\u001b[0;34m)\u001b[0m\u001b[0;34m\u001b[0m\u001b[0;34m\u001b[0m\u001b[0m\n\u001b[0m\u001b[1;32m     15\u001b[0m     \u001b[0mswipe_merchant_data_mart\u001b[0m\u001b[0;34m.\u001b[0m\u001b[0mto_csv\u001b[0m\u001b[0;34m(\u001b[0m\u001b[0;34mf'{product}_merchant_data_mart.csv'\u001b[0m\u001b[0;34m,\u001b[0m \u001b[0mindex\u001b[0m \u001b[0;34m=\u001b[0m \u001b[0;32mFalse\u001b[0m\u001b[0;34m)\u001b[0m\u001b[0;34m\u001b[0m\u001b[0;34m\u001b[0m\u001b[0m\n\u001b[1;32m     16\u001b[0m \u001b[0;34m\u001b[0m\u001b[0m\n",
      "\u001b[0;32m~/query_V1.py\u001b[0m in \u001b[0;36mmerchant_data\u001b[0;34m(partitions, task_id, table, status)\u001b[0m\n\u001b[1;32m    182\u001b[0m         \u001b[0mmerchant_id\u001b[0m\u001b[0;34m\u001b[0m\u001b[0;34m\u001b[0m\u001b[0m\n\u001b[1;32m    183\u001b[0m         \"\"\"\n\u001b[0;32m--> 184\u001b[0;31m         \u001b[0md\u001b[0m\u001b[0;34m[\u001b[0m\u001b[0mi\u001b[0m\u001b[0;34m]\u001b[0m \u001b[0;34m=\u001b[0m \u001b[0mpandas_gbq\u001b[0m\u001b[0;34m.\u001b[0m\u001b[0mread_gbq\u001b[0m\u001b[0;34m(\u001b[0m\u001b[0mmerchant_data_mart_query\u001b[0m\u001b[0;34m)\u001b[0m\u001b[0;34m\u001b[0m\u001b[0;34m\u001b[0m\u001b[0m\n\u001b[0m\u001b[1;32m    185\u001b[0m     \u001b[0mtemp\u001b[0m \u001b[0;34m=\u001b[0m \u001b[0mpd\u001b[0m\u001b[0;34m.\u001b[0m\u001b[0mconcat\u001b[0m\u001b[0;34m(\u001b[0m\u001b[0;34m[\u001b[0m\u001b[0md\u001b[0m\u001b[0;34m[\u001b[0m\u001b[0mk\u001b[0m\u001b[0;34m]\u001b[0m \u001b[0;32mfor\u001b[0m \u001b[0mk\u001b[0m \u001b[0;32min\u001b[0m \u001b[0md\u001b[0m\u001b[0;34m.\u001b[0m\u001b[0mkeys\u001b[0m\u001b[0;34m(\u001b[0m\u001b[0;34m)\u001b[0m\u001b[0;34m]\u001b[0m\u001b[0;34m,\u001b[0m \u001b[0maxis\u001b[0m \u001b[0;34m=\u001b[0m \u001b[0;36m0\u001b[0m\u001b[0;34m)\u001b[0m\u001b[0;34m.\u001b[0m\u001b[0mreset_index\u001b[0m\u001b[0;34m(\u001b[0m\u001b[0mdrop\u001b[0m \u001b[0;34m=\u001b[0m \u001b[0;32mTrue\u001b[0m\u001b[0;34m)\u001b[0m\u001b[0;34m\u001b[0m\u001b[0;34m\u001b[0m\u001b[0m\n\u001b[1;32m    186\u001b[0m     \u001b[0;32mreturn\u001b[0m \u001b[0mtemp\u001b[0m\u001b[0;34m\u001b[0m\u001b[0;34m\u001b[0m\u001b[0m\n",
      "\u001b[0;32m/opt/conda/lib/python3.7/site-packages/pandas_gbq/gbq.py\u001b[0m in \u001b[0;36mread_gbq\u001b[0;34m(query_or_table, project_id, index_col, col_order, reauth, auth_local_webserver, dialect, location, configuration, credentials, use_bqstorage_api, max_results, verbose, private_key, progress_bar_type, dtypes)\u001b[0m\n\u001b[1;32m    924\u001b[0m             \u001b[0mmax_results\u001b[0m\u001b[0;34m=\u001b[0m\u001b[0mmax_results\u001b[0m\u001b[0;34m,\u001b[0m\u001b[0;34m\u001b[0m\u001b[0;34m\u001b[0m\u001b[0m\n\u001b[1;32m    925\u001b[0m             \u001b[0mprogress_bar_type\u001b[0m\u001b[0;34m=\u001b[0m\u001b[0mprogress_bar_type\u001b[0m\u001b[0;34m,\u001b[0m\u001b[0;34m\u001b[0m\u001b[0;34m\u001b[0m\u001b[0m\n\u001b[0;32m--> 926\u001b[0;31m             \u001b[0mdtypes\u001b[0m\u001b[0;34m=\u001b[0m\u001b[0mdtypes\u001b[0m\u001b[0;34m,\u001b[0m\u001b[0;34m\u001b[0m\u001b[0;34m\u001b[0m\u001b[0m\n\u001b[0m\u001b[1;32m    927\u001b[0m         )\n\u001b[1;32m    928\u001b[0m     \u001b[0;32melse\u001b[0m\u001b[0;34m:\u001b[0m\u001b[0;34m\u001b[0m\u001b[0;34m\u001b[0m\u001b[0m\n",
      "\u001b[0;32m/opt/conda/lib/python3.7/site-packages/pandas_gbq/gbq.py\u001b[0m in \u001b[0;36mrun_query\u001b[0;34m(self, query, max_results, progress_bar_type, **kwargs)\u001b[0m\n\u001b[1;32m    531\u001b[0m             \u001b[0mmax_results\u001b[0m\u001b[0;34m=\u001b[0m\u001b[0mmax_results\u001b[0m\u001b[0;34m,\u001b[0m\u001b[0;34m\u001b[0m\u001b[0;34m\u001b[0m\u001b[0m\n\u001b[1;32m    532\u001b[0m             \u001b[0mprogress_bar_type\u001b[0m\u001b[0;34m=\u001b[0m\u001b[0mprogress_bar_type\u001b[0m\u001b[0;34m,\u001b[0m\u001b[0;34m\u001b[0m\u001b[0;34m\u001b[0m\u001b[0m\n\u001b[0;32m--> 533\u001b[0;31m             \u001b[0muser_dtypes\u001b[0m\u001b[0;34m=\u001b[0m\u001b[0mdtypes\u001b[0m\u001b[0;34m,\u001b[0m\u001b[0;34m\u001b[0m\u001b[0;34m\u001b[0m\u001b[0m\n\u001b[0m\u001b[1;32m    534\u001b[0m         )\n\u001b[1;32m    535\u001b[0m \u001b[0;34m\u001b[0m\u001b[0m\n",
      "\u001b[0;32m/opt/conda/lib/python3.7/site-packages/pandas_gbq/gbq.py\u001b[0m in \u001b[0;36m_download_results\u001b[0;34m(self, rows_iter, max_results, progress_bar_type, user_dtypes)\u001b[0m\n\u001b[1;32m    564\u001b[0m                 \u001b[0mprogress_bar_type\u001b[0m\u001b[0;34m=\u001b[0m\u001b[0mprogress_bar_type\u001b[0m\u001b[0;34m,\u001b[0m\u001b[0;34m\u001b[0m\u001b[0;34m\u001b[0m\u001b[0m\n\u001b[1;32m    565\u001b[0m                 \u001b[0mcreate_bqstorage_client\u001b[0m\u001b[0;34m=\u001b[0m\u001b[0mcreate_bqstorage_client\u001b[0m\u001b[0;34m,\u001b[0m\u001b[0;34m\u001b[0m\u001b[0;34m\u001b[0m\u001b[0m\n\u001b[0;32m--> 566\u001b[0;31m                 \u001b[0;34m**\u001b[0m\u001b[0mto_dataframe_kwargs\u001b[0m\u001b[0;34m,\u001b[0m\u001b[0;34m\u001b[0m\u001b[0;34m\u001b[0m\u001b[0m\n\u001b[0m\u001b[1;32m    567\u001b[0m             )\n\u001b[1;32m    568\u001b[0m         \u001b[0;32mexcept\u001b[0m \u001b[0mself\u001b[0m\u001b[0;34m.\u001b[0m\u001b[0mhttp_error\u001b[0m \u001b[0;32mas\u001b[0m \u001b[0mex\u001b[0m\u001b[0;34m:\u001b[0m\u001b[0;34m\u001b[0m\u001b[0;34m\u001b[0m\u001b[0m\n",
      "\u001b[0;32m/opt/conda/lib/python3.7/site-packages/google/cloud/bigquery/table.py\u001b[0m in \u001b[0;36mto_dataframe\u001b[0;34m(self, bqstorage_client, dtypes, progress_bar_type, create_bqstorage_client, date_as_object, geography_as_object)\u001b[0m\n\u001b[1;32m   1986\u001b[0m             \u001b[0mprogress_bar_type\u001b[0m\u001b[0;34m=\u001b[0m\u001b[0mprogress_bar_type\u001b[0m\u001b[0;34m,\u001b[0m\u001b[0;34m\u001b[0m\u001b[0;34m\u001b[0m\u001b[0m\n\u001b[1;32m   1987\u001b[0m             \u001b[0mbqstorage_client\u001b[0m\u001b[0;34m=\u001b[0m\u001b[0mbqstorage_client\u001b[0m\u001b[0;34m,\u001b[0m\u001b[0;34m\u001b[0m\u001b[0;34m\u001b[0m\u001b[0m\n\u001b[0;32m-> 1988\u001b[0;31m             \u001b[0mcreate_bqstorage_client\u001b[0m\u001b[0;34m=\u001b[0m\u001b[0mcreate_bqstorage_client\u001b[0m\u001b[0;34m,\u001b[0m\u001b[0;34m\u001b[0m\u001b[0;34m\u001b[0m\u001b[0m\n\u001b[0m\u001b[1;32m   1989\u001b[0m         )\n\u001b[1;32m   1990\u001b[0m \u001b[0;34m\u001b[0m\u001b[0m\n",
      "\u001b[0;32m/opt/conda/lib/python3.7/site-packages/google/cloud/bigquery/table.py\u001b[0m in \u001b[0;36mto_arrow\u001b[0;34m(self, progress_bar_type, bqstorage_client, create_bqstorage_client)\u001b[0m\n\u001b[1;32m   1778\u001b[0m             \u001b[0mrecord_batches\u001b[0m \u001b[0;34m=\u001b[0m \u001b[0;34m[\u001b[0m\u001b[0;34m]\u001b[0m\u001b[0;34m\u001b[0m\u001b[0;34m\u001b[0m\u001b[0m\n\u001b[1;32m   1779\u001b[0m             for record_batch in self.to_arrow_iterable(\n\u001b[0;32m-> 1780\u001b[0;31m                 \u001b[0mbqstorage_client\u001b[0m\u001b[0;34m=\u001b[0m\u001b[0mbqstorage_client\u001b[0m\u001b[0;34m\u001b[0m\u001b[0;34m\u001b[0m\u001b[0m\n\u001b[0m\u001b[1;32m   1781\u001b[0m             ):\n\u001b[1;32m   1782\u001b[0m                 \u001b[0mrecord_batches\u001b[0m\u001b[0;34m.\u001b[0m\u001b[0mappend\u001b[0m\u001b[0;34m(\u001b[0m\u001b[0mrecord_batch\u001b[0m\u001b[0;34m)\u001b[0m\u001b[0;34m\u001b[0m\u001b[0;34m\u001b[0m\u001b[0m\n",
      "\u001b[0;32m/opt/conda/lib/python3.7/site-packages/google/cloud/bigquery/table.py\u001b[0m in \u001b[0;36m_to_page_iterable\u001b[0;34m(self, bqstorage_download, tabledata_list_download, bqstorage_client)\u001b[0m\n\u001b[1;32m   1633\u001b[0m             \u001b[0;32melse\u001b[0m \u001b[0mtabledata_list_download\u001b[0m\u001b[0;34m(\u001b[0m\u001b[0;34m)\u001b[0m\u001b[0;34m\u001b[0m\u001b[0;34m\u001b[0m\u001b[0m\n\u001b[1;32m   1634\u001b[0m         )\n\u001b[0;32m-> 1635\u001b[0;31m         \u001b[0;32myield\u001b[0m \u001b[0;32mfrom\u001b[0m \u001b[0mresult_pages\u001b[0m\u001b[0;34m\u001b[0m\u001b[0;34m\u001b[0m\u001b[0m\n\u001b[0m\u001b[1;32m   1636\u001b[0m \u001b[0;34m\u001b[0m\u001b[0m\n\u001b[1;32m   1637\u001b[0m     def to_arrow_iterable(\n",
      "\u001b[0;32m/opt/conda/lib/python3.7/site-packages/google/cloud/bigquery/_pandas_helpers.py\u001b[0m in \u001b[0;36mdownload_arrow_row_iterator\u001b[0;34m(pages, bq_schema)\u001b[0m\n\u001b[1;32m    628\u001b[0m     \u001b[0marrow_types\u001b[0m \u001b[0;34m=\u001b[0m \u001b[0;34m[\u001b[0m\u001b[0mbq_to_arrow_data_type\u001b[0m\u001b[0;34m(\u001b[0m\u001b[0mfield\u001b[0m\u001b[0;34m)\u001b[0m \u001b[0;32mfor\u001b[0m \u001b[0mfield\u001b[0m \u001b[0;32min\u001b[0m \u001b[0mbq_schema\u001b[0m\u001b[0;34m]\u001b[0m\u001b[0;34m\u001b[0m\u001b[0;34m\u001b[0m\u001b[0m\n\u001b[1;32m    629\u001b[0m \u001b[0;34m\u001b[0m\u001b[0m\n\u001b[0;32m--> 630\u001b[0;31m     \u001b[0;32mfor\u001b[0m \u001b[0mpage\u001b[0m \u001b[0;32min\u001b[0m \u001b[0mpages\u001b[0m\u001b[0;34m:\u001b[0m\u001b[0;34m\u001b[0m\u001b[0;34m\u001b[0m\u001b[0m\n\u001b[0m\u001b[1;32m    631\u001b[0m         \u001b[0;32myield\u001b[0m \u001b[0m_row_iterator_page_to_arrow\u001b[0m\u001b[0;34m(\u001b[0m\u001b[0mpage\u001b[0m\u001b[0;34m,\u001b[0m \u001b[0mcolumn_names\u001b[0m\u001b[0;34m,\u001b[0m \u001b[0marrow_types\u001b[0m\u001b[0;34m)\u001b[0m\u001b[0;34m\u001b[0m\u001b[0;34m\u001b[0m\u001b[0m\n\u001b[1;32m    632\u001b[0m \u001b[0;34m\u001b[0m\u001b[0m\n",
      "\u001b[0;32m/opt/conda/lib/python3.7/site-packages/google/api_core/page_iterator.py\u001b[0m in \u001b[0;36m_page_iter\u001b[0;34m(self, increment)\u001b[0m\n\u001b[1;32m    248\u001b[0m                 \u001b[0mself\u001b[0m\u001b[0;34m.\u001b[0m\u001b[0mnum_results\u001b[0m \u001b[0;34m+=\u001b[0m \u001b[0mpage\u001b[0m\u001b[0;34m.\u001b[0m\u001b[0mnum_items\u001b[0m\u001b[0;34m\u001b[0m\u001b[0;34m\u001b[0m\u001b[0m\n\u001b[1;32m    249\u001b[0m             \u001b[0;32myield\u001b[0m \u001b[0mpage\u001b[0m\u001b[0;34m\u001b[0m\u001b[0;34m\u001b[0m\u001b[0m\n\u001b[0;32m--> 250\u001b[0;31m             \u001b[0mpage\u001b[0m \u001b[0;34m=\u001b[0m \u001b[0mself\u001b[0m\u001b[0;34m.\u001b[0m\u001b[0m_next_page\u001b[0m\u001b[0;34m(\u001b[0m\u001b[0;34m)\u001b[0m\u001b[0;34m\u001b[0m\u001b[0;34m\u001b[0m\u001b[0m\n\u001b[0m\u001b[1;32m    251\u001b[0m \u001b[0;34m\u001b[0m\u001b[0m\n\u001b[1;32m    252\u001b[0m     \u001b[0;34m@\u001b[0m\u001b[0mabc\u001b[0m\u001b[0;34m.\u001b[0m\u001b[0mabstractmethod\u001b[0m\u001b[0;34m\u001b[0m\u001b[0;34m\u001b[0m\u001b[0m\n",
      "\u001b[0;32m/opt/conda/lib/python3.7/site-packages/google/api_core/page_iterator.py\u001b[0m in \u001b[0;36m_next_page\u001b[0;34m(self)\u001b[0m\n\u001b[1;32m    371\u001b[0m         \"\"\"\n\u001b[1;32m    372\u001b[0m         \u001b[0;32mif\u001b[0m \u001b[0mself\u001b[0m\u001b[0;34m.\u001b[0m\u001b[0m_has_next_page\u001b[0m\u001b[0;34m(\u001b[0m\u001b[0;34m)\u001b[0m\u001b[0;34m:\u001b[0m\u001b[0;34m\u001b[0m\u001b[0;34m\u001b[0m\u001b[0m\n\u001b[0;32m--> 373\u001b[0;31m             \u001b[0mresponse\u001b[0m \u001b[0;34m=\u001b[0m \u001b[0mself\u001b[0m\u001b[0;34m.\u001b[0m\u001b[0m_get_next_page_response\u001b[0m\u001b[0;34m(\u001b[0m\u001b[0;34m)\u001b[0m\u001b[0;34m\u001b[0m\u001b[0;34m\u001b[0m\u001b[0m\n\u001b[0m\u001b[1;32m    374\u001b[0m             \u001b[0mitems\u001b[0m \u001b[0;34m=\u001b[0m \u001b[0mresponse\u001b[0m\u001b[0;34m.\u001b[0m\u001b[0mget\u001b[0m\u001b[0;34m(\u001b[0m\u001b[0mself\u001b[0m\u001b[0;34m.\u001b[0m\u001b[0m_items_key\u001b[0m\u001b[0;34m,\u001b[0m \u001b[0;34m(\u001b[0m\u001b[0;34m)\u001b[0m\u001b[0;34m)\u001b[0m\u001b[0;34m\u001b[0m\u001b[0;34m\u001b[0m\u001b[0m\n\u001b[1;32m    375\u001b[0m             \u001b[0mpage\u001b[0m \u001b[0;34m=\u001b[0m \u001b[0mPage\u001b[0m\u001b[0;34m(\u001b[0m\u001b[0mself\u001b[0m\u001b[0;34m,\u001b[0m \u001b[0mitems\u001b[0m\u001b[0;34m,\u001b[0m \u001b[0mself\u001b[0m\u001b[0;34m.\u001b[0m\u001b[0mitem_to_value\u001b[0m\u001b[0;34m,\u001b[0m \u001b[0mraw_page\u001b[0m\u001b[0;34m=\u001b[0m\u001b[0mresponse\u001b[0m\u001b[0;34m)\u001b[0m\u001b[0;34m\u001b[0m\u001b[0;34m\u001b[0m\u001b[0m\n",
      "\u001b[0;32m/opt/conda/lib/python3.7/site-packages/google/cloud/bigquery/table.py\u001b[0m in \u001b[0;36m_get_next_page_response\u001b[0;34m(self)\u001b[0m\n\u001b[1;32m   1588\u001b[0m             \u001b[0mparams\u001b[0m\u001b[0;34m[\u001b[0m\u001b[0;34m\"maxResults\"\u001b[0m\u001b[0;34m]\u001b[0m \u001b[0;34m=\u001b[0m \u001b[0mself\u001b[0m\u001b[0;34m.\u001b[0m\u001b[0m_page_size\u001b[0m\u001b[0;34m\u001b[0m\u001b[0;34m\u001b[0m\u001b[0m\n\u001b[1;32m   1589\u001b[0m         return self.api_request(\n\u001b[0;32m-> 1590\u001b[0;31m             \u001b[0mmethod\u001b[0m\u001b[0;34m=\u001b[0m\u001b[0mself\u001b[0m\u001b[0;34m.\u001b[0m\u001b[0m_HTTP_METHOD\u001b[0m\u001b[0;34m,\u001b[0m \u001b[0mpath\u001b[0m\u001b[0;34m=\u001b[0m\u001b[0mself\u001b[0m\u001b[0;34m.\u001b[0m\u001b[0mpath\u001b[0m\u001b[0;34m,\u001b[0m \u001b[0mquery_params\u001b[0m\u001b[0;34m=\u001b[0m\u001b[0mparams\u001b[0m\u001b[0;34m\u001b[0m\u001b[0;34m\u001b[0m\u001b[0m\n\u001b[0m\u001b[1;32m   1591\u001b[0m         )\n\u001b[1;32m   1592\u001b[0m \u001b[0;34m\u001b[0m\u001b[0m\n",
      "\u001b[0;32m/opt/conda/lib/python3.7/site-packages/google/cloud/bigquery/client.py\u001b[0m in \u001b[0;36m_call_api\u001b[0;34m(self, retry, span_name, span_attributes, job_ref, headers, **kwargs)\u001b[0m\n\u001b[1;32m    782\u001b[0m                 \u001b[0;32mreturn\u001b[0m \u001b[0mcall\u001b[0m\u001b[0;34m(\u001b[0m\u001b[0;34m)\u001b[0m\u001b[0;34m\u001b[0m\u001b[0;34m\u001b[0m\u001b[0m\n\u001b[1;32m    783\u001b[0m \u001b[0;34m\u001b[0m\u001b[0m\n\u001b[0;32m--> 784\u001b[0;31m         \u001b[0;32mreturn\u001b[0m \u001b[0mcall\u001b[0m\u001b[0;34m(\u001b[0m\u001b[0;34m)\u001b[0m\u001b[0;34m\u001b[0m\u001b[0;34m\u001b[0m\u001b[0m\n\u001b[0m\u001b[1;32m    785\u001b[0m \u001b[0;34m\u001b[0m\u001b[0m\n\u001b[1;32m    786\u001b[0m     def get_dataset(\n",
      "\u001b[0;32m/opt/conda/lib/python3.7/site-packages/google/api_core/retry.py\u001b[0m in \u001b[0;36mretry_wrapped_func\u001b[0;34m(*args, **kwargs)\u001b[0m\n\u001b[1;32m    286\u001b[0m                 \u001b[0msleep_generator\u001b[0m\u001b[0;34m,\u001b[0m\u001b[0;34m\u001b[0m\u001b[0;34m\u001b[0m\u001b[0m\n\u001b[1;32m    287\u001b[0m                 \u001b[0mself\u001b[0m\u001b[0;34m.\u001b[0m\u001b[0m_deadline\u001b[0m\u001b[0;34m,\u001b[0m\u001b[0;34m\u001b[0m\u001b[0;34m\u001b[0m\u001b[0m\n\u001b[0;32m--> 288\u001b[0;31m                 \u001b[0mon_error\u001b[0m\u001b[0;34m=\u001b[0m\u001b[0mon_error\u001b[0m\u001b[0;34m,\u001b[0m\u001b[0;34m\u001b[0m\u001b[0;34m\u001b[0m\u001b[0m\n\u001b[0m\u001b[1;32m    289\u001b[0m             )\n\u001b[1;32m    290\u001b[0m \u001b[0;34m\u001b[0m\u001b[0m\n",
      "\u001b[0;32m/opt/conda/lib/python3.7/site-packages/google/api_core/retry.py\u001b[0m in \u001b[0;36mretry_target\u001b[0;34m(target, predicate, sleep_generator, deadline, on_error)\u001b[0m\n\u001b[1;32m    188\u001b[0m     \u001b[0;32mfor\u001b[0m \u001b[0msleep\u001b[0m \u001b[0;32min\u001b[0m \u001b[0msleep_generator\u001b[0m\u001b[0;34m:\u001b[0m\u001b[0;34m\u001b[0m\u001b[0;34m\u001b[0m\u001b[0m\n\u001b[1;32m    189\u001b[0m         \u001b[0;32mtry\u001b[0m\u001b[0;34m:\u001b[0m\u001b[0;34m\u001b[0m\u001b[0;34m\u001b[0m\u001b[0m\n\u001b[0;32m--> 190\u001b[0;31m             \u001b[0;32mreturn\u001b[0m \u001b[0mtarget\u001b[0m\u001b[0;34m(\u001b[0m\u001b[0;34m)\u001b[0m\u001b[0;34m\u001b[0m\u001b[0;34m\u001b[0m\u001b[0m\n\u001b[0m\u001b[1;32m    191\u001b[0m \u001b[0;34m\u001b[0m\u001b[0m\n\u001b[1;32m    192\u001b[0m         \u001b[0;31m# pylint: disable=broad-except\u001b[0m\u001b[0;34m\u001b[0m\u001b[0;34m\u001b[0m\u001b[0;34m\u001b[0m\u001b[0m\n",
      "\u001b[0;32m/opt/conda/lib/python3.7/site-packages/google/cloud/_http/__init__.py\u001b[0m in \u001b[0;36mapi_request\u001b[0;34m(self, method, path, query_params, data, content_type, headers, api_base_url, api_version, expect_json, _target_object, timeout, extra_api_info)\u001b[0m\n\u001b[1;32m    488\u001b[0m             \u001b[0mtarget_object\u001b[0m\u001b[0;34m=\u001b[0m\u001b[0m_target_object\u001b[0m\u001b[0;34m,\u001b[0m\u001b[0;34m\u001b[0m\u001b[0;34m\u001b[0m\u001b[0m\n\u001b[1;32m    489\u001b[0m             \u001b[0mtimeout\u001b[0m\u001b[0;34m=\u001b[0m\u001b[0mtimeout\u001b[0m\u001b[0;34m,\u001b[0m\u001b[0;34m\u001b[0m\u001b[0;34m\u001b[0m\u001b[0m\n\u001b[0;32m--> 490\u001b[0;31m             \u001b[0mextra_api_info\u001b[0m\u001b[0;34m=\u001b[0m\u001b[0mextra_api_info\u001b[0m\u001b[0;34m,\u001b[0m\u001b[0;34m\u001b[0m\u001b[0;34m\u001b[0m\u001b[0m\n\u001b[0m\u001b[1;32m    491\u001b[0m         )\n\u001b[1;32m    492\u001b[0m \u001b[0;34m\u001b[0m\u001b[0m\n",
      "\u001b[0;32m/opt/conda/lib/python3.7/site-packages/google/cloud/_http/__init__.py\u001b[0m in \u001b[0;36m_make_request\u001b[0;34m(self, method, url, data, content_type, headers, target_object, timeout, extra_api_info)\u001b[0m\n\u001b[1;32m    340\u001b[0m \u001b[0;34m\u001b[0m\u001b[0m\n\u001b[1;32m    341\u001b[0m         return self._do_request(\n\u001b[0;32m--> 342\u001b[0;31m             \u001b[0mmethod\u001b[0m\u001b[0;34m,\u001b[0m \u001b[0murl\u001b[0m\u001b[0;34m,\u001b[0m \u001b[0mheaders\u001b[0m\u001b[0;34m,\u001b[0m \u001b[0mdata\u001b[0m\u001b[0;34m,\u001b[0m \u001b[0mtarget_object\u001b[0m\u001b[0;34m,\u001b[0m \u001b[0mtimeout\u001b[0m\u001b[0;34m=\u001b[0m\u001b[0mtimeout\u001b[0m\u001b[0;34m\u001b[0m\u001b[0;34m\u001b[0m\u001b[0m\n\u001b[0m\u001b[1;32m    343\u001b[0m         )\n\u001b[1;32m    344\u001b[0m \u001b[0;34m\u001b[0m\u001b[0m\n",
      "\u001b[0;32m/opt/conda/lib/python3.7/site-packages/google/cloud/_http/__init__.py\u001b[0m in \u001b[0;36m_do_request\u001b[0;34m(self, method, url, headers, data, target_object, timeout)\u001b[0m\n\u001b[1;32m    378\u001b[0m         \"\"\"\n\u001b[1;32m    379\u001b[0m         return self.http.request(\n\u001b[0;32m--> 380\u001b[0;31m             \u001b[0murl\u001b[0m\u001b[0;34m=\u001b[0m\u001b[0murl\u001b[0m\u001b[0;34m,\u001b[0m \u001b[0mmethod\u001b[0m\u001b[0;34m=\u001b[0m\u001b[0mmethod\u001b[0m\u001b[0;34m,\u001b[0m \u001b[0mheaders\u001b[0m\u001b[0;34m=\u001b[0m\u001b[0mheaders\u001b[0m\u001b[0;34m,\u001b[0m \u001b[0mdata\u001b[0m\u001b[0;34m=\u001b[0m\u001b[0mdata\u001b[0m\u001b[0;34m,\u001b[0m \u001b[0mtimeout\u001b[0m\u001b[0;34m=\u001b[0m\u001b[0mtimeout\u001b[0m\u001b[0;34m\u001b[0m\u001b[0;34m\u001b[0m\u001b[0m\n\u001b[0m\u001b[1;32m    381\u001b[0m         )\n\u001b[1;32m    382\u001b[0m \u001b[0;34m\u001b[0m\u001b[0m\n",
      "\u001b[0;32m/opt/conda/lib/python3.7/site-packages/google/auth/transport/requests.py\u001b[0m in \u001b[0;36mrequest\u001b[0;34m(self, method, url, data, headers, max_allowed_time, timeout, **kwargs)\u001b[0m\n\u001b[1;32m    553\u001b[0m                 \u001b[0mheaders\u001b[0m\u001b[0;34m=\u001b[0m\u001b[0mrequest_headers\u001b[0m\u001b[0;34m,\u001b[0m\u001b[0;34m\u001b[0m\u001b[0;34m\u001b[0m\u001b[0m\n\u001b[1;32m    554\u001b[0m                 \u001b[0mtimeout\u001b[0m\u001b[0;34m=\u001b[0m\u001b[0mtimeout\u001b[0m\u001b[0;34m,\u001b[0m\u001b[0;34m\u001b[0m\u001b[0;34m\u001b[0m\u001b[0m\n\u001b[0;32m--> 555\u001b[0;31m                 \u001b[0;34m**\u001b[0m\u001b[0mkwargs\u001b[0m\u001b[0;34m\u001b[0m\u001b[0;34m\u001b[0m\u001b[0m\n\u001b[0m\u001b[1;32m    556\u001b[0m             )\n\u001b[1;32m    557\u001b[0m         \u001b[0mremaining_time\u001b[0m \u001b[0;34m=\u001b[0m \u001b[0mguard\u001b[0m\u001b[0;34m.\u001b[0m\u001b[0mremaining_timeout\u001b[0m\u001b[0;34m\u001b[0m\u001b[0;34m\u001b[0m\u001b[0m\n",
      "\u001b[0;32m/opt/conda/lib/python3.7/site-packages/requests/sessions.py\u001b[0m in \u001b[0;36mrequest\u001b[0;34m(self, method, url, params, data, headers, cookies, files, auth, timeout, allow_redirects, proxies, hooks, stream, verify, cert, json)\u001b[0m\n\u001b[1;32m    585\u001b[0m         }\n\u001b[1;32m    586\u001b[0m         \u001b[0msend_kwargs\u001b[0m\u001b[0;34m.\u001b[0m\u001b[0mupdate\u001b[0m\u001b[0;34m(\u001b[0m\u001b[0msettings\u001b[0m\u001b[0;34m)\u001b[0m\u001b[0;34m\u001b[0m\u001b[0;34m\u001b[0m\u001b[0m\n\u001b[0;32m--> 587\u001b[0;31m         \u001b[0mresp\u001b[0m \u001b[0;34m=\u001b[0m \u001b[0mself\u001b[0m\u001b[0;34m.\u001b[0m\u001b[0msend\u001b[0m\u001b[0;34m(\u001b[0m\u001b[0mprep\u001b[0m\u001b[0;34m,\u001b[0m \u001b[0;34m**\u001b[0m\u001b[0msend_kwargs\u001b[0m\u001b[0;34m)\u001b[0m\u001b[0;34m\u001b[0m\u001b[0;34m\u001b[0m\u001b[0m\n\u001b[0m\u001b[1;32m    588\u001b[0m \u001b[0;34m\u001b[0m\u001b[0m\n\u001b[1;32m    589\u001b[0m         \u001b[0;32mreturn\u001b[0m \u001b[0mresp\u001b[0m\u001b[0;34m\u001b[0m\u001b[0;34m\u001b[0m\u001b[0m\n",
      "\u001b[0;32m/opt/conda/lib/python3.7/site-packages/requests/sessions.py\u001b[0m in \u001b[0;36msend\u001b[0;34m(self, request, **kwargs)\u001b[0m\n\u001b[1;32m    699\u001b[0m \u001b[0;34m\u001b[0m\u001b[0m\n\u001b[1;32m    700\u001b[0m         \u001b[0;31m# Send the request\u001b[0m\u001b[0;34m\u001b[0m\u001b[0;34m\u001b[0m\u001b[0;34m\u001b[0m\u001b[0m\n\u001b[0;32m--> 701\u001b[0;31m         \u001b[0mr\u001b[0m \u001b[0;34m=\u001b[0m \u001b[0madapter\u001b[0m\u001b[0;34m.\u001b[0m\u001b[0msend\u001b[0m\u001b[0;34m(\u001b[0m\u001b[0mrequest\u001b[0m\u001b[0;34m,\u001b[0m \u001b[0;34m**\u001b[0m\u001b[0mkwargs\u001b[0m\u001b[0;34m)\u001b[0m\u001b[0;34m\u001b[0m\u001b[0;34m\u001b[0m\u001b[0m\n\u001b[0m\u001b[1;32m    702\u001b[0m \u001b[0;34m\u001b[0m\u001b[0m\n\u001b[1;32m    703\u001b[0m         \u001b[0;31m# Total elapsed time of the request (approximately)\u001b[0m\u001b[0;34m\u001b[0m\u001b[0;34m\u001b[0m\u001b[0;34m\u001b[0m\u001b[0m\n",
      "\u001b[0;32m/opt/conda/lib/python3.7/site-packages/requests/adapters.py\u001b[0m in \u001b[0;36msend\u001b[0;34m(self, request, stream, timeout, verify, cert, proxies)\u001b[0m\n\u001b[1;32m    497\u001b[0m                     \u001b[0mdecode_content\u001b[0m\u001b[0;34m=\u001b[0m\u001b[0;32mFalse\u001b[0m\u001b[0;34m,\u001b[0m\u001b[0;34m\u001b[0m\u001b[0;34m\u001b[0m\u001b[0m\n\u001b[1;32m    498\u001b[0m                     \u001b[0mretries\u001b[0m\u001b[0;34m=\u001b[0m\u001b[0mself\u001b[0m\u001b[0;34m.\u001b[0m\u001b[0mmax_retries\u001b[0m\u001b[0;34m,\u001b[0m\u001b[0;34m\u001b[0m\u001b[0;34m\u001b[0m\u001b[0m\n\u001b[0;32m--> 499\u001b[0;31m                     \u001b[0mtimeout\u001b[0m\u001b[0;34m=\u001b[0m\u001b[0mtimeout\u001b[0m\u001b[0;34m,\u001b[0m\u001b[0;34m\u001b[0m\u001b[0;34m\u001b[0m\u001b[0m\n\u001b[0m\u001b[1;32m    500\u001b[0m                 )\n\u001b[1;32m    501\u001b[0m \u001b[0;34m\u001b[0m\u001b[0m\n",
      "\u001b[0;32m/opt/conda/lib/python3.7/site-packages/urllib3/connectionpool.py\u001b[0m in \u001b[0;36murlopen\u001b[0;34m(self, method, url, body, headers, retries, redirect, assert_same_host, timeout, pool_timeout, release_conn, chunked, body_pos, **response_kw)\u001b[0m\n\u001b[1;32m    708\u001b[0m                 \u001b[0mbody\u001b[0m\u001b[0;34m=\u001b[0m\u001b[0mbody\u001b[0m\u001b[0;34m,\u001b[0m\u001b[0;34m\u001b[0m\u001b[0;34m\u001b[0m\u001b[0m\n\u001b[1;32m    709\u001b[0m                 \u001b[0mheaders\u001b[0m\u001b[0;34m=\u001b[0m\u001b[0mheaders\u001b[0m\u001b[0;34m,\u001b[0m\u001b[0;34m\u001b[0m\u001b[0;34m\u001b[0m\u001b[0m\n\u001b[0;32m--> 710\u001b[0;31m                 \u001b[0mchunked\u001b[0m\u001b[0;34m=\u001b[0m\u001b[0mchunked\u001b[0m\u001b[0;34m,\u001b[0m\u001b[0;34m\u001b[0m\u001b[0;34m\u001b[0m\u001b[0m\n\u001b[0m\u001b[1;32m    711\u001b[0m             )\n\u001b[1;32m    712\u001b[0m \u001b[0;34m\u001b[0m\u001b[0m\n",
      "\u001b[0;32m/opt/conda/lib/python3.7/site-packages/urllib3/connectionpool.py\u001b[0m in \u001b[0;36m_make_request\u001b[0;34m(self, conn, method, url, timeout, chunked, **httplib_request_kw)\u001b[0m\n\u001b[1;32m    447\u001b[0m                     \u001b[0;31m# Python 3 (including for exceptions like SystemExit).\u001b[0m\u001b[0;34m\u001b[0m\u001b[0;34m\u001b[0m\u001b[0;34m\u001b[0m\u001b[0m\n\u001b[1;32m    448\u001b[0m                     \u001b[0;31m# Otherwise it looks like a bug in the code.\u001b[0m\u001b[0;34m\u001b[0m\u001b[0;34m\u001b[0m\u001b[0;34m\u001b[0m\u001b[0m\n\u001b[0;32m--> 449\u001b[0;31m                     \u001b[0msix\u001b[0m\u001b[0;34m.\u001b[0m\u001b[0mraise_from\u001b[0m\u001b[0;34m(\u001b[0m\u001b[0me\u001b[0m\u001b[0;34m,\u001b[0m \u001b[0;32mNone\u001b[0m\u001b[0;34m)\u001b[0m\u001b[0;34m\u001b[0m\u001b[0;34m\u001b[0m\u001b[0m\n\u001b[0m\u001b[1;32m    450\u001b[0m         \u001b[0;32mexcept\u001b[0m \u001b[0;34m(\u001b[0m\u001b[0mSocketTimeout\u001b[0m\u001b[0;34m,\u001b[0m \u001b[0mBaseSSLError\u001b[0m\u001b[0;34m,\u001b[0m \u001b[0mSocketError\u001b[0m\u001b[0;34m)\u001b[0m \u001b[0;32mas\u001b[0m \u001b[0me\u001b[0m\u001b[0;34m:\u001b[0m\u001b[0;34m\u001b[0m\u001b[0;34m\u001b[0m\u001b[0m\n\u001b[1;32m    451\u001b[0m             \u001b[0mself\u001b[0m\u001b[0;34m.\u001b[0m\u001b[0m_raise_timeout\u001b[0m\u001b[0;34m(\u001b[0m\u001b[0merr\u001b[0m\u001b[0;34m=\u001b[0m\u001b[0me\u001b[0m\u001b[0;34m,\u001b[0m \u001b[0murl\u001b[0m\u001b[0;34m=\u001b[0m\u001b[0murl\u001b[0m\u001b[0;34m,\u001b[0m \u001b[0mtimeout_value\u001b[0m\u001b[0;34m=\u001b[0m\u001b[0mread_timeout\u001b[0m\u001b[0;34m)\u001b[0m\u001b[0;34m\u001b[0m\u001b[0;34m\u001b[0m\u001b[0m\n",
      "\u001b[0;32m/opt/conda/lib/python3.7/site-packages/urllib3/packages/six.py\u001b[0m in \u001b[0;36mraise_from\u001b[0;34m(value, from_value)\u001b[0m\n",
      "\u001b[0;32m/opt/conda/lib/python3.7/site-packages/urllib3/connectionpool.py\u001b[0m in \u001b[0;36m_make_request\u001b[0;34m(self, conn, method, url, timeout, chunked, **httplib_request_kw)\u001b[0m\n\u001b[1;32m    442\u001b[0m                 \u001b[0;31m# Python 3\u001b[0m\u001b[0;34m\u001b[0m\u001b[0;34m\u001b[0m\u001b[0;34m\u001b[0m\u001b[0m\n\u001b[1;32m    443\u001b[0m                 \u001b[0;32mtry\u001b[0m\u001b[0;34m:\u001b[0m\u001b[0;34m\u001b[0m\u001b[0;34m\u001b[0m\u001b[0m\n\u001b[0;32m--> 444\u001b[0;31m                     \u001b[0mhttplib_response\u001b[0m \u001b[0;34m=\u001b[0m \u001b[0mconn\u001b[0m\u001b[0;34m.\u001b[0m\u001b[0mgetresponse\u001b[0m\u001b[0;34m(\u001b[0m\u001b[0;34m)\u001b[0m\u001b[0;34m\u001b[0m\u001b[0;34m\u001b[0m\u001b[0m\n\u001b[0m\u001b[1;32m    445\u001b[0m                 \u001b[0;32mexcept\u001b[0m \u001b[0mBaseException\u001b[0m \u001b[0;32mas\u001b[0m \u001b[0me\u001b[0m\u001b[0;34m:\u001b[0m\u001b[0;34m\u001b[0m\u001b[0;34m\u001b[0m\u001b[0m\n\u001b[1;32m    446\u001b[0m                     \u001b[0;31m# Remove the TypeError from the exception chain in\u001b[0m\u001b[0;34m\u001b[0m\u001b[0;34m\u001b[0m\u001b[0;34m\u001b[0m\u001b[0m\n",
      "\u001b[0;32m/opt/conda/lib/python3.7/http/client.py\u001b[0m in \u001b[0;36mgetresponse\u001b[0;34m(self)\u001b[0m\n\u001b[1;32m   1371\u001b[0m         \u001b[0;32mtry\u001b[0m\u001b[0;34m:\u001b[0m\u001b[0;34m\u001b[0m\u001b[0;34m\u001b[0m\u001b[0m\n\u001b[1;32m   1372\u001b[0m             \u001b[0;32mtry\u001b[0m\u001b[0;34m:\u001b[0m\u001b[0;34m\u001b[0m\u001b[0;34m\u001b[0m\u001b[0m\n\u001b[0;32m-> 1373\u001b[0;31m                 \u001b[0mresponse\u001b[0m\u001b[0;34m.\u001b[0m\u001b[0mbegin\u001b[0m\u001b[0;34m(\u001b[0m\u001b[0;34m)\u001b[0m\u001b[0;34m\u001b[0m\u001b[0;34m\u001b[0m\u001b[0m\n\u001b[0m\u001b[1;32m   1374\u001b[0m             \u001b[0;32mexcept\u001b[0m \u001b[0mConnectionError\u001b[0m\u001b[0;34m:\u001b[0m\u001b[0;34m\u001b[0m\u001b[0;34m\u001b[0m\u001b[0m\n\u001b[1;32m   1375\u001b[0m                 \u001b[0mself\u001b[0m\u001b[0;34m.\u001b[0m\u001b[0mclose\u001b[0m\u001b[0;34m(\u001b[0m\u001b[0;34m)\u001b[0m\u001b[0;34m\u001b[0m\u001b[0;34m\u001b[0m\u001b[0m\n",
      "\u001b[0;32m/opt/conda/lib/python3.7/http/client.py\u001b[0m in \u001b[0;36mbegin\u001b[0;34m(self)\u001b[0m\n\u001b[1;32m    317\u001b[0m         \u001b[0;31m# read until we get a non-100 response\u001b[0m\u001b[0;34m\u001b[0m\u001b[0;34m\u001b[0m\u001b[0;34m\u001b[0m\u001b[0m\n\u001b[1;32m    318\u001b[0m         \u001b[0;32mwhile\u001b[0m \u001b[0;32mTrue\u001b[0m\u001b[0;34m:\u001b[0m\u001b[0;34m\u001b[0m\u001b[0;34m\u001b[0m\u001b[0m\n\u001b[0;32m--> 319\u001b[0;31m             \u001b[0mversion\u001b[0m\u001b[0;34m,\u001b[0m \u001b[0mstatus\u001b[0m\u001b[0;34m,\u001b[0m \u001b[0mreason\u001b[0m \u001b[0;34m=\u001b[0m \u001b[0mself\u001b[0m\u001b[0;34m.\u001b[0m\u001b[0m_read_status\u001b[0m\u001b[0;34m(\u001b[0m\u001b[0;34m)\u001b[0m\u001b[0;34m\u001b[0m\u001b[0;34m\u001b[0m\u001b[0m\n\u001b[0m\u001b[1;32m    320\u001b[0m             \u001b[0;32mif\u001b[0m \u001b[0mstatus\u001b[0m \u001b[0;34m!=\u001b[0m \u001b[0mCONTINUE\u001b[0m\u001b[0;34m:\u001b[0m\u001b[0;34m\u001b[0m\u001b[0;34m\u001b[0m\u001b[0m\n\u001b[1;32m    321\u001b[0m                 \u001b[0;32mbreak\u001b[0m\u001b[0;34m\u001b[0m\u001b[0;34m\u001b[0m\u001b[0m\n",
      "\u001b[0;32m/opt/conda/lib/python3.7/http/client.py\u001b[0m in \u001b[0;36m_read_status\u001b[0;34m(self)\u001b[0m\n\u001b[1;32m    278\u001b[0m \u001b[0;34m\u001b[0m\u001b[0m\n\u001b[1;32m    279\u001b[0m     \u001b[0;32mdef\u001b[0m \u001b[0m_read_status\u001b[0m\u001b[0;34m(\u001b[0m\u001b[0mself\u001b[0m\u001b[0;34m)\u001b[0m\u001b[0;34m:\u001b[0m\u001b[0;34m\u001b[0m\u001b[0;34m\u001b[0m\u001b[0m\n\u001b[0;32m--> 280\u001b[0;31m         \u001b[0mline\u001b[0m \u001b[0;34m=\u001b[0m \u001b[0mstr\u001b[0m\u001b[0;34m(\u001b[0m\u001b[0mself\u001b[0m\u001b[0;34m.\u001b[0m\u001b[0mfp\u001b[0m\u001b[0;34m.\u001b[0m\u001b[0mreadline\u001b[0m\u001b[0;34m(\u001b[0m\u001b[0m_MAXLINE\u001b[0m \u001b[0;34m+\u001b[0m \u001b[0;36m1\u001b[0m\u001b[0;34m)\u001b[0m\u001b[0;34m,\u001b[0m \u001b[0;34m\"iso-8859-1\"\u001b[0m\u001b[0;34m)\u001b[0m\u001b[0;34m\u001b[0m\u001b[0;34m\u001b[0m\u001b[0m\n\u001b[0m\u001b[1;32m    281\u001b[0m         \u001b[0;32mif\u001b[0m \u001b[0mlen\u001b[0m\u001b[0;34m(\u001b[0m\u001b[0mline\u001b[0m\u001b[0;34m)\u001b[0m \u001b[0;34m>\u001b[0m \u001b[0m_MAXLINE\u001b[0m\u001b[0;34m:\u001b[0m\u001b[0;34m\u001b[0m\u001b[0;34m\u001b[0m\u001b[0m\n\u001b[1;32m    282\u001b[0m             \u001b[0;32mraise\u001b[0m \u001b[0mLineTooLong\u001b[0m\u001b[0;34m(\u001b[0m\u001b[0;34m\"status line\"\u001b[0m\u001b[0;34m)\u001b[0m\u001b[0;34m\u001b[0m\u001b[0;34m\u001b[0m\u001b[0m\n",
      "\u001b[0;32m/opt/conda/lib/python3.7/socket.py\u001b[0m in \u001b[0;36mreadinto\u001b[0;34m(self, b)\u001b[0m\n\u001b[1;32m    587\u001b[0m         \u001b[0;32mwhile\u001b[0m \u001b[0;32mTrue\u001b[0m\u001b[0;34m:\u001b[0m\u001b[0;34m\u001b[0m\u001b[0;34m\u001b[0m\u001b[0m\n\u001b[1;32m    588\u001b[0m             \u001b[0;32mtry\u001b[0m\u001b[0;34m:\u001b[0m\u001b[0;34m\u001b[0m\u001b[0;34m\u001b[0m\u001b[0m\n\u001b[0;32m--> 589\u001b[0;31m                 \u001b[0;32mreturn\u001b[0m \u001b[0mself\u001b[0m\u001b[0;34m.\u001b[0m\u001b[0m_sock\u001b[0m\u001b[0;34m.\u001b[0m\u001b[0mrecv_into\u001b[0m\u001b[0;34m(\u001b[0m\u001b[0mb\u001b[0m\u001b[0;34m)\u001b[0m\u001b[0;34m\u001b[0m\u001b[0;34m\u001b[0m\u001b[0m\n\u001b[0m\u001b[1;32m    590\u001b[0m             \u001b[0;32mexcept\u001b[0m \u001b[0mtimeout\u001b[0m\u001b[0;34m:\u001b[0m\u001b[0;34m\u001b[0m\u001b[0;34m\u001b[0m\u001b[0m\n\u001b[1;32m    591\u001b[0m                 \u001b[0mself\u001b[0m\u001b[0;34m.\u001b[0m\u001b[0m_timeout_occurred\u001b[0m \u001b[0;34m=\u001b[0m \u001b[0;32mTrue\u001b[0m\u001b[0;34m\u001b[0m\u001b[0;34m\u001b[0m\u001b[0m\n",
      "\u001b[0;32m/opt/conda/lib/python3.7/ssl.py\u001b[0m in \u001b[0;36mrecv_into\u001b[0;34m(self, buffer, nbytes, flags)\u001b[0m\n\u001b[1;32m   1069\u001b[0m                   \u001b[0;34m\"non-zero flags not allowed in calls to recv_into() on %s\"\u001b[0m \u001b[0;34m%\u001b[0m\u001b[0;34m\u001b[0m\u001b[0;34m\u001b[0m\u001b[0m\n\u001b[1;32m   1070\u001b[0m                   self.__class__)\n\u001b[0;32m-> 1071\u001b[0;31m             \u001b[0;32mreturn\u001b[0m \u001b[0mself\u001b[0m\u001b[0;34m.\u001b[0m\u001b[0mread\u001b[0m\u001b[0;34m(\u001b[0m\u001b[0mnbytes\u001b[0m\u001b[0;34m,\u001b[0m \u001b[0mbuffer\u001b[0m\u001b[0;34m)\u001b[0m\u001b[0;34m\u001b[0m\u001b[0;34m\u001b[0m\u001b[0m\n\u001b[0m\u001b[1;32m   1072\u001b[0m         \u001b[0;32melse\u001b[0m\u001b[0;34m:\u001b[0m\u001b[0;34m\u001b[0m\u001b[0;34m\u001b[0m\u001b[0m\n\u001b[1;32m   1073\u001b[0m             \u001b[0;32mreturn\u001b[0m \u001b[0msuper\u001b[0m\u001b[0;34m(\u001b[0m\u001b[0;34m)\u001b[0m\u001b[0;34m.\u001b[0m\u001b[0mrecv_into\u001b[0m\u001b[0;34m(\u001b[0m\u001b[0mbuffer\u001b[0m\u001b[0;34m,\u001b[0m \u001b[0mnbytes\u001b[0m\u001b[0;34m,\u001b[0m \u001b[0mflags\u001b[0m\u001b[0;34m)\u001b[0m\u001b[0;34m\u001b[0m\u001b[0;34m\u001b[0m\u001b[0m\n",
      "\u001b[0;32m/opt/conda/lib/python3.7/ssl.py\u001b[0m in \u001b[0;36mread\u001b[0;34m(self, len, buffer)\u001b[0m\n\u001b[1;32m    927\u001b[0m         \u001b[0;32mtry\u001b[0m\u001b[0;34m:\u001b[0m\u001b[0;34m\u001b[0m\u001b[0;34m\u001b[0m\u001b[0m\n\u001b[1;32m    928\u001b[0m             \u001b[0;32mif\u001b[0m \u001b[0mbuffer\u001b[0m \u001b[0;32mis\u001b[0m \u001b[0;32mnot\u001b[0m \u001b[0;32mNone\u001b[0m\u001b[0;34m:\u001b[0m\u001b[0;34m\u001b[0m\u001b[0;34m\u001b[0m\u001b[0m\n\u001b[0;32m--> 929\u001b[0;31m                 \u001b[0;32mreturn\u001b[0m \u001b[0mself\u001b[0m\u001b[0;34m.\u001b[0m\u001b[0m_sslobj\u001b[0m\u001b[0;34m.\u001b[0m\u001b[0mread\u001b[0m\u001b[0;34m(\u001b[0m\u001b[0mlen\u001b[0m\u001b[0;34m,\u001b[0m \u001b[0mbuffer\u001b[0m\u001b[0;34m)\u001b[0m\u001b[0;34m\u001b[0m\u001b[0;34m\u001b[0m\u001b[0m\n\u001b[0m\u001b[1;32m    930\u001b[0m             \u001b[0;32melse\u001b[0m\u001b[0;34m:\u001b[0m\u001b[0;34m\u001b[0m\u001b[0;34m\u001b[0m\u001b[0m\n\u001b[1;32m    931\u001b[0m                 \u001b[0;32mreturn\u001b[0m \u001b[0mself\u001b[0m\u001b[0;34m.\u001b[0m\u001b[0m_sslobj\u001b[0m\u001b[0;34m.\u001b[0m\u001b[0mread\u001b[0m\u001b[0;34m(\u001b[0m\u001b[0mlen\u001b[0m\u001b[0;34m)\u001b[0m\u001b[0;34m\u001b[0m\u001b[0;34m\u001b[0m\u001b[0m\n",
      "\u001b[0;31mKeyboardInterrupt\u001b[0m: "
     ]
    }
   ],
   "source": [
    "if not os.path.exists(f'{product}_push_merchants_in_application.csv'):\n",
    "    swipe_push_merchants_in_application = push_merchant_in_application_7d(task_id = task_id,order_date = order_date,table = table, status = status)\n",
    "    swipe_push_merchants_in_application.to_csv(f'{product}_push_merchants_in_application.csv', index = False)\n",
    "\n",
    "if not os.path.exists(f'{product}_total_push_merchants.csv'):\n",
    "    swipe_tot_push_merchants = total_push_merchants(task_id = task_id)\n",
    "    swipe_tot_push_merchants.to_csv(f'{product}_total_push_merchants.csv', index = False)\n",
    "\n",
    "if not os.path.exists(f'{product}_total_application_merchants.csv'):\n",
    "    swipe_tot_app_merchants = total_applications(table = table, status = status)\n",
    "    swipe_tot_app_merchants.to_csv(f'{product}_total_application_merchants.csv', index = False)\n",
    "\n",
    "if not os.path.exists(f'{product}_merchant_data_mart.csv'):\n",
    "    swipe_merchant_data_mart = merchant_data(task_id = task_id,table = table, status = status)\n",
    "    swipe_merchant_data_mart.to_csv(f'{product}_merchant_data_mart.csv', index = False)\n",
    "\n",
    "if not os.path.exists(f'trxn_{product}.csv'):\n",
    "    trxn_swipe = trx_data(task_id = task_id,order_date = order_date,table = table, status = status)\n",
    "    trxn_swipe.to_csv(f'trxn_{product}.csv', index = False)\n",
    "\n",
    "if not os.path.exists(f'app_{product}.csv'):\n",
    "    df1 = app_sessions(start_date = \"2020-01-01\", end_date = \"2021-01-01\",task_id = task_id,order_date = order_date,table = table,events = events, status = status)\n",
    "    df2 = app_sessions(start_date = \"2021-01-01\", end_date = \"2022-01-01\",task_id = task_id,order_date = order_date,table = table,events = events, status = status)\n",
    "    df3 = app_sessions(start_date = \"2022-01-01\", end_date = \"2023-01-01\",task_id = task_id,order_date = order_date,table = table,events = events, status = status)\n",
    "    df = pd.concat([df1,df2,df3], axis=0)\n",
    "    app_swipe = df.groupby(['merchant_id'])[['w1_sessions','m1_sessions']].sum().reset_index()\n",
    "    app_swipe.to_csv(f'app_{product}.csv', index = False)"
   ]
  },
  {
   "cell_type": "code",
   "execution_count": null,
   "id": "26fb197a-3b59-48d3-86de-3e1a4738fdfb",
   "metadata": {},
   "outputs": [],
   "source": [
    "print(f\"Table : {table} \\nTask_ID : {task_id} \\nProduct : {product}  \\ndate : {order_date} \\nevent : {events}\")"
   ]
  },
  {
   "cell_type": "code",
   "execution_count": null,
   "id": "6c55f23c-6330-4e56-ae99-384329caa546",
   "metadata": {},
   "outputs": [],
   "source": [
    "##### fp\n",
    "product = \"fp\"\n",
    "events = ('interest_account_page_visit','interest_account_otp_visit','interest_account')\n",
    "task_id = (3, -1)\n",
    "order_date = \"created_at\"\n",
    "table = \"deposit.fp_limit_increase_application\"\n",
    "status = ('APPROVED','INPROCESS','SUBMITTED','INIT')"
   ]
  },
  {
   "cell_type": "code",
   "execution_count": null,
   "id": "a5311e7a-0ad3-49e0-b45b-62f516d8b933",
   "metadata": {},
   "outputs": [],
   "source": [
    "if not os.path.exists(f'{product}_push_merchants_in_application.csv'):\n",
    "    swipe_push_merchants_in_application = push_merchant_in_application_7d(task_id = task_id,order_date = order_date,table = table, status = status)\n",
    "    swipe_push_merchants_in_application.to_csv(f'{product}_push_merchants_in_application.csv', index = False)\n",
    "\n",
    "if not os.path.exists(f'{product}_total_push_merchants.csv'):\n",
    "    swipe_tot_push_merchants = total_push_merchants(task_id = task_id)\n",
    "    swipe_tot_push_merchants.to_csv(f'{product}_total_push_merchants.csv', index = False)\n",
    "\n",
    "if not os.path.exists(f'{product}_total_application_merchants.csv'):\n",
    "    swipe_tot_app_merchants = total_applications(table = table, status = status)\n",
    "    swipe_tot_app_merchants.to_csv(f'{product}_total_application_merchants.csv', index = False)\n",
    "\n",
    "if not os.path.exists(f'{product}_merchant_data_mart.csv'):\n",
    "    swipe_merchant_data_mart = merchant_data(task_id = task_id,table = table, status = status)\n",
    "    swipe_merchant_data_mart.to_csv(f'{product}_merchant_data_mart.csv', index = False)\n",
    "\n",
    "if not os.path.exists(f'trxn_{product}.csv'):\n",
    "    trxn_swipe = trx_data(task_id = task_id,order_date = order_date,table = table, status = status)\n",
    "    trxn_swipe.to_csv(f'trxn_{product}.csv', index = False)\n",
    "\n",
    "if not os.path.exists(f'app_{product}.csv'):\n",
    "    df1 = app_sessions(start_date = \"2020-01-01\", end_date = \"2021-01-01\",task_id = task_id,order_date = order_date,table = table,events = events, status = status)\n",
    "    df2 = app_sessions(start_date = \"2021-01-01\", end_date = \"2022-01-01\",task_id = task_id,order_date = order_date,table = table,events = events, status = status)\n",
    "    df3 = app_sessions(start_date = \"2022-01-01\", end_date = \"2023-01-01\",task_id = task_id,order_date = order_date,table = table,events = events, status = status)\n",
    "    df = pd.concat([df1,df2,df3], axis=0)\n",
    "    app_swipe = df.groupby(['merchant_id'])[['w1_sessions','m1_sessions']].sum().reset_index()\n",
    "    app_swipe.to_csv(f'app_{product}.csv', index = False)"
   ]
  },
  {
   "cell_type": "code",
   "execution_count": null,
   "id": "2efd7e51-6970-444e-8000-f28e3144d8bb",
   "metadata": {},
   "outputs": [],
   "source": [
    "print(f\"Table : {table} \\nTask_ID : {task_id} \\nProduct : {product}  \\ndate : {order_date} \\nevent : {events}\")"
   ]
  },
  {
   "cell_type": "code",
   "execution_count": null,
   "id": "601e89a7-510a-48eb-88f8-c8b58a0e967a",
   "metadata": {},
   "outputs": [],
   "source": [
    "##### card\n",
    "product = \"card\"\n",
    "events = ('BPCD_Pan_pin_Page','BPCD_Enach_Page','BPCD_Credit_offer_Page','BPCD_Debit_offer_Page','bpb_card_upi_transaction_settlement_visited','bpb_card_order_click','bharatpe-card','card','card-offer')\n",
    "task_id = (4, -1)\n",
    "order_date = \"created_at\"\n",
    "table = \"lending.creditcard_application\"\n",
    "status = ('APPROVED','NA')"
   ]
  },
  {
   "cell_type": "code",
   "execution_count": null,
   "id": "340bc295-7c63-4e9c-90a9-af7e7e9ca185",
   "metadata": {},
   "outputs": [],
   "source": [
    "if not os.path.exists(f'{product}_push_merchants_in_application.csv'):\n",
    "    swipe_push_merchants_in_application = push_merchant_in_application_7d(task_id = task_id,order_date = order_date,table = table, status = status)\n",
    "    swipe_push_merchants_in_application.to_csv(f'{product}_push_merchants_in_application.csv', index = False)\n",
    "\n",
    "if not os.path.exists(f'{product}_total_push_merchants.csv'):\n",
    "    swipe_tot_push_merchants = total_push_merchants(task_id = task_id)\n",
    "    swipe_tot_push_merchants.to_csv(f'{product}_total_push_merchants.csv', index = False)\n",
    "\n",
    "if not os.path.exists(f'{product}_total_application_merchants.csv'):\n",
    "    swipe_tot_app_merchants = total_applications(table = table, status = status)\n",
    "    swipe_tot_app_merchants.to_csv(f'{product}_total_application_merchants.csv', index = False)\n",
    "\n",
    "if not os.path.exists(f'{product}_merchant_data_mart.csv'):\n",
    "    swipe_merchant_data_mart = merchant_data(task_id = task_id,table = table, status = status)\n",
    "    swipe_merchant_data_mart.to_csv(f'{product}_merchant_data_mart.csv', index = False)\n",
    "\n",
    "if not os.path.exists(f'trxn_{product}.csv'):\n",
    "    trxn_swipe = trx_data(task_id = task_id,order_date = order_date,table = table, status = status)\n",
    "    trxn_swipe.to_csv(f'trxn_{product}.csv', index = False)\n",
    "\n",
    "if not os.path.exists(f'app_{product}.csv'):\n",
    "    df1 = app_sessions(start_date = \"2020-01-01\", end_date = \"2021-01-01\",task_id = task_id,order_date = order_date,table = table,events = events, status = status)\n",
    "    df2 = app_sessions(start_date = \"2021-01-01\", end_date = \"2022-01-01\",task_id = task_id,order_date = order_date,table = table,events = events, status = status)\n",
    "    df3 = app_sessions(start_date = \"2022-01-01\", end_date = \"2023-01-01\",task_id = task_id,order_date = order_date,table = table,events = events, status = status)\n",
    "    df = pd.concat([df1,df2,df3], axis=0)\n",
    "    app_swipe = df.groupby(['merchant_id'])[['w1_sessions','m1_sessions']].sum().reset_index()\n",
    "    app_swipe.to_csv(f'app_{product}.csv', index = False)"
   ]
  },
  {
   "cell_type": "code",
   "execution_count": null,
   "id": "f35276be-4f3e-4ac5-991f-5f2761843434",
   "metadata": {},
   "outputs": [],
   "source": [
    "print(f\"Table : {table} \\nTask_ID : {task_id} \\nProduct : {product}  \\ndate : {order_date} \\nevent : {events}\")"
   ]
  }
 ],
 "metadata": {
  "environment": {
   "kernel": "python3",
   "name": "common-cpu.m98",
   "type": "gcloud",
   "uri": "gcr.io/deeplearning-platform-release/base-cpu:m98"
  },
  "kernelspec": {
   "display_name": "Python 3",
   "language": "python",
   "name": "python3"
  },
  "language_info": {
   "codemirror_mode": {
    "name": "ipython",
    "version": 3
   },
   "file_extension": ".py",
   "mimetype": "text/x-python",
   "name": "python",
   "nbconvert_exporter": "python",
   "pygments_lexer": "ipython3",
   "version": "3.7.12"
  }
 },
 "nbformat": 4,
 "nbformat_minor": 5
}
