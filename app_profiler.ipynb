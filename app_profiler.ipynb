{
 "cells": [
  {
   "cell_type": "code",
   "execution_count": 1,
   "id": "eaec0bef-e52a-40d6-9c2f-4bb76d69bab5",
   "metadata": {},
   "outputs": [],
   "source": [
    "import pandas as pd\n",
    "import numpy as np\n",
    "import pandas_gbq\n",
    "import os.path\n",
    "from pandas.io.json import json_normalize\n",
    "from datetime import datetime"
   ]
  },
  {
   "cell_type": "code",
   "execution_count": 2,
   "id": "365d1535-0dd0-4944-87aa-75fbf3ed0fc4",
   "metadata": {},
   "outputs": [],
   "source": [
    "query = \"\"\"\n",
    "\n",
    "WITH\n",
    "  max_date AS (\n",
    "  SELECT\n",
    "    merchant_id,\n",
    "    MAX(date) MaxDate,\n",
    "  FROM\n",
    "    bharatpe-analytics-prod.bharatpe_mongo_data.merchant_psp_dump\n",
    "  WHERE\n",
    "    date>'2018-01-01'\n",
    "  GROUP BY\n",
    "    merchant_id )\n",
    "SELECT\n",
    "  app.merchant_id,\n",
    "  app_details\n",
    "FROM\n",
    "  bharatpe-analytics-prod.bharatpe_mongo_data.merchant_psp_dump app\n",
    "JOIN\n",
    "  max_date\n",
    "ON\n",
    "  max_date.merchant_id = app.merchant_id\n",
    "  AND max_date.MaxDate = app.date\n",
    "WHERE\n",
    "  date>'2018-01-01'\n",
    "  AND app.merchant_id IN (\n",
    "  SELECT\n",
    "    merchant_id\n",
    "  FROM (\n",
    "    SELECT\n",
    "      merchant_id,\n",
    "      COUNT(DISTINCT id) AS txns,\n",
    "      SUM(amount) AS tpv\n",
    "    FROM\n",
    "      bharatpe-analytics-prod.payin.transactions\n",
    "    WHERE\n",
    "      status = \"SUCCESS\"\n",
    "      AND DATE(payment_timestamp) >= DATE_SUB(CURRENT_DATE(), INTERVAL 90 DAY)\n",
    "    GROUP BY\n",
    "      1\n",
    "    HAVING\n",
    "      txns >=5\n",
    "      AND tpv >= 150 ) )\n",
    "\n",
    "\"\"\""
   ]
  },
  {
   "cell_type": "code",
   "execution_count": 3,
   "id": "6e4246bf-81fc-4e56-a938-ef7858035c24",
   "metadata": {},
   "outputs": [
    {
     "name": "stderr",
     "output_type": "stream",
     "text": [
      "Downloading: 100%|██████████| 1842735/1842735 [06:29<00:00, 4727.68rows/s]\n"
     ]
    }
   ],
   "source": [
    "df = pandas_gbq.read_gbq(query)"
   ]
  },
  {
   "cell_type": "code",
   "execution_count": 4,
   "id": "df2618e6-9f03-4941-974f-7eefd8b29b79",
   "metadata": {},
   "outputs": [],
   "source": [
    "# df['partition'] = df['merchant_id'].mod(100)"
   ]
  },
  {
   "cell_type": "code",
   "execution_count": 5,
   "id": "169166d9-68e2-44a6-8a96-b80b6b0f2cf8",
   "metadata": {},
   "outputs": [],
   "source": [
    "app_sessions = \"\"\"\n",
    "\n",
    "WITH\n",
    "      merchant_list AS (\n",
    "      SELECT\n",
    "        pt.merchant_id,\n",
    "        dm.mid,\n",
    "        COUNT(DISTINCT id) AS txns,\n",
    "        SUM(amount) AS tpv\n",
    "      FROM\n",
    "        bharatpe-analytics-prod.payin.transactions pt\n",
    "      JOIN\n",
    "        `bharatpe-analytics-prod.bharatpe_data_platfrom.universal_merchant_data_mart` dm\n",
    "      ON\n",
    "        pt.merchant_id = dm.merchant_id\n",
    "      WHERE\n",
    "        status = \"SUCCESS\"\n",
    "        AND dm.merchant_created_at >= \"2018-01-01\"\n",
    "        AND DATE(payment_timestamp) >= DATE_SUB(CURRENT_DATE(), INTERVAL 90 DAY)\n",
    "      GROUP BY\n",
    "        1,\n",
    "        2\n",
    "      HAVING\n",
    "        txns >=5 and tpv >= 150),\n",
    "      app1 AS (\n",
    "      SELECT\n",
    "        mid,\n",
    "        DATE(created_at) AS created_at,\n",
    "        count(session_id) as sessions,\n",
    "        CURRENT_DATE() AS today\n",
    "       \n",
    "      FROM\n",
    "        bharatpe-analytics-prod.bharatpe_analytics_data.app_event\n",
    "      WHERE\n",
    "        DATE(created_at) >= DATE_SUB(CURRENT_DATE(), INTERVAL 31 DAY)\n",
    "      GROUP BY\n",
    "        1,\n",
    "        2 ),\n",
    "      app2 AS (\n",
    "      SELECT\n",
    "        mid,\n",
    "        SUM(CASE\n",
    "            WHEN created_at < today AND created_at >= DATE_SUB(today, INTERVAL 7 DAY) THEN sessions\n",
    "          ELSE\n",
    "          0\n",
    "        END\n",
    "          ) AS w1_sessions,\n",
    "        SUM(CASE\n",
    "            WHEN created_at < today AND created_at >= DATE_SUB(today, INTERVAL 30 DAY) THEN sessions\n",
    "          ELSE\n",
    "          0\n",
    "        END\n",
    "          ) AS m1_sessions\n",
    "      FROM\n",
    "        app1\n",
    "      GROUP BY\n",
    "        1 )\n",
    "    SELECT\n",
    "      ml.merchant_id,\n",
    "      w1_sessions,\n",
    "      m1_sessions\n",
    "    FROM\n",
    "      app2\n",
    "    JOIN\n",
    "      merchant_list AS ml\n",
    "    ON\n",
    "      app2.mid = ml.mid\n",
    "\"\"\""
   ]
  },
  {
   "cell_type": "code",
   "execution_count": 6,
   "id": "b36b419b-4a75-40f6-ada6-020aeded8733",
   "metadata": {},
   "outputs": [
    {
     "name": "stderr",
     "output_type": "stream",
     "text": [
      "Downloading: 100%|██████████| 2462243/2462243 [00:48<00:00, 50985.79rows/s]\n"
     ]
    }
   ],
   "source": [
    "app_data = pandas_gbq.read_gbq(app_sessions)"
   ]
  },
  {
   "cell_type": "code",
   "execution_count": 7,
   "id": "b6e35be7-0db2-44d2-8050-138080aeb38b",
   "metadata": {},
   "outputs": [],
   "source": [
    "session_dic = app_data.set_index(\"merchant_id\")['w1_sessions'].to_dict()"
   ]
  },
  {
   "cell_type": "code",
   "execution_count": 8,
   "id": "852d220c-891a-44ac-84f6-c3b2d5885b1b",
   "metadata": {},
   "outputs": [],
   "source": [
    "del (app_data)"
   ]
  },
  {
   "cell_type": "code",
   "execution_count": 9,
   "id": "414bb0d3-3dff-49f3-a300-5f1d548c3f2c",
   "metadata": {},
   "outputs": [],
   "source": [
    "def apps(x): \n",
    "    try:\n",
    "        ev = eval(x[1:-1])\n",
    "        result = [ev[i]['appName'] for i in range(0,len(ev))]\n",
    "    except:\n",
    "        result = []\n",
    "    return result\n",
    "\n",
    "def packages(x): \n",
    "    try:\n",
    "        ev = eval(x[1:-1])\n",
    "        result = [ev[i]['packageName'] for i in range(0,len(ev))]\n",
    "    except:\n",
    "        result = []\n",
    "    return result\n",
    "    \n",
    "    # return [eval(x[1:-1])[i]['appName'] for i in range(0,len(eval(x[1:-1])))]\n",
    "    "
   ]
  },
  {
   "cell_type": "code",
   "execution_count": 10,
   "id": "3e219455-1a75-411a-a124-223677b05650",
   "metadata": {},
   "outputs": [],
   "source": [
    "start = datetime.now()"
   ]
  },
  {
   "cell_type": "code",
   "execution_count": 11,
   "id": "decf9c2d-36f8-42c9-a214-24095dcfddd6",
   "metadata": {},
   "outputs": [],
   "source": [
    "df['app_names'] = df['app_details'].apply(lambda x :apps(x))"
   ]
  },
  {
   "cell_type": "code",
   "execution_count": 12,
   "id": "2ebc37a9-120c-4cee-879e-96503a980111",
   "metadata": {},
   "outputs": [],
   "source": [
    "# df['package_names'] = df['app_details'].apply(lambda x :packages(x))"
   ]
  },
  {
   "cell_type": "code",
   "execution_count": 13,
   "id": "14aa034d-8476-4d91-99ef-86b868055d0d",
   "metadata": {},
   "outputs": [],
   "source": [
    "end = datetime.now()"
   ]
  },
  {
   "cell_type": "code",
   "execution_count": 14,
   "id": "e5ddc4a7-d0b1-4470-b4ab-d78af4a78998",
   "metadata": {},
   "outputs": [
    {
     "data": {
      "text/plain": [
       "datetime.timedelta(seconds=363, microseconds=138304)"
      ]
     },
     "execution_count": 14,
     "metadata": {},
     "output_type": "execute_result"
    }
   ],
   "source": [
    "end - start"
   ]
  },
  {
   "cell_type": "code",
   "execution_count": 15,
   "id": "7e891b5a-6797-4ebc-8946-e58268611118",
   "metadata": {},
   "outputs": [],
   "source": [
    "df.to_csv(\"apps.csv\", index = False)"
   ]
  },
  {
   "cell_type": "code",
   "execution_count": 16,
   "id": "c612b7e4-577e-44c4-a99a-241128ec6b8d",
   "metadata": {},
   "outputs": [],
   "source": [
    "# df = pd.read_csv(\"apps.csv\")"
   ]
  },
  {
   "cell_type": "code",
   "execution_count": 17,
   "id": "a887a7c9-7e07-4594-887d-f2df3ddce645",
   "metadata": {},
   "outputs": [],
   "source": [
    "d = {}\n",
    "for item in df['app_names']:\n",
    "    for el in item:\n",
    "        if el in d:\n",
    "            d[el] +=1\n",
    "        else:\n",
    "            d[el]=1      "
   ]
  },
  {
   "cell_type": "code",
   "execution_count": 18,
   "id": "6e9ccc11-4536-441b-9b91-f3efa3efafc7",
   "metadata": {},
   "outputs": [],
   "source": [
    "relevant_apps = [\n",
    " 'PhonePe',\n",
    " 'Paytm',\n",
    " 'GPay',\n",
    " 'PhonePe Business',\n",
    " 'Paytm for Business',\n",
    " 'Google Pay for Business',\n",
    " 'WhatsApp\\xa0Business',\n",
    " 'Bajaj Finserv',\n",
    " 'Duo',\n",
    " 'Khatabook',\n",
    " 'Kotak Bank',\n",
    " 'HDFC Bank',\n",
    " 'CRED',\n",
    " 'Axis Mobile',\n",
    " 'MobiKwik',\n",
    " 'iMobile Pay',\n",
    " 'OkCredit',\n",
    " 'BHIM',\n",
    " 'Amazon Pay for Business',\n",
    " 'LinkedIn',\n",
    " ]"
   ]
  },
  {
   "cell_type": "code",
   "execution_count": 19,
   "id": "ad6abd4a-c17b-4d0e-8c63-eb3f64c74451",
   "metadata": {},
   "outputs": [
    {
     "data": {
      "text/plain": [
       "[('BharatPe', 1841874),\n",
       " ('WhatsApp', 1702639),\n",
       " ('PhonePe', 1502206),\n",
       " ('Truecaller', 1230518),\n",
       " ('Drive', 1194357)]"
      ]
     },
     "execution_count": 19,
     "metadata": {},
     "output_type": "execute_result"
    }
   ],
   "source": [
    "sorted(d.items(), key=lambda x: -x[1])[:5]\n",
    "# [i[0] for i in  sorted(d.items(), key=lambda x: -x[1])[:100]]"
   ]
  },
  {
   "cell_type": "code",
   "execution_count": 20,
   "id": "033b3c3b-5229-4d32-aa35-8d77397de9ec",
   "metadata": {},
   "outputs": [],
   "source": [
    "apps_list = [\"com.loan.cash.credit.easy.dhan.quick.udhaar.lend.game.jaldi.paisa.borrow.rupee.play.kredit\",\"com.kreditbee.android\",\\\n",
    "             \"com.portal.hcin\",\"com.capitalfirst\",\"com.fastbanking\",\"com.whizdm.moneyview.loans\",\"com.indigo.hdfcloans\",\\\n",
    "             \"com.nucleus.finnone.mobile.mserve.hdb.eng\",\"com.kreditzy.android\",\"in.zestmoney.android.zestlife\",\"com.fincare.mb\"\\\n",
    "             ,\"com.muthootfinance.imuthoot\",\"com.whizdm.moneyview\",\"com.tvscs.tvscreditapp\",\"com.mycash.moneytap.app\",\"com.manappuram.b2c\"\\\n",
    "             ,\"com.indialends.android\",\"com.nanocred.cash.kredit.loan.dhan.fast.quick.easy.borrow.lend.paisa\",\"in.loanfront.android\",\\\n",
    "             \"com.jc.icredit\",\"com.naviapp\",\"com.okcash.liufang\",\"com.kn.instarupee\",\"com.xu.pineapple.free\",\"com.gocash.liufang\",\\\n",
    "             \"com.nexgen.nexmoney\",\"com.lucifer.onepay\",\"com.creditmantri\",\"videos.share.rozdhan\",\"com.snapwork.tcl\",\"com.indiabulls.dhanibiz\"\\\n",
    "             ,\"com.lendingadda.jienavi\",\"in.cashmama.app\",\"com.GotoCash\",\"com.earlysalary.android\",\"com.frogx.ieasyloan\",\\\n",
    "             \"com.muthootfincorp.mymuthoot\",\"com.iifl.mobile.hfc\",\"com.rong360.android_abroad_loans\",\"com.mycytwo.zy\",\"com.lending.rupeehub\",\\\n",
    "             \"com.getrupee.indiaapp\",\"com.wisekredit.wisekredit\",\"com.LendingKart\",\"com.simple.cm\",\"com.flexiloan\",\"com.particle.videoplayapp\",\\\n",
    "             \"com.sbi.apps.sbi_loans\",\"com.balancehero.truebalance\"]"
   ]
  },
  {
   "cell_type": "code",
   "execution_count": 21,
   "id": "7f47cad5-1410-41ab-8d0a-61bc9c3d8794",
   "metadata": {},
   "outputs": [],
   "source": [
    "df['relevant_apps'] = df['app_names'].apply(lambda x:len(set(x).intersection(relevant_apps)))"
   ]
  },
  {
   "cell_type": "code",
   "execution_count": 22,
   "id": "4e2cbbd7-f3ca-4549-8708-9481308bccae",
   "metadata": {},
   "outputs": [],
   "source": [
    "df['total_apps'] = df['app_names'].apply(lambda x:len(x))"
   ]
  },
  {
   "cell_type": "code",
   "execution_count": 23,
   "id": "0cebdad0-6710-436e-8758-1902ae9257f7",
   "metadata": {},
   "outputs": [],
   "source": [
    "df['w1_sessions'] = df['merchant_id'].map(session_dic)"
   ]
  },
  {
   "cell_type": "code",
   "execution_count": 24,
   "id": "7e808494-a1fa-46c7-9253-863312079298",
   "metadata": {},
   "outputs": [],
   "source": [
    "df['w1_sessions_bins'] = pd.cut(df['w1_sessions'], bins=[df['w1_sessions'].describe()['min'], df['w1_sessions'].describe()['25%']\\\n",
    "                                                       , df['w1_sessions'].describe()['50%'], df['w1_sessions'].describe()['75%']\\\n",
    "                                                       ,df['w1_sessions'].describe()['max']])"
   ]
  },
  {
   "cell_type": "code",
   "execution_count": 25,
   "id": "5801beec-8650-405d-913e-d3e685b06f85",
   "metadata": {},
   "outputs": [],
   "source": [
    "df['total_apps_bins'] = pd.cut(df['total_apps'], bins=[df['total_apps'].describe()['min'], df['total_apps'].describe()['25%']\\\n",
    "                                                       , df['total_apps'].describe()['50%'], df['total_apps'].describe()['75%']\\\n",
    "                                                       ,df['total_apps'].describe()['max']])"
   ]
  },
  {
   "cell_type": "code",
   "execution_count": 26,
   "id": "65849245-4c5d-4a41-a746-56a76c4b34c0",
   "metadata": {},
   "outputs": [],
   "source": [
    "df['relevant_apps_bins'] = pd.cut(df['relevant_apps'], bins=[df['relevant_apps'].describe()['min'], df['relevant_apps'].describe()['25%']\\\n",
    "                                                       , df['relevant_apps'].describe()['50%'], df['relevant_apps'].describe()['75%']\\\n",
    "                                                       ,df['relevant_apps'].describe()['max']])"
   ]
  },
  {
   "cell_type": "code",
   "execution_count": 27,
   "id": "415951ed-baa4-4be0-a467-3c88de937115",
   "metadata": {},
   "outputs": [],
   "source": [
    "# pd.pivot_table(df, values ='merchant_id', index =['total_apps_bins'],columns =['relevant_apps_bins'], aggfunc = pd.Series.nunique)"
   ]
  },
  {
   "cell_type": "code",
   "execution_count": 28,
   "id": "bf009694-9161-4c28-ad63-c25bfd5ddbba",
   "metadata": {},
   "outputs": [
    {
     "data": {
      "text/html": [
       "<div>\n",
       "<style scoped>\n",
       "    .dataframe tbody tr th:only-of-type {\n",
       "        vertical-align: middle;\n",
       "    }\n",
       "\n",
       "    .dataframe tbody tr th {\n",
       "        vertical-align: top;\n",
       "    }\n",
       "\n",
       "    .dataframe thead th {\n",
       "        text-align: right;\n",
       "    }\n",
       "</style>\n",
       "<table border=\"1\" class=\"dataframe\">\n",
       "  <thead>\n",
       "    <tr style=\"text-align: right;\">\n",
       "      <th>relevant_apps_bins</th>\n",
       "      <th>(0.0, 2.0]</th>\n",
       "      <th>(2.0, 4.0]</th>\n",
       "      <th>(4.0, 6.0]</th>\n",
       "      <th>(6.0, 18.0]</th>\n",
       "    </tr>\n",
       "    <tr>\n",
       "      <th>w1_sessions_bins</th>\n",
       "      <th></th>\n",
       "      <th></th>\n",
       "      <th></th>\n",
       "      <th></th>\n",
       "    </tr>\n",
       "  </thead>\n",
       "  <tbody>\n",
       "    <tr>\n",
       "      <th>(0.0, 30.0]</th>\n",
       "      <td>30683</td>\n",
       "      <td>43438</td>\n",
       "      <td>31528</td>\n",
       "      <td>22659</td>\n",
       "    </tr>\n",
       "    <tr>\n",
       "      <th>(30.0, 172.0]</th>\n",
       "      <td>101587</td>\n",
       "      <td>139604</td>\n",
       "      <td>100042</td>\n",
       "      <td>79086</td>\n",
       "    </tr>\n",
       "    <tr>\n",
       "      <th>(172.0, 480.0]</th>\n",
       "      <td>98131</td>\n",
       "      <td>137263</td>\n",
       "      <td>102566</td>\n",
       "      <td>83838</td>\n",
       "    </tr>\n",
       "    <tr>\n",
       "      <th>(480.0, 345915.0]</th>\n",
       "      <td>85454</td>\n",
       "      <td>133036</td>\n",
       "      <td>110935</td>\n",
       "      <td>96484</td>\n",
       "    </tr>\n",
       "  </tbody>\n",
       "</table>\n",
       "</div>"
      ],
      "text/plain": [
       "relevant_apps_bins  (0.0, 2.0]  (2.0, 4.0]  (4.0, 6.0]  (6.0, 18.0]\n",
       "w1_sessions_bins                                                   \n",
       "(0.0, 30.0]              30683       43438       31528        22659\n",
       "(30.0, 172.0]           101587      139604      100042        79086\n",
       "(172.0, 480.0]           98131      137263      102566        83838\n",
       "(480.0, 345915.0]        85454      133036      110935        96484"
      ]
     },
     "execution_count": 28,
     "metadata": {},
     "output_type": "execute_result"
    }
   ],
   "source": [
    "pd.pivot_table(df, values ='merchant_id', index =['w1_sessions_bins'],columns =['relevant_apps_bins'], aggfunc = pd.Series.nunique)"
   ]
  },
  {
   "cell_type": "code",
   "execution_count": 29,
   "id": "f5bc800c-7b17-4462-9ab1-06c09fd84132",
   "metadata": {},
   "outputs": [],
   "source": [
    "# c1 = df['relevant_apps'] >= 4\n",
    "# c2 = df['total_apps']>= 38\n",
    "# c = (c1) & (c2)\n",
    "# df['Channel'] = np.where(c, 'Digital','Offline')\n",
    "\n",
    "c1 = df['relevant_apps'] >= 4\n",
    "c2 = df['w1_sessions']>= 480\n",
    "c = (c1) & (c2)\n",
    "df['Channel'] = np.where(c, 'Digital','Offline')"
   ]
  },
  {
   "cell_type": "code",
   "execution_count": 30,
   "id": "b073c69d-a671-4204-bf2a-c22175836116",
   "metadata": {},
   "outputs": [],
   "source": [
    "df[df['Channel'] == 'Digital'][['merchant_id']].to_csv(\"digital_merchants.csv\", index = False)"
   ]
  }
 ],
 "metadata": {
  "environment": {
   "kernel": "python3",
   "name": "common-cpu.m98",
   "type": "gcloud",
   "uri": "gcr.io/deeplearning-platform-release/base-cpu:m98"
  },
  "kernelspec": {
   "display_name": "Python 3",
   "language": "python",
   "name": "python3"
  },
  "language_info": {
   "codemirror_mode": {
    "name": "ipython",
    "version": 3
   },
   "file_extension": ".py",
   "mimetype": "text/x-python",
   "name": "python",
   "nbconvert_exporter": "python",
   "pygments_lexer": "ipython3",
   "version": "3.7.12"
  }
 },
 "nbformat": 4,
 "nbformat_minor": 5
}
